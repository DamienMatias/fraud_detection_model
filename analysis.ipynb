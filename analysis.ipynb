{
 "cells": [
  {
   "cell_type": "code",
   "execution_count": 1,
   "metadata": {
    "collapsed": true
   },
   "outputs": [],
   "source": [
    "import numpy as np # linear algebra\n",
    "import pandas as pd # data processing, CSV file I/O (e.g. pd.read_csv)\n",
    "import matplotlib.pyplot as plt\n",
    "import itertools\n",
    "import scipy.stats as st\n",
    "\n",
    "from sklearn.preprocessing import StandardScaler\n",
    "from sklearn.model_selection import train_test_split, GridSearchCV\n",
    "from sklearn.metrics import mean_squared_error, confusion_matrix\n",
    "from sklearn.linear_model import LogisticRegression\n",
    "from sklearn.svm import SVC, OneClassSVM\n",
    "from sklearn.ensemble import RandomForestClassifier\n",
    "from sklearn.pipeline import Pipeline\n",
    "from sklearn.preprocessing import MinMaxScaler\n",
    "from sklearn import metrics\n",
    "from xgboost.sklearn import XGBClassifier \n",
    "from sklearn.model_selection import RandomizedSearchCV\n",
    "\n",
    "\n",
    "%matplotlib inline"
   ]
  },
  {
   "cell_type": "code",
   "execution_count": 2,
   "metadata": {},
   "outputs": [
    {
     "data": {
      "text/html": [
       "<div>\n",
       "<style>\n",
       "    .dataframe thead tr:only-child th {\n",
       "        text-align: right;\n",
       "    }\n",
       "\n",
       "    .dataframe thead th {\n",
       "        text-align: left;\n",
       "    }\n",
       "\n",
       "    .dataframe tbody tr th {\n",
       "        vertical-align: top;\n",
       "    }\n",
       "</style>\n",
       "<table border=\"1\" class=\"dataframe\">\n",
       "  <thead>\n",
       "    <tr style=\"text-align: right;\">\n",
       "      <th></th>\n",
       "      <th>Time</th>\n",
       "      <th>V1</th>\n",
       "      <th>V2</th>\n",
       "      <th>V3</th>\n",
       "      <th>V4</th>\n",
       "      <th>V5</th>\n",
       "      <th>V6</th>\n",
       "      <th>V7</th>\n",
       "      <th>V8</th>\n",
       "      <th>V9</th>\n",
       "      <th>...</th>\n",
       "      <th>V21</th>\n",
       "      <th>V22</th>\n",
       "      <th>V23</th>\n",
       "      <th>V24</th>\n",
       "      <th>V25</th>\n",
       "      <th>V26</th>\n",
       "      <th>V27</th>\n",
       "      <th>V28</th>\n",
       "      <th>Amount</th>\n",
       "      <th>Class</th>\n",
       "    </tr>\n",
       "  </thead>\n",
       "  <tbody>\n",
       "    <tr>\n",
       "      <th>0</th>\n",
       "      <td>0.0</td>\n",
       "      <td>-1.359807</td>\n",
       "      <td>-0.072781</td>\n",
       "      <td>2.536347</td>\n",
       "      <td>1.378155</td>\n",
       "      <td>-0.338321</td>\n",
       "      <td>0.462388</td>\n",
       "      <td>0.239599</td>\n",
       "      <td>0.098698</td>\n",
       "      <td>0.363787</td>\n",
       "      <td>...</td>\n",
       "      <td>-0.018307</td>\n",
       "      <td>0.277838</td>\n",
       "      <td>-0.110474</td>\n",
       "      <td>0.066928</td>\n",
       "      <td>0.128539</td>\n",
       "      <td>-0.189115</td>\n",
       "      <td>0.133558</td>\n",
       "      <td>-0.021053</td>\n",
       "      <td>149.62</td>\n",
       "      <td>0</td>\n",
       "    </tr>\n",
       "    <tr>\n",
       "      <th>1</th>\n",
       "      <td>0.0</td>\n",
       "      <td>1.191857</td>\n",
       "      <td>0.266151</td>\n",
       "      <td>0.166480</td>\n",
       "      <td>0.448154</td>\n",
       "      <td>0.060018</td>\n",
       "      <td>-0.082361</td>\n",
       "      <td>-0.078803</td>\n",
       "      <td>0.085102</td>\n",
       "      <td>-0.255425</td>\n",
       "      <td>...</td>\n",
       "      <td>-0.225775</td>\n",
       "      <td>-0.638672</td>\n",
       "      <td>0.101288</td>\n",
       "      <td>-0.339846</td>\n",
       "      <td>0.167170</td>\n",
       "      <td>0.125895</td>\n",
       "      <td>-0.008983</td>\n",
       "      <td>0.014724</td>\n",
       "      <td>2.69</td>\n",
       "      <td>0</td>\n",
       "    </tr>\n",
       "    <tr>\n",
       "      <th>2</th>\n",
       "      <td>1.0</td>\n",
       "      <td>-1.358354</td>\n",
       "      <td>-1.340163</td>\n",
       "      <td>1.773209</td>\n",
       "      <td>0.379780</td>\n",
       "      <td>-0.503198</td>\n",
       "      <td>1.800499</td>\n",
       "      <td>0.791461</td>\n",
       "      <td>0.247676</td>\n",
       "      <td>-1.514654</td>\n",
       "      <td>...</td>\n",
       "      <td>0.247998</td>\n",
       "      <td>0.771679</td>\n",
       "      <td>0.909412</td>\n",
       "      <td>-0.689281</td>\n",
       "      <td>-0.327642</td>\n",
       "      <td>-0.139097</td>\n",
       "      <td>-0.055353</td>\n",
       "      <td>-0.059752</td>\n",
       "      <td>378.66</td>\n",
       "      <td>0</td>\n",
       "    </tr>\n",
       "    <tr>\n",
       "      <th>3</th>\n",
       "      <td>1.0</td>\n",
       "      <td>-0.966272</td>\n",
       "      <td>-0.185226</td>\n",
       "      <td>1.792993</td>\n",
       "      <td>-0.863291</td>\n",
       "      <td>-0.010309</td>\n",
       "      <td>1.247203</td>\n",
       "      <td>0.237609</td>\n",
       "      <td>0.377436</td>\n",
       "      <td>-1.387024</td>\n",
       "      <td>...</td>\n",
       "      <td>-0.108300</td>\n",
       "      <td>0.005274</td>\n",
       "      <td>-0.190321</td>\n",
       "      <td>-1.175575</td>\n",
       "      <td>0.647376</td>\n",
       "      <td>-0.221929</td>\n",
       "      <td>0.062723</td>\n",
       "      <td>0.061458</td>\n",
       "      <td>123.50</td>\n",
       "      <td>0</td>\n",
       "    </tr>\n",
       "    <tr>\n",
       "      <th>4</th>\n",
       "      <td>2.0</td>\n",
       "      <td>-1.158233</td>\n",
       "      <td>0.877737</td>\n",
       "      <td>1.548718</td>\n",
       "      <td>0.403034</td>\n",
       "      <td>-0.407193</td>\n",
       "      <td>0.095921</td>\n",
       "      <td>0.592941</td>\n",
       "      <td>-0.270533</td>\n",
       "      <td>0.817739</td>\n",
       "      <td>...</td>\n",
       "      <td>-0.009431</td>\n",
       "      <td>0.798278</td>\n",
       "      <td>-0.137458</td>\n",
       "      <td>0.141267</td>\n",
       "      <td>-0.206010</td>\n",
       "      <td>0.502292</td>\n",
       "      <td>0.219422</td>\n",
       "      <td>0.215153</td>\n",
       "      <td>69.99</td>\n",
       "      <td>0</td>\n",
       "    </tr>\n",
       "  </tbody>\n",
       "</table>\n",
       "<p>5 rows × 31 columns</p>\n",
       "</div>"
      ],
      "text/plain": [
       "   Time        V1        V2        V3        V4        V5        V6        V7  \\\n",
       "0   0.0 -1.359807 -0.072781  2.536347  1.378155 -0.338321  0.462388  0.239599   \n",
       "1   0.0  1.191857  0.266151  0.166480  0.448154  0.060018 -0.082361 -0.078803   \n",
       "2   1.0 -1.358354 -1.340163  1.773209  0.379780 -0.503198  1.800499  0.791461   \n",
       "3   1.0 -0.966272 -0.185226  1.792993 -0.863291 -0.010309  1.247203  0.237609   \n",
       "4   2.0 -1.158233  0.877737  1.548718  0.403034 -0.407193  0.095921  0.592941   \n",
       "\n",
       "         V8        V9  ...         V21       V22       V23       V24  \\\n",
       "0  0.098698  0.363787  ...   -0.018307  0.277838 -0.110474  0.066928   \n",
       "1  0.085102 -0.255425  ...   -0.225775 -0.638672  0.101288 -0.339846   \n",
       "2  0.247676 -1.514654  ...    0.247998  0.771679  0.909412 -0.689281   \n",
       "3  0.377436 -1.387024  ...   -0.108300  0.005274 -0.190321 -1.175575   \n",
       "4 -0.270533  0.817739  ...   -0.009431  0.798278 -0.137458  0.141267   \n",
       "\n",
       "        V25       V26       V27       V28  Amount  Class  \n",
       "0  0.128539 -0.189115  0.133558 -0.021053  149.62      0  \n",
       "1  0.167170  0.125895 -0.008983  0.014724    2.69      0  \n",
       "2 -0.327642 -0.139097 -0.055353 -0.059752  378.66      0  \n",
       "3  0.647376 -0.221929  0.062723  0.061458  123.50      0  \n",
       "4 -0.206010  0.502292  0.219422  0.215153   69.99      0  \n",
       "\n",
       "[5 rows x 31 columns]"
      ]
     },
     "execution_count": 2,
     "metadata": {},
     "output_type": "execute_result"
    }
   ],
   "source": [
    "df = pd.read_csv(\"creditcard.csv\")\n",
    "df.head()"
   ]
  },
  {
   "cell_type": "code",
   "execution_count": 3,
   "metadata": {},
   "outputs": [
    {
     "data": {
      "text/plain": [
       "Time      0\n",
       "V1        0\n",
       "V2        0\n",
       "V3        0\n",
       "V4        0\n",
       "V5        0\n",
       "V6        0\n",
       "V7        0\n",
       "V8        0\n",
       "V9        0\n",
       "V10       0\n",
       "V11       0\n",
       "V12       0\n",
       "V13       0\n",
       "V14       0\n",
       "V15       0\n",
       "V16       0\n",
       "V17       0\n",
       "V18       0\n",
       "V19       0\n",
       "V20       0\n",
       "V21       0\n",
       "V22       0\n",
       "V23       0\n",
       "V24       0\n",
       "V25       0\n",
       "V26       0\n",
       "V27       0\n",
       "V28       0\n",
       "Amount    0\n",
       "Class     0\n",
       "dtype: int64"
      ]
     },
     "execution_count": 3,
     "metadata": {},
     "output_type": "execute_result"
    }
   ],
   "source": [
    "df.isnull().sum()"
   ]
  },
  {
   "cell_type": "markdown",
   "metadata": {},
   "source": [
    "We have no NA values which is good"
   ]
  },
  {
   "cell_type": "code",
   "execution_count": 4,
   "metadata": {},
   "outputs": [
    {
     "name": "stdout",
     "output_type": "stream",
     "text": [
      "Class as pie chart:\n"
     ]
    },
    {
     "data": {
      "text/plain": [
       "Text(0,0.5,'')"
      ]
     },
     "execution_count": 4,
     "metadata": {},
     "output_type": "execute_result"
    },
    {
     "data": {
      "image/png": "[encoded data removed]",
      "text/plain": [
       "<matplotlib.figure.Figure at 0x7fb744a2e2b0>"
      ]
     },
     "metadata": {},
     "output_type": "display_data"
    }
   ],
   "source": [
    "print(\"Class as pie chart:\")\n",
    "fig, ax = plt.subplots(1, 1)\n",
    "ax.pie(df.Class.value_counts(),autopct='%1.1f%%', labels=['Genuine','Fraud'], colors=['green','r'])\n",
    "plt.axis('equal')\n",
    "plt.ylabel('')"
   ]
  },
  {
   "cell_type": "markdown",
   "metadata": {},
   "source": [
    "Our dataset is very unbalanced. We have to do something about it"
   ]
  },
  {
   "cell_type": "markdown",
   "metadata": {},
   "source": [
    "# Undersampling\n",
    "\n",
    "Our goal here is to delete instances from the over-represented class"
   ]
  },
  {
   "cell_type": "code",
   "execution_count": 5,
   "metadata": {},
   "outputs": [
    {
     "data": {
      "text/html": [
       "<div>\n",
       "<style>\n",
       "    .dataframe thead tr:only-child th {\n",
       "        text-align: right;\n",
       "    }\n",
       "\n",
       "    .dataframe thead th {\n",
       "        text-align: left;\n",
       "    }\n",
       "\n",
       "    .dataframe tbody tr th {\n",
       "        vertical-align: top;\n",
       "    }\n",
       "</style>\n",
       "<table border=\"1\" class=\"dataframe\">\n",
       "  <thead>\n",
       "    <tr style=\"text-align: right;\">\n",
       "      <th></th>\n",
       "      <th>V1</th>\n",
       "      <th>V2</th>\n",
       "      <th>V3</th>\n",
       "      <th>V4</th>\n",
       "      <th>V5</th>\n",
       "      <th>V6</th>\n",
       "      <th>V7</th>\n",
       "      <th>V8</th>\n",
       "      <th>V9</th>\n",
       "      <th>V10</th>\n",
       "      <th>...</th>\n",
       "      <th>V21</th>\n",
       "      <th>V22</th>\n",
       "      <th>V23</th>\n",
       "      <th>V24</th>\n",
       "      <th>V25</th>\n",
       "      <th>V26</th>\n",
       "      <th>V27</th>\n",
       "      <th>V28</th>\n",
       "      <th>Class</th>\n",
       "      <th>normAmount</th>\n",
       "    </tr>\n",
       "  </thead>\n",
       "  <tbody>\n",
       "    <tr>\n",
       "      <th>0</th>\n",
       "      <td>-1.359807</td>\n",
       "      <td>-0.072781</td>\n",
       "      <td>2.536347</td>\n",
       "      <td>1.378155</td>\n",
       "      <td>-0.338321</td>\n",
       "      <td>0.462388</td>\n",
       "      <td>0.239599</td>\n",
       "      <td>0.098698</td>\n",
       "      <td>0.363787</td>\n",
       "      <td>0.090794</td>\n",
       "      <td>...</td>\n",
       "      <td>-0.018307</td>\n",
       "      <td>0.277838</td>\n",
       "      <td>-0.110474</td>\n",
       "      <td>0.066928</td>\n",
       "      <td>0.128539</td>\n",
       "      <td>-0.189115</td>\n",
       "      <td>0.133558</td>\n",
       "      <td>-0.021053</td>\n",
       "      <td>0</td>\n",
       "      <td>0.244964</td>\n",
       "    </tr>\n",
       "    <tr>\n",
       "      <th>1</th>\n",
       "      <td>1.191857</td>\n",
       "      <td>0.266151</td>\n",
       "      <td>0.166480</td>\n",
       "      <td>0.448154</td>\n",
       "      <td>0.060018</td>\n",
       "      <td>-0.082361</td>\n",
       "      <td>-0.078803</td>\n",
       "      <td>0.085102</td>\n",
       "      <td>-0.255425</td>\n",
       "      <td>-0.166974</td>\n",
       "      <td>...</td>\n",
       "      <td>-0.225775</td>\n",
       "      <td>-0.638672</td>\n",
       "      <td>0.101288</td>\n",
       "      <td>-0.339846</td>\n",
       "      <td>0.167170</td>\n",
       "      <td>0.125895</td>\n",
       "      <td>-0.008983</td>\n",
       "      <td>0.014724</td>\n",
       "      <td>0</td>\n",
       "      <td>-0.342475</td>\n",
       "    </tr>\n",
       "    <tr>\n",
       "      <th>2</th>\n",
       "      <td>-1.358354</td>\n",
       "      <td>-1.340163</td>\n",
       "      <td>1.773209</td>\n",
       "      <td>0.379780</td>\n",
       "      <td>-0.503198</td>\n",
       "      <td>1.800499</td>\n",
       "      <td>0.791461</td>\n",
       "      <td>0.247676</td>\n",
       "      <td>-1.514654</td>\n",
       "      <td>0.207643</td>\n",
       "      <td>...</td>\n",
       "      <td>0.247998</td>\n",
       "      <td>0.771679</td>\n",
       "      <td>0.909412</td>\n",
       "      <td>-0.689281</td>\n",
       "      <td>-0.327642</td>\n",
       "      <td>-0.139097</td>\n",
       "      <td>-0.055353</td>\n",
       "      <td>-0.059752</td>\n",
       "      <td>0</td>\n",
       "      <td>1.160686</td>\n",
       "    </tr>\n",
       "    <tr>\n",
       "      <th>3</th>\n",
       "      <td>-0.966272</td>\n",
       "      <td>-0.185226</td>\n",
       "      <td>1.792993</td>\n",
       "      <td>-0.863291</td>\n",
       "      <td>-0.010309</td>\n",
       "      <td>1.247203</td>\n",
       "      <td>0.237609</td>\n",
       "      <td>0.377436</td>\n",
       "      <td>-1.387024</td>\n",
       "      <td>-0.054952</td>\n",
       "      <td>...</td>\n",
       "      <td>-0.108300</td>\n",
       "      <td>0.005274</td>\n",
       "      <td>-0.190321</td>\n",
       "      <td>-1.175575</td>\n",
       "      <td>0.647376</td>\n",
       "      <td>-0.221929</td>\n",
       "      <td>0.062723</td>\n",
       "      <td>0.061458</td>\n",
       "      <td>0</td>\n",
       "      <td>0.140534</td>\n",
       "    </tr>\n",
       "    <tr>\n",
       "      <th>4</th>\n",
       "      <td>-1.158233</td>\n",
       "      <td>0.877737</td>\n",
       "      <td>1.548718</td>\n",
       "      <td>0.403034</td>\n",
       "      <td>-0.407193</td>\n",
       "      <td>0.095921</td>\n",
       "      <td>0.592941</td>\n",
       "      <td>-0.270533</td>\n",
       "      <td>0.817739</td>\n",
       "      <td>0.753074</td>\n",
       "      <td>...</td>\n",
       "      <td>-0.009431</td>\n",
       "      <td>0.798278</td>\n",
       "      <td>-0.137458</td>\n",
       "      <td>0.141267</td>\n",
       "      <td>-0.206010</td>\n",
       "      <td>0.502292</td>\n",
       "      <td>0.219422</td>\n",
       "      <td>0.215153</td>\n",
       "      <td>0</td>\n",
       "      <td>-0.073403</td>\n",
       "    </tr>\n",
       "  </tbody>\n",
       "</table>\n",
       "<p>5 rows × 30 columns</p>\n",
       "</div>"
      ],
      "text/plain": [
       "         V1        V2        V3        V4        V5        V6        V7  \\\n",
       "0 -1.359807 -0.072781  2.536347  1.378155 -0.338321  0.462388  0.239599   \n",
       "1  1.191857  0.266151  0.166480  0.448154  0.060018 -0.082361 -0.078803   \n",
       "2 -1.358354 -1.340163  1.773209  0.379780 -0.503198  1.800499  0.791461   \n",
       "3 -0.966272 -0.185226  1.792993 -0.863291 -0.010309  1.247203  0.237609   \n",
       "4 -1.158233  0.877737  1.548718  0.403034 -0.407193  0.095921  0.592941   \n",
       "\n",
       "         V8        V9       V10     ...           V21       V22       V23  \\\n",
       "0  0.098698  0.363787  0.090794     ...     -0.018307  0.277838 -0.110474   \n",
       "1  0.085102 -0.255425 -0.166974     ...     -0.225775 -0.638672  0.101288   \n",
       "2  0.247676 -1.514654  0.207643     ...      0.247998  0.771679  0.909412   \n",
       "3  0.377436 -1.387024 -0.054952     ...     -0.108300  0.005274 -0.190321   \n",
       "4 -0.270533  0.817739  0.753074     ...     -0.009431  0.798278 -0.137458   \n",
       "\n",
       "        V24       V25       V26       V27       V28  Class  normAmount  \n",
       "0  0.066928  0.128539 -0.189115  0.133558 -0.021053      0    0.244964  \n",
       "1 -0.339846  0.167170  0.125895 -0.008983  0.014724      0   -0.342475  \n",
       "2 -0.689281 -0.327642 -0.139097 -0.055353 -0.059752      0    1.160686  \n",
       "3 -1.175575  0.647376 -0.221929  0.062723  0.061458      0    0.140534  \n",
       "4  0.141267 -0.206010  0.502292  0.219422  0.215153      0   -0.073403  \n",
       "\n",
       "[5 rows x 30 columns]"
      ]
     },
     "execution_count": 5,
     "metadata": {},
     "output_type": "execute_result"
    }
   ],
   "source": [
    "df['normAmount'] = StandardScaler().fit_transform(df['Amount'].values.reshape(-1, 1))\n",
    "df = df.drop(['Time', 'Amount'], axis=1)\n",
    "df.head()"
   ]
  },
  {
   "cell_type": "code",
   "execution_count": 6,
   "metadata": {},
   "outputs": [
    {
     "name": "stdout",
     "output_type": "stream",
     "text": [
      "         V1        V2        V3        V4        V5        V6        V7  \\\n",
      "0 -1.359807 -0.072781  2.536347  1.378155 -0.338321  0.462388  0.239599   \n",
      "1  1.191857  0.266151  0.166480  0.448154  0.060018 -0.082361 -0.078803   \n",
      "2 -1.358354 -1.340163  1.773209  0.379780 -0.503198  1.800499  0.791461   \n",
      "3 -0.966272 -0.185226  1.792993 -0.863291 -0.010309  1.247203  0.237609   \n",
      "4 -1.158233  0.877737  1.548718  0.403034 -0.407193  0.095921  0.592941   \n",
      "\n",
      "         V8        V9       V10     ...           V20       V21       V22  \\\n",
      "0  0.098698  0.363787  0.090794     ...      0.251412 -0.018307  0.277838   \n",
      "1  0.085102 -0.255425 -0.166974     ...     -0.069083 -0.225775 -0.638672   \n",
      "2  0.247676 -1.514654  0.207643     ...      0.524980  0.247998  0.771679   \n",
      "3  0.377436 -1.387024 -0.054952     ...     -0.208038 -0.108300  0.005274   \n",
      "4 -0.270533  0.817739  0.753074     ...      0.408542 -0.009431  0.798278   \n",
      "\n",
      "        V23       V24       V25       V26       V27       V28  normAmount  \n",
      "0 -0.110474  0.066928  0.128539 -0.189115  0.133558 -0.021053    0.244964  \n",
      "1  0.101288 -0.339846  0.167170  0.125895 -0.008983  0.014724   -0.342475  \n",
      "2  0.909412 -0.689281 -0.327642 -0.139097 -0.055353 -0.059752    1.160686  \n",
      "3 -0.190321 -1.175575  0.647376 -0.221929  0.062723  0.061458    0.140534  \n",
      "4 -0.137458  0.141267 -0.206010  0.502292  0.219422  0.215153   -0.073403  \n",
      "\n",
      "[5 rows x 29 columns]\n"
     ]
    }
   ],
   "source": [
    "y = df['Class']\n",
    "X = df.drop(['Class'], axis=1)\n",
    "print(X.head())"
   ]
  },
  {
   "cell_type": "code",
   "execution_count": 7,
   "metadata": {},
   "outputs": [
    {
     "name": "stdout",
     "output_type": "stream",
     "text": [
      "Percentage of normal transactions:  0.5\n",
      "Percentage of fraud transactions:  0.5\n",
      "Total number of transactions in resampled data:  984\n"
     ]
    }
   ],
   "source": [
    "# Number of data points in the minority class\n",
    "number_records_fraud = len(df[df.Class == 1])\n",
    "fraud_indices = np.array(df[df.Class == 1].index)\n",
    "\n",
    "# Picking the indices of the normal classes\n",
    "normal_indices = df[df.Class == 0].index\n",
    "\n",
    "# Out of the indices we picked, randomly select \"x\" number (number_records_fraud)\n",
    "random_normal_indices = np.random.choice(normal_indices, number_records_fraud, replace = False)\n",
    "random_normal_indices = np.array(random_normal_indices)\n",
    "\n",
    "# Appending the 2 indices\n",
    "under_sample_indices = np.concatenate([fraud_indices,random_normal_indices])\n",
    "\n",
    "# Under sample dataset\n",
    "under_sample_data = df.iloc[under_sample_indices,:]\n",
    "\n",
    "y_undersample = under_sample_data['Class']\n",
    "X_undersample = under_sample_data.drop(['Class'], axis=1)\n",
    "\n",
    "# Showing ratio\n",
    "print(\"Percentage of normal transactions: \", len(under_sample_data[under_sample_data.Class == 0])/len(under_sample_data))\n",
    "print(\"Percentage of fraud transactions: \", len(under_sample_data[under_sample_data.Class == 1])/len(under_sample_data))\n",
    "print(\"Total number of transactions in resampled data: \", len(under_sample_data))"
   ]
  },
  {
   "cell_type": "markdown",
   "metadata": {},
   "source": [
    "Now we have as much frauds than genuines"
   ]
  },
  {
   "cell_type": "code",
   "execution_count": 8,
   "metadata": {
    "collapsed": true
   },
   "outputs": [],
   "source": [
    "# Let's do a train_test_split on these data\n",
    "\n",
    "X_train_under, X_test_under, y_train_under, y_test_under = train_test_split(\n",
    "    X_undersample, y_undersample, test_size=0.3, random_state=0\n",
    ")"
   ]
  },
  {
   "cell_type": "markdown",
   "metadata": {},
   "source": [
    "Now we will try some algorithms with GridSearch\n",
    "\n",
    "### Logistic Regression\n",
    "\n",
    "First let's build our model around the undersampled data"
   ]
  },
  {
   "cell_type": "code",
   "execution_count": 9,
   "metadata": {},
   "outputs": [
    {
     "name": "stdout",
     "output_type": "stream",
     "text": [
      "Logistic Regression\n",
      "The best score with GridSearch for Logistic Regression is : 0.94476744186\n",
      "The best parameters with GridSearch for Logistic Regression are : {'penalty': 'l1', 'C': 100}\n",
      "Logistic Regression train score = 0.953488372093\n",
      "Logistic Regression test score =  0.945945945946\n"
     ]
    }
   ],
   "source": [
    "lr_param_C = [0.01,0.1,1,10,100]\n",
    "lr_param_grid = {'C': lr_param_C, 'penalty': ['l1']}\n",
    "\n",
    "lr_grid_search = GridSearchCV(LogisticRegression(), lr_param_grid)\n",
    "lr_grid_search.fit(X_train_under, y_train_under)\n",
    "\n",
    "print('Logistic Regression')\n",
    "print('The best score with GridSearch for Logistic Regression is :', lr_grid_search.best_score_)\n",
    "print('The best parameters with GridSearch for Logistic Regression are :', lr_grid_search.best_params_)\n",
    "\n",
    "lr_best_params = lr_grid_search.best_params_\n",
    "\n",
    "lr = LogisticRegression(C=lr_best_params['C'], penalty='l1')\n",
    "lr.fit(X_train_under, y_train_under)\n",
    "lr_train_score = lr.score(X_train_under, y_train_under)\n",
    "lr_test_score = lr.score(X_test_under, y_test_under)\n",
    "print  ('Logistic Regression train score =', lr_train_score)\n",
    "print  ('Logistic Regression test score = ', lr_test_score)"
   ]
  },
  {
   "cell_type": "code",
   "execution_count": 10,
   "metadata": {
    "collapsed": true
   },
   "outputs": [],
   "source": [
    "def plot_confusion_matrix(cm, classes,\n",
    "                          normalize=False,\n",
    "                          title='Confusion matrix',\n",
    "                          cmap=plt.cm.Blues):\n",
    "    \"\"\"\n",
    "    This function prints and plots the confusion matrix.\n",
    "    Normalization can be applied by setting `normalize=True`.\n",
    "    \"\"\"\n",
    "    plt.imshow(cm, interpolation='nearest', cmap=cmap)\n",
    "    plt.title(title)\n",
    "    plt.colorbar()\n",
    "    tick_marks = np.arange(len(classes))\n",
    "    plt.xticks(tick_marks, classes, rotation=0)\n",
    "    plt.yticks(tick_marks, classes)\n",
    "\n",
    "    if normalize:\n",
    "        cm = cm.astype('float') / cm.sum(axis=1)[:, np.newaxis]\n",
    "        #print(\"Normalized confusion matrix\")\n",
    "    else:\n",
    "        1#print('Confusion matrix, without normalization')\n",
    "\n",
    "    #print(cm)\n",
    "\n",
    "    thresh = cm.max() / 2.\n",
    "    for i, j in itertools.product(range(cm.shape[0]), range(cm.shape[1])):\n",
    "        plt.text(j, i, cm[i, j],\n",
    "                 horizontalalignment=\"center\",\n",
    "                 color=\"white\" if cm[i, j] > thresh else \"black\")\n",
    "\n",
    "    plt.tight_layout()\n",
    "    plt.ylabel('True label')\n",
    "    plt.xlabel('Predicted label')"
   ]
  },
  {
   "cell_type": "code",
   "execution_count": 11,
   "metadata": {},
   "outputs": [
    {
     "name": "stdout",
     "output_type": "stream",
     "text": [
      "Recall metric in the testing dataset:  0.925170068027\n"
     ]
    },
    {
     "data": {
      "image/png": "[encoded data removed]",
      "text/plain": [
       "<matplotlib.figure.Figure at 0x7fb740937eb8>"
      ]
     },
     "metadata": {},
     "output_type": "display_data"
    }
   ],
   "source": [
    "y_pred_undersample_lr = lr.predict(X_test_under)\n",
    "\n",
    "# Compute confusion matrix\n",
    "cnf_matrix = confusion_matrix(y_test_under,y_pred_undersample_lr)\n",
    "np.set_printoptions(precision=2)\n",
    "\n",
    "print(\"Recall metric in the testing dataset: \", cnf_matrix[1,1]/(cnf_matrix[1,0]+cnf_matrix[1,1]))\n",
    "\n",
    "# Plot non-normalized confusion matrix\n",
    "class_names = [0,1]\n",
    "plt.figure()\n",
    "plot_confusion_matrix(cnf_matrix\n",
    "                      , classes=class_names\n",
    "                      , title='Confusion matrix')\n",
    "plt.show()"
   ]
  },
  {
   "cell_type": "code",
   "execution_count": 32,
   "metadata": {},
   "outputs": [
    {
     "name": "stdout",
     "output_type": "stream",
     "text": [
      "Recall metric in the original  dataset:  0.926829268293\n",
      "             precision    recall  f1-score   support\n",
      "\n",
      "          0       1.00      0.96      0.98    284315\n",
      "          1       0.04      0.93      0.08       492\n",
      "\n",
      "avg / total       1.00      0.96      0.98    284807\n",
      "\n"
     ]
    },
    {
     "data": {
      "image/png": "[encoded data removed]",
      "text/plain": [
       "<matplotlib.figure.Figure at 0x7fb6e01f6f98>"
      ]
     },
     "metadata": {},
     "output_type": "display_data"
    }
   ],
   "source": [
    "y_pred = lr.predict(X)\n",
    "\n",
    "# Compute confusion matrix\n",
    "cnf_matrix = confusion_matrix(y,y_pred)\n",
    "np.set_printoptions(precision=2)\n",
    "\n",
    "print(\"Recall metric in the original  dataset: \", cnf_matrix[1,1]/(cnf_matrix[1,0]+cnf_matrix[1,1]))\n",
    "print(metrics.classification_report(y, y_pred))\n",
    "\n",
    "# Plot non-normalized confusion matrix\n",
    "class_names = [0,1]\n",
    "plt.figure()\n",
    "plot_confusion_matrix(cnf_matrix\n",
    "                      , classes=class_names\n",
    "                      , title='Confusion matrix')\n",
    "plt.show()"
   ]
  },
  {
   "cell_type": "markdown",
   "metadata": {},
   "source": [
    "### SVM"
   ]
  },
  {
   "cell_type": "code",
   "execution_count": 13,
   "metadata": {},
   "outputs": [
    {
     "name": "stdout",
     "output_type": "stream",
     "text": [
      "SVC :\n",
      "The best score with GridSearch for SVC is : 0.925872093023\n",
      "The best parameters with GridSearch for SVC are : {'C': 1}\n",
      "SVC train score = 0.963662790698\n",
      "SVC test score =  0.932432432432\n",
      "Recall metric in the testing dataset:  0.925170068027\n"
     ]
    },
    {
     "data": {
      "image/png": "[encoded data removed]",
      "text/plain": [
       "<matplotlib.figure.Figure at 0x7fb74048fef0>"
      ]
     },
     "metadata": {},
     "output_type": "display_data"
    }
   ],
   "source": [
    "svc_param_C = [0.01,0.1,1,10,100]\n",
    "svc_param_grid = {'C': svc_param_C}\n",
    "\n",
    "svc_grid_search = GridSearchCV(SVC(), svc_param_grid)\n",
    "svc_grid_search.fit(X_train_under, y_train_under)\n",
    "\n",
    "print('SVC :')\n",
    "print('The best score with GridSearch for SVC is :', svc_grid_search.best_score_)\n",
    "print('The best parameters with GridSearch for SVC are :', svc_grid_search.best_params_)\n",
    "\n",
    "svc_best_params = svc_grid_search.best_params_\n",
    "\n",
    "svc = SVC(C=svc_best_params['C'])\n",
    "svc.fit(X_train_under, y_train_under)\n",
    "svc_train_score = svc.score(X_train_under, y_train_under)\n",
    "svc_test_score = svc.score(X_test_under, y_test_under)\n",
    "print  ('SVC train score =', svc_train_score)\n",
    "print  ('SVC test score = ', svc_test_score)\n",
    "\n",
    "y_pred_undersample_svc = svc.predict(X_test_under)\n",
    "\n",
    "# Compute confusion matrix\n",
    "cnf_matrix = confusion_matrix(y_test_under, y_pred_undersample_svc)\n",
    "np.set_printoptions(precision=2)\n",
    "\n",
    "print(\"Recall metric in the testing dataset: \", cnf_matrix[1,1]/(cnf_matrix[1,0]+cnf_matrix[1,1]))\n",
    "\n",
    "# Plot non-normalized confusion matrix\n",
    "class_names = [0,1]\n",
    "plt.figure()\n",
    "plot_confusion_matrix(cnf_matrix\n",
    "                      , classes=class_names\n",
    "                      , title='Confusion matrix')\n",
    "plt.show()"
   ]
  },
  {
   "cell_type": "code",
   "execution_count": 30,
   "metadata": {},
   "outputs": [
    {
     "name": "stdout",
     "output_type": "stream",
     "text": [
      "Recall metric in the original  dataset:  0.928861788618\n",
      "             precision    recall  f1-score   support\n",
      "\n",
      "          0       1.00      0.95      0.97    284315\n",
      "          1       0.03      0.93      0.06       492\n",
      "\n",
      "avg / total       1.00      0.95      0.97    284807\n",
      "\n"
     ]
    },
    {
     "data": {
      "image/png": "[encoded data removed]",
      "text/plain": [
       "<matplotlib.figure.Figure at 0x7fb6e00aab00>"
      ]
     },
     "metadata": {},
     "output_type": "display_data"
    }
   ],
   "source": [
    "y_pred_svc = svc.predict(X)\n",
    "\n",
    "# Compute confusion matrix\n",
    "cnf_matrix = confusion_matrix(y,y_pred_svc)\n",
    "np.set_printoptions(precision=2)\n",
    "\n",
    "print(\"Recall metric in the original  dataset: \", cnf_matrix[1,1]/(cnf_matrix[1,0]+cnf_matrix[1,1]))\n",
    "print(metrics.classification_report(y, y_pred_svc))\n",
    "\n",
    "# Plot non-normalized confusion matrix\n",
    "class_names = [0,1]\n",
    "plt.figure()\n",
    "plot_confusion_matrix(cnf_matrix\n",
    "                      , classes=class_names\n",
    "                      , title='Confusion matrix')\n",
    "plt.show()"
   ]
  },
  {
   "cell_type": "markdown",
   "metadata": {},
   "source": [
    "### Random Forest"
   ]
  },
  {
   "cell_type": "code",
   "execution_count": 15,
   "metadata": {},
   "outputs": [
    {
     "name": "stdout",
     "output_type": "stream",
     "text": [
      "rf :\n",
      "The best score with GridSearch for rf is : 0.934593023256\n",
      "The best parameters with GridSearch for rf are : {'n_estimators': 100}\n",
      "rf train score = 1.0\n",
      "rf test score =  0.952702702703\n",
      "Recall metric in the testing dataset:  0.925170068027\n"
     ]
    },
    {
     "data": {
      "image/png": "[encoded data removed]",
      "text/plain": [
       "<matplotlib.figure.Figure at 0x7fb740385f60>"
      ]
     },
     "metadata": {},
     "output_type": "display_data"
    }
   ],
   "source": [
    "rf_param_n_estimator = [1,10,100]\n",
    "rf_param_grid = {'n_estimators': rf_param_n_estimator}\n",
    "\n",
    "rf_grid_search = GridSearchCV(RandomForestClassifier(), rf_param_grid)\n",
    "rf_grid_search.fit(X_train_under, y_train_under)\n",
    "\n",
    "print('rf :')\n",
    "print('The best score with GridSearch for rf is :', rf_grid_search.best_score_)\n",
    "print('The best parameters with GridSearch for rf are :', rf_grid_search.best_params_)\n",
    "\n",
    "rf_best_params = rf_grid_search.best_params_\n",
    "\n",
    "rf = RandomForestClassifier(n_estimators=rf_best_params['n_estimators'])\n",
    "rf.fit(X_train_under, y_train_under)\n",
    "rf_train_score = rf.score(X_train_under, y_train_under)\n",
    "rf_test_score = rf.score(X_test_under, y_test_under)\n",
    "print  ('rf train score =', rf_train_score)\n",
    "print  ('rf test score = ', rf_test_score)\n",
    "\n",
    "y_pred_undersample_rf = rf.predict(X_test_under)\n",
    "\n",
    "# Compute confusion matrix\n",
    "cnf_matrix = confusion_matrix(y_test_under, y_pred_undersample_rf)\n",
    "np.set_printoptions(precision=2)\n",
    "\n",
    "print(\"Recall metric in the testing dataset: \", cnf_matrix[1,1]/(cnf_matrix[1,0]+cnf_matrix[1,1]))\n",
    "\n",
    "# Plot non-normalized confusion matrix\n",
    "class_names = [0,1]\n",
    "plt.figure()\n",
    "plot_confusion_matrix(cnf_matrix\n",
    "                      , classes=class_names\n",
    "                      , title='Confusion matrix')\n",
    "plt.show()"
   ]
  },
  {
   "cell_type": "code",
   "execution_count": 29,
   "metadata": {},
   "outputs": [
    {
     "name": "stdout",
     "output_type": "stream",
     "text": [
      "Recall metric in the original  dataset:  0.977642276423\n",
      "             precision    recall  f1-score   support\n",
      "\n",
      "          0       1.00      0.97      0.99    284315\n",
      "          1       0.06      0.98      0.11       492\n",
      "\n",
      "avg / total       1.00      0.97      0.98    284807\n",
      "\n"
     ]
    },
    {
     "data": {
      "image/png": "[encoded data removed]",
      "text/plain": [
       "<matplotlib.figure.Figure at 0x7fb6e00ba668>"
      ]
     },
     "metadata": {},
     "output_type": "display_data"
    }
   ],
   "source": [
    "y_pred_rf = rf.predict(X)\n",
    "\n",
    "# Compute confusion matrix\n",
    "cnf_matrix = confusion_matrix(y,y_pred_rf)\n",
    "np.set_printoptions(precision=2)\n",
    "\n",
    "print(\"Recall metric in the original  dataset: \", cnf_matrix[1,1]/(cnf_matrix[1,0]+cnf_matrix[1,1]))\n",
    "print(metrics.classification_report(y, y_pred_rf))\n",
    "# Plot non-normalized confusion matrix\n",
    "class_names = [0,1]\n",
    "plt.figure()\n",
    "plot_confusion_matrix(cnf_matrix\n",
    "                      , classes=class_names\n",
    "                      , title='Confusion matrix')\n",
    "plt.show()"
   ]
  },
  {
   "cell_type": "markdown",
   "metadata": {},
   "source": [
    "### XGBoost"
   ]
  },
  {
   "cell_type": "code",
   "execution_count": 17,
   "metadata": {},
   "outputs": [
    {
     "name": "stdout",
     "output_type": "stream",
     "text": [
      "xgb train score = 0.93023255814\n",
      "xgb test score =  0.918918918919\n",
      "Recall metric in the testing dataset:  0.863945578231\n"
     ]
    },
    {
     "data": {
      "image/png": "[encoded data removed]",
      "text/plain": [
       "<matplotlib.figure.Figure at 0x7fb740411fd0>"
      ]
     },
     "metadata": {},
     "output_type": "display_data"
    }
   ],
   "source": [
    "\n",
    "one_to_left = st.beta(10, 1)  \n",
    "from_zero_positive = st.expon(0, 50)\n",
    "\n",
    "xgb_rs_params = {  \n",
    "    \"n_estimators\": st.randint(3, 40),\n",
    "    \"max_depth\": st.randint(3, 40),\n",
    "    \"learning_rate\": st.uniform(0.05, 0.4),\n",
    "    \"colsample_bytree\": one_to_left,\n",
    "    \"subsample\": one_to_left,\n",
    "    \"gamma\": st.uniform(0, 10),\n",
    "    'reg_alpha': from_zero_positive,\n",
    "    \"min_child_weight\": from_zero_positive,\n",
    "}\n",
    "\n",
    "xgb_rs = XGBClassifier(nthreads=-1)  \n",
    "gs = RandomizedSearchCV(xgb_rs, xgb_rs_params, n_jobs=1)  \n",
    "xgb_best_model = gs.fit(X_train_under, y_train_under)  \n",
    "\n",
    "xgb_train_score = xgb_best_model.score(X_train_under, y_train_under)\n",
    "xgb_test_score = xgb_best_model.score(X_test_under, y_test_under)\n",
    "\n",
    "print  ('xgb train score =', xgb_train_score)\n",
    "print  ('xgb test score = ', xgb_test_score)\n",
    "\n",
    "y_pred_undersample_xgb = xgb_best_model.predict(X_test_under)\n",
    "\n",
    "# Compute confusion matrix\n",
    "cnf_matrix = confusion_matrix(y_test_under, y_pred_undersample_xgb)\n",
    "np.set_printoptions(precision=2)\n",
    "\n",
    "print(\"Recall metric in the testing dataset: \", cnf_matrix[1,1]/(cnf_matrix[1,0]+cnf_matrix[1,1]))\n",
    "\n",
    "# Plot non-normalized confusion matrix\n",
    "class_names = [0,1]\n",
    "plt.figure()\n",
    "plot_confusion_matrix(cnf_matrix\n",
    "                      , classes=class_names\n",
    "                      , title='Confusion matrix')\n",
    "plt.show()"
   ]
  },
  {
   "cell_type": "code",
   "execution_count": 18,
   "metadata": {},
   "outputs": [
    {
     "name": "stdout",
     "output_type": "stream",
     "text": [
      "Recall metric in the original  dataset:  0.873983739837\n"
     ]
    },
    {
     "data": {
      "image/png": "[encoded data removed]",
      "text/plain": [
       "<matplotlib.figure.Figure at 0x7fb74047cc50>"
      ]
     },
     "metadata": {},
     "output_type": "display_data"
    }
   ],
   "source": [
    "y_pred_xgb = xgb_best_model.predict(X)\n",
    "\n",
    "# Compute confusion matrix\n",
    "cnf_matrix = confusion_matrix(y,y_pred_xgb)\n",
    "np.set_printoptions(precision=2)\n",
    "\n",
    "print(\"Recall metric in the original  dataset: \", cnf_matrix[1,1]/(cnf_matrix[1,0]+cnf_matrix[1,1]))\n",
    "\n",
    "# Plot non-normalized confusion matrix\n",
    "class_names = [0,1]\n",
    "plt.figure()\n",
    "plot_confusion_matrix(cnf_matrix\n",
    "                      , classes=class_names\n",
    "                      , title='Confusion matrix')\n",
    "plt.show()"
   ]
  },
  {
   "cell_type": "markdown",
   "metadata": {},
   "source": [
    "### Neural Networks"
   ]
  },
  {
   "cell_type": "code",
   "execution_count": 19,
   "metadata": {},
   "outputs": [
    {
     "name": "stderr",
     "output_type": "stream",
     "text": [
      "Using TensorFlow backend.\n"
     ]
    }
   ],
   "source": [
    "import keras.backend as K\n",
    "from keras.models import Sequential\n",
    "from keras.layers import Conv2D, MaxPooling2D, Dense, Dropout, Input, Flatten, Activation\n",
    "from keras.layers import GlobalMaxPooling2D\n",
    "from keras.layers.normalization import BatchNormalization\n",
    "from keras.layers.merge import Concatenate\n",
    "from keras.models import Model\n",
    "from keras import initializers\n",
    "from keras.optimizers import Adam\n",
    "from keras.callbacks import ModelCheckpoint, Callback, EarlyStopping"
   ]
  },
  {
   "cell_type": "code",
   "execution_count": 20,
   "metadata": {
    "collapsed": true
   },
   "outputs": [],
   "source": [
    "def recall(y_true, y_pred):\n",
    "    true_positives = K.sum(K.round(K.clip(y_true * y_pred, 0, 1)))\n",
    "    possible_positives = K.sum(K.round(K.clip(y_true, 0, 1)))\n",
    "    recall = true_positives / (possible_positives + K.epsilon())\n",
    "    \n",
    "    return recall\n",
    "\n",
    "def getModel():\n",
    "    model = Sequential()\n",
    "    \n",
    "    model.add(Dense(16, input_dim=29))\n",
    "    model.add(Activation('relu'))\n",
    "    model.add(Dropout(0.3))\n",
    "    \n",
    "    model.add(Dense(18))\n",
    "    model.add(Activation('relu'))\n",
    "    model.add(Dropout(0.3))\n",
    "    \n",
    "    model.add(Dense(20))\n",
    "    model.add(Activation('relu'))\n",
    "    model.add(Dropout(0.3))\n",
    "    \n",
    "    model.add(Dense(24))\n",
    "    model.add(Activation('relu'))\n",
    "    model.add(Dropout(0.3))\n",
    "    \n",
    "    model.add(Dense(1))\n",
    "    model.add(Activation('sigmoid'))\n",
    "\n",
    "    \n",
    "#     model.compile(optimizer='adam', loss='binary_crossentropy', metrics=['accuracy'])\n",
    "    model.compile(optimizer='adam', loss='binary_crossentropy', metrics=['accuracy', recall])\n",
    "    \n",
    "    \n",
    "    return model\n",
    "\n",
    "def get_callbacks(filepath, patience=10):\n",
    "    es = EarlyStopping('val_loss', patience=patience, mode=\"min\")\n",
    "    msave = ModelCheckpoint(filepath, save_best_only=True)\n",
    "    return [es, msave]\n",
    "file_path = \".model_weights.hdf5\"\n",
    "callbacks = get_callbacks(filepath=file_path, patience=100)"
   ]
  },
  {
   "cell_type": "code",
   "execution_count": 21,
   "metadata": {
    "collapsed": true
   },
   "outputs": [],
   "source": [
    "X_train_under_array = X_train_under.as_matrix()\n",
    "y_train_under_array = y_train_under.as_matrix()\n",
    "X_test_under_array = X_test_under.as_matrix()\n",
    "y_test_under_array = y_test_under.as_matrix()"
   ]
  },
  {
   "cell_type": "code",
   "execution_count": 22,
   "metadata": {},
   "outputs": [
    {
     "name": "stdout",
     "output_type": "stream",
     "text": [
      "Train on 688 samples, validate on 296 samples\n",
      "Epoch 1/1000\n",
      "688/688 [==============================] - 1s 1ms/step - loss: 0.7036 - acc: 0.5567 - recall: 0.7294 - val_loss: 0.5583 - val_acc: 0.5912 - val_recall: 0.9533\n",
      "Epoch 2/1000\n",
      "688/688 [==============================] - 0s 185us/step - loss: 0.5692 - acc: 0.6192 - recall: 0.8882 - val_loss: 0.4882 - val_acc: 0.7804 - val_recall: 0.9250\n",
      "Epoch 3/1000\n",
      "688/688 [==============================] - 0s 187us/step - loss: 0.5164 - acc: 0.7122 - recall: 0.8657 - val_loss: 0.4211 - val_acc: 0.8682 - val_recall: 0.8721\n",
      "Epoch 4/1000\n",
      "688/688 [==============================] - 0s 185us/step - loss: 0.4576 - acc: 0.7718 - recall: 0.8491 - val_loss: 0.3651 - val_acc: 0.8851 - val_recall: 0.8577\n",
      "Epoch 5/1000\n",
      "688/688 [==============================] - 0s 184us/step - loss: 0.4145 - acc: 0.8154 - recall: 0.8272 - val_loss: 0.3195 - val_acc: 0.8986 - val_recall: 0.8577\n",
      "Epoch 6/1000\n",
      "688/688 [==============================] - 0s 189us/step - loss: 0.3869 - acc: 0.8474 - recall: 0.8140 - val_loss: 0.2923 - val_acc: 0.8953 - val_recall: 0.8509\n",
      "Epoch 7/1000\n",
      "688/688 [==============================] - 0s 185us/step - loss: 0.3495 - acc: 0.8634 - recall: 0.8298 - val_loss: 0.2708 - val_acc: 0.8986 - val_recall: 0.8541\n",
      "Epoch 8/1000\n",
      "688/688 [==============================] - 0s 189us/step - loss: 0.3293 - acc: 0.8677 - recall: 0.8249 - val_loss: 0.2510 - val_acc: 0.9122 - val_recall: 0.8689\n",
      "Epoch 9/1000\n",
      "688/688 [==============================] - 0s 190us/step - loss: 0.3159 - acc: 0.8779 - recall: 0.8388 - val_loss: 0.2349 - val_acc: 0.9189 - val_recall: 0.8757\n",
      "Epoch 10/1000\n",
      "688/688 [==============================] - 0s 182us/step - loss: 0.2952 - acc: 0.8910 - recall: 0.8495 - val_loss: 0.2228 - val_acc: 0.9189 - val_recall: 0.8757\n",
      "Epoch 11/1000\n",
      "688/688 [==============================] - 0s 183us/step - loss: 0.2699 - acc: 0.8968 - recall: 0.8523 - val_loss: 0.2125 - val_acc: 0.9223 - val_recall: 0.8757\n",
      "Epoch 12/1000\n",
      "688/688 [==============================] - 0s 188us/step - loss: 0.2415 - acc: 0.9128 - recall: 0.8687 - val_loss: 0.2030 - val_acc: 0.9189 - val_recall: 0.8757\n",
      "Epoch 13/1000\n",
      "688/688 [==============================] - 0s 184us/step - loss: 0.2336 - acc: 0.9186 - recall: 0.8769 - val_loss: 0.1968 - val_acc: 0.9189 - val_recall: 0.8905\n",
      "Epoch 14/1000\n",
      "688/688 [==============================] - 0s 193us/step - loss: 0.2232 - acc: 0.9302 - recall: 0.8892 - val_loss: 0.1889 - val_acc: 0.9291 - val_recall: 0.8905\n",
      "Epoch 15/1000\n",
      "688/688 [==============================] - 0s 181us/step - loss: 0.2254 - acc: 0.9172 - recall: 0.8686 - val_loss: 0.1849 - val_acc: 0.9257 - val_recall: 0.8905\n",
      "Epoch 16/1000\n",
      "688/688 [==============================] - 0s 183us/step - loss: 0.2111 - acc: 0.9201 - recall: 0.8790 - val_loss: 0.1824 - val_acc: 0.9257 - val_recall: 0.8905\n",
      "Epoch 17/1000\n",
      "688/688 [==============================] - 0s 195us/step - loss: 0.2367 - acc: 0.9084 - recall: 0.8598 - val_loss: 0.1805 - val_acc: 0.9257 - val_recall: 0.8905\n",
      "Epoch 18/1000\n",
      "688/688 [==============================] - 0s 162us/step - loss: 0.2460 - acc: 0.9113 - recall: 0.8630 - val_loss: 0.1815 - val_acc: 0.9257 - val_recall: 0.8815\n",
      "Epoch 19/1000\n",
      "688/688 [==============================] - 0s 183us/step - loss: 0.2195 - acc: 0.9142 - recall: 0.8771 - val_loss: 0.1802 - val_acc: 0.9291 - val_recall: 0.8815\n",
      "Epoch 20/1000\n",
      "688/688 [==============================] - 0s 183us/step - loss: 0.2316 - acc: 0.9142 - recall: 0.8760 - val_loss: 0.1776 - val_acc: 0.9257 - val_recall: 0.8905\n",
      "Epoch 21/1000\n",
      "688/688 [==============================] - 0s 182us/step - loss: 0.2291 - acc: 0.9070 - recall: 0.8695 - val_loss: 0.1771 - val_acc: 0.9291 - val_recall: 0.8905\n",
      "Epoch 22/1000\n",
      "688/688 [==============================] - 0s 187us/step - loss: 0.2049 - acc: 0.9157 - recall: 0.8782 - val_loss: 0.1747 - val_acc: 0.9291 - val_recall: 0.8847\n",
      "Epoch 23/1000\n",
      "688/688 [==============================] - 0s 185us/step - loss: 0.1886 - acc: 0.9244 - recall: 0.8856 - val_loss: 0.1726 - val_acc: 0.9291 - val_recall: 0.8905\n",
      "Epoch 24/1000\n",
      "688/688 [==============================] - 0s 160us/step - loss: 0.2192 - acc: 0.9172 - recall: 0.8705 - val_loss: 0.1735 - val_acc: 0.9223 - val_recall: 0.8757\n",
      "Epoch 25/1000\n",
      "688/688 [==============================] - 0s 155us/step - loss: 0.1801 - acc: 0.9201 - recall: 0.8846 - val_loss: 0.1730 - val_acc: 0.9223 - val_recall: 0.8757\n",
      "Epoch 26/1000\n",
      "688/688 [==============================] - 0s 181us/step - loss: 0.2174 - acc: 0.9288 - recall: 0.8819 - val_loss: 0.1720 - val_acc: 0.9291 - val_recall: 0.8757\n",
      "Epoch 27/1000\n",
      "688/688 [==============================] - 0s 183us/step - loss: 0.2040 - acc: 0.9244 - recall: 0.8853 - val_loss: 0.1698 - val_acc: 0.9324 - val_recall: 0.8905\n",
      "Epoch 28/1000\n",
      "688/688 [==============================] - 0s 176us/step - loss: 0.2024 - acc: 0.9215 - recall: 0.8777 - val_loss: 0.1696 - val_acc: 0.9257 - val_recall: 0.8757\n",
      "Epoch 29/1000\n",
      "688/688 [==============================] - 0s 174us/step - loss: 0.1922 - acc: 0.9201 - recall: 0.8736 - val_loss: 0.1695 - val_acc: 0.9324 - val_recall: 0.8847\n",
      "Epoch 30/1000\n",
      "688/688 [==============================] - 0s 183us/step - loss: 0.1780 - acc: 0.9331 - recall: 0.9106 - val_loss: 0.1646 - val_acc: 0.9392 - val_recall: 0.9049\n",
      "Epoch 31/1000\n",
      "688/688 [==============================] - 0s 180us/step - loss: 0.2099 - acc: 0.9230 - recall: 0.8773 - val_loss: 0.1642 - val_acc: 0.9358 - val_recall: 0.8995\n",
      "Epoch 32/1000\n",
      "688/688 [==============================] - 0s 180us/step - loss: 0.1825 - acc: 0.9273 - recall: 0.8892 - val_loss: 0.1604 - val_acc: 0.9358 - val_recall: 0.8995\n",
      "Epoch 33/1000\n",
      "688/688 [==============================] - 0s 195us/step - loss: 0.1680 - acc: 0.9331 - recall: 0.8983 - val_loss: 0.1593 - val_acc: 0.9358 - val_recall: 0.8995\n",
      "Epoch 34/1000\n",
      "688/688 [==============================] - 0s 181us/step - loss: 0.1782 - acc: 0.9273 - recall: 0.8975 - val_loss: 0.1570 - val_acc: 0.9392 - val_recall: 0.9049\n",
      "Epoch 35/1000\n",
      "688/688 [==============================] - 0s 177us/step - loss: 0.1651 - acc: 0.9433 - recall: 0.9052 - val_loss: 0.1545 - val_acc: 0.9426 - val_recall: 0.9116\n",
      "Epoch 36/1000\n",
      "688/688 [==============================] - 0s 179us/step - loss: 0.1705 - acc: 0.9360 - recall: 0.9098 - val_loss: 0.1520 - val_acc: 0.9392 - val_recall: 0.9116\n",
      "Epoch 37/1000\n",
      "688/688 [==============================] - 0s 155us/step - loss: 0.1670 - acc: 0.9346 - recall: 0.8903 - val_loss: 0.1541 - val_acc: 0.9392 - val_recall: 0.9049\n",
      "Epoch 38/1000\n",
      "688/688 [==============================] - 0s 154us/step - loss: 0.1611 - acc: 0.9419 - recall: 0.9132 - val_loss: 0.1525 - val_acc: 0.9426 - val_recall: 0.9116\n",
      "Epoch 39/1000\n",
      "688/688 [==============================] - 0s 205us/step - loss: 0.1771 - acc: 0.9360 - recall: 0.8989 - val_loss: 0.1522 - val_acc: 0.9426 - val_recall: 0.9116\n",
      "Epoch 40/1000\n",
      "688/688 [==============================] - 0s 205us/step - loss: 0.1652 - acc: 0.9433 - recall: 0.9097 - val_loss: 0.1507 - val_acc: 0.9459 - val_recall: 0.9174\n",
      "Epoch 41/1000\n",
      "688/688 [==============================] - 0s 152us/step - loss: 0.1792 - acc: 0.9404 - recall: 0.9142 - val_loss: 0.1511 - val_acc: 0.9426 - val_recall: 0.9107\n",
      "Epoch 42/1000\n",
      "688/688 [==============================] - 0s 177us/step - loss: 0.1742 - acc: 0.9360 - recall: 0.9079 - val_loss: 0.1489 - val_acc: 0.9459 - val_recall: 0.9174\n",
      "Epoch 43/1000\n",
      "688/688 [==============================] - 0s 177us/step - loss: 0.1457 - acc: 0.9433 - recall: 0.9201 - val_loss: 0.1487 - val_acc: 0.9459 - val_recall: 0.9174\n",
      "Epoch 44/1000\n",
      "688/688 [==============================] - 0s 155us/step - loss: 0.1581 - acc: 0.9419 - recall: 0.9303 - val_loss: 0.1490 - val_acc: 0.9392 - val_recall: 0.9049\n",
      "Epoch 45/1000\n",
      "688/688 [==============================] - 0s 183us/step - loss: 0.1450 - acc: 0.9506 - recall: 0.9162 - val_loss: 0.1461 - val_acc: 0.9426 - val_recall: 0.9174\n",
      "Epoch 46/1000\n",
      "688/688 [==============================] - 0s 158us/step - loss: 0.1258 - acc: 0.9491 - recall: 0.9250 - val_loss: 0.1473 - val_acc: 0.9426 - val_recall: 0.9174\n",
      "Epoch 47/1000\n"
     ]
    },
    {
     "name": "stdout",
     "output_type": "stream",
     "text": [
      "688/688 [==============================] - 0s 184us/step - loss: 0.1235 - acc: 0.9549 - recall: 0.9393 - val_loss: 0.1455 - val_acc: 0.9392 - val_recall: 0.9174\n",
      "Epoch 48/1000\n",
      "688/688 [==============================] - 0s 178us/step - loss: 0.1505 - acc: 0.9477 - recall: 0.9261 - val_loss: 0.1447 - val_acc: 0.9392 - val_recall: 0.9232\n",
      "Epoch 49/1000\n",
      "688/688 [==============================] - 0s 181us/step - loss: 0.1713 - acc: 0.9419 - recall: 0.9344 - val_loss: 0.1422 - val_acc: 0.9392 - val_recall: 0.9174\n",
      "Epoch 50/1000\n",
      "688/688 [==============================] - 0s 158us/step - loss: 0.1534 - acc: 0.9375 - recall: 0.9035 - val_loss: 0.1452 - val_acc: 0.9392 - val_recall: 0.9116\n",
      "Epoch 51/1000\n",
      "688/688 [==============================] - 0s 150us/step - loss: 0.1358 - acc: 0.9448 - recall: 0.9228 - val_loss: 0.1476 - val_acc: 0.9358 - val_recall: 0.9062\n",
      "Epoch 52/1000\n",
      "688/688 [==============================] - 0s 149us/step - loss: 0.1435 - acc: 0.9477 - recall: 0.9270 - val_loss: 0.1454 - val_acc: 0.9459 - val_recall: 0.9232\n",
      "Epoch 53/1000\n",
      "688/688 [==============================] - 0s 177us/step - loss: 0.1504 - acc: 0.9462 - recall: 0.9191 - val_loss: 0.1420 - val_acc: 0.9426 - val_recall: 0.9232\n",
      "Epoch 54/1000\n",
      "688/688 [==============================] - 0s 150us/step - loss: 0.1307 - acc: 0.9578 - recall: 0.9452 - val_loss: 0.1443 - val_acc: 0.9392 - val_recall: 0.9174\n",
      "Epoch 55/1000\n",
      "688/688 [==============================] - 0s 156us/step - loss: 0.1527 - acc: 0.9477 - recall: 0.9220 - val_loss: 0.1436 - val_acc: 0.9459 - val_recall: 0.9300\n",
      "Epoch 56/1000\n",
      "688/688 [==============================] - 0s 150us/step - loss: 0.1442 - acc: 0.9506 - recall: 0.9287 - val_loss: 0.1448 - val_acc: 0.9493 - val_recall: 0.9300\n",
      "Epoch 57/1000\n",
      "688/688 [==============================] - 0s 152us/step - loss: 0.1368 - acc: 0.9578 - recall: 0.9425 - val_loss: 0.1471 - val_acc: 0.9493 - val_recall: 0.9332\n",
      "Epoch 58/1000\n",
      "688/688 [==============================] - 0s 146us/step - loss: 0.1312 - acc: 0.9477 - recall: 0.9348 - val_loss: 0.1458 - val_acc: 0.9392 - val_recall: 0.9184\n",
      "Epoch 59/1000\n",
      "688/688 [==============================] - 0s 149us/step - loss: 0.1377 - acc: 0.9462 - recall: 0.9050 - val_loss: 0.1525 - val_acc: 0.9392 - val_recall: 0.9116\n",
      "Epoch 60/1000\n",
      "688/688 [==============================] - 0s 148us/step - loss: 0.1321 - acc: 0.9564 - recall: 0.9331 - val_loss: 0.1545 - val_acc: 0.9392 - val_recall: 0.9059\n",
      "Epoch 61/1000\n",
      "688/688 [==============================] - 0s 147us/step - loss: 0.1261 - acc: 0.9593 - recall: 0.9326 - val_loss: 0.1538 - val_acc: 0.9392 - val_recall: 0.9126\n",
      "Epoch 62/1000\n",
      "688/688 [==============================] - 0s 149us/step - loss: 0.1161 - acc: 0.9520 - recall: 0.9280 - val_loss: 0.1576 - val_acc: 0.9392 - val_recall: 0.9126\n",
      "Epoch 63/1000\n",
      "688/688 [==============================] - 0s 150us/step - loss: 0.1417 - acc: 0.9506 - recall: 0.9284 - val_loss: 0.1555 - val_acc: 0.9426 - val_recall: 0.9126\n",
      "Epoch 64/1000\n",
      "688/688 [==============================] - 0s 148us/step - loss: 0.1099 - acc: 0.9593 - recall: 0.9390 - val_loss: 0.1536 - val_acc: 0.9459 - val_recall: 0.9194\n",
      "Epoch 65/1000\n",
      "688/688 [==============================] - 0s 158us/step - loss: 0.1451 - acc: 0.9491 - recall: 0.9326 - val_loss: 0.1536 - val_acc: 0.9392 - val_recall: 0.9072\n",
      "Epoch 66/1000\n",
      "688/688 [==============================] - 0s 149us/step - loss: 0.1388 - acc: 0.9520 - recall: 0.9309 - val_loss: 0.1498 - val_acc: 0.9459 - val_recall: 0.9198\n",
      "Epoch 67/1000\n",
      "688/688 [==============================] - 0s 152us/step - loss: 0.1380 - acc: 0.9477 - recall: 0.9245 - val_loss: 0.1492 - val_acc: 0.9493 - val_recall: 0.9346\n",
      "Epoch 68/1000\n",
      "688/688 [==============================] - 0s 154us/step - loss: 0.1131 - acc: 0.9535 - recall: 0.9356 - val_loss: 0.1517 - val_acc: 0.9493 - val_recall: 0.9288\n",
      "Epoch 69/1000\n",
      "688/688 [==============================] - 0s 155us/step - loss: 0.1135 - acc: 0.9535 - recall: 0.9481 - val_loss: 0.1529 - val_acc: 0.9459 - val_recall: 0.9288\n",
      "Epoch 70/1000\n",
      "688/688 [==============================] - 0s 149us/step - loss: 0.0974 - acc: 0.9593 - recall: 0.9397 - val_loss: 0.1543 - val_acc: 0.9426 - val_recall: 0.9288\n",
      "Epoch 71/1000\n",
      "688/688 [==============================] - 0s 151us/step - loss: 0.1292 - acc: 0.9477 - recall: 0.9328 - val_loss: 0.1579 - val_acc: 0.9426 - val_recall: 0.9288\n",
      "Epoch 72/1000\n",
      "688/688 [==============================] - 0s 153us/step - loss: 0.1319 - acc: 0.9622 - recall: 0.9535 - val_loss: 0.1602 - val_acc: 0.9426 - val_recall: 0.9230\n",
      "Epoch 73/1000\n",
      "688/688 [==============================] - 0s 156us/step - loss: 0.1222 - acc: 0.9506 - recall: 0.9322 - val_loss: 0.1637 - val_acc: 0.9392 - val_recall: 0.9230\n",
      "Epoch 74/1000\n",
      "688/688 [==============================] - 0s 162us/step - loss: 0.1277 - acc: 0.9520 - recall: 0.9290 - val_loss: 0.1613 - val_acc: 0.9426 - val_recall: 0.9288\n",
      "Epoch 75/1000\n",
      "688/688 [==============================] - 0s 153us/step - loss: 0.1089 - acc: 0.9477 - recall: 0.9413 - val_loss: 0.1668 - val_acc: 0.9392 - val_recall: 0.9230\n",
      "Epoch 76/1000\n",
      "688/688 [==============================] - 0s 151us/step - loss: 0.1077 - acc: 0.9549 - recall: 0.9392 - val_loss: 0.1649 - val_acc: 0.9426 - val_recall: 0.9288\n",
      "Epoch 77/1000\n",
      "688/688 [==============================] - 0s 154us/step - loss: 0.0993 - acc: 0.9622 - recall: 0.9443 - val_loss: 0.1655 - val_acc: 0.9426 - val_recall: 0.9288\n",
      "Epoch 78/1000\n",
      "688/688 [==============================] - 0s 152us/step - loss: 0.1100 - acc: 0.9506 - recall: 0.9407 - val_loss: 0.1656 - val_acc: 0.9392 - val_recall: 0.9288\n",
      "Epoch 79/1000\n",
      "688/688 [==============================] - 0s 153us/step - loss: 0.1016 - acc: 0.9666 - recall: 0.9632 - val_loss: 0.1667 - val_acc: 0.9459 - val_recall: 0.9342\n",
      "Epoch 80/1000\n",
      "688/688 [==============================] - 0s 151us/step - loss: 0.1210 - acc: 0.9506 - recall: 0.9362 - val_loss: 0.1663 - val_acc: 0.9426 - val_recall: 0.9342\n",
      "Epoch 81/1000\n",
      "688/688 [==============================] - 0s 153us/step - loss: 0.0967 - acc: 0.9637 - recall: 0.9583 - val_loss: 0.1649 - val_acc: 0.9392 - val_recall: 0.9288\n",
      "Epoch 82/1000\n",
      "688/688 [==============================] - 0s 153us/step - loss: 0.0975 - acc: 0.9666 - recall: 0.9608 - val_loss: 0.1619 - val_acc: 0.9426 - val_recall: 0.9288\n",
      "Epoch 83/1000\n",
      "688/688 [==============================] - 0s 159us/step - loss: 0.1065 - acc: 0.9578 - recall: 0.9546 - val_loss: 0.1654 - val_acc: 0.9459 - val_recall: 0.9288\n",
      "Epoch 84/1000\n",
      "688/688 [==============================] - 0s 156us/step - loss: 0.1146 - acc: 0.9564 - recall: 0.9532 - val_loss: 0.1686 - val_acc: 0.9426 - val_recall: 0.9230\n",
      "Epoch 85/1000\n",
      "688/688 [==============================] - 0s 153us/step - loss: 0.0887 - acc: 0.9651 - recall: 0.9533 - val_loss: 0.1652 - val_acc: 0.9459 - val_recall: 0.9288\n",
      "Epoch 86/1000\n",
      "688/688 [==============================] - 0s 153us/step - loss: 0.1103 - acc: 0.9637 - recall: 0.9570 - val_loss: 0.1642 - val_acc: 0.9459 - val_recall: 0.9288\n",
      "Epoch 87/1000\n",
      "688/688 [==============================] - 0s 152us/step - loss: 0.1116 - acc: 0.9520 - recall: 0.9430 - val_loss: 0.1620 - val_acc: 0.9459 - val_recall: 0.9288\n",
      "Epoch 88/1000\n",
      "688/688 [==============================] - 0s 153us/step - loss: 0.0958 - acc: 0.9608 - recall: 0.9527 - val_loss: 0.1666 - val_acc: 0.9459 - val_recall: 0.9288\n",
      "Epoch 89/1000\n",
      "688/688 [==============================] - 0s 152us/step - loss: 0.1112 - acc: 0.9637 - recall: 0.9527 - val_loss: 0.1709 - val_acc: 0.9426 - val_recall: 0.9230\n",
      "Epoch 90/1000\n",
      "688/688 [==============================] - 0s 166us/step - loss: 0.0884 - acc: 0.9680 - recall: 0.9611 - val_loss: 0.1812 - val_acc: 0.9426 - val_recall: 0.9230\n",
      "Epoch 91/1000\n",
      "688/688 [==============================] - 0s 152us/step - loss: 0.0971 - acc: 0.9608 - recall: 0.9485 - val_loss: 0.1864 - val_acc: 0.9459 - val_recall: 0.9230\n",
      "Epoch 92/1000\n",
      "688/688 [==============================] - 0s 154us/step - loss: 0.0881 - acc: 0.9651 - recall: 0.9656 - val_loss: 0.1898 - val_acc: 0.9459 - val_recall: 0.9230\n",
      "Epoch 93/1000\n",
      "688/688 [==============================] - 0s 161us/step - loss: 0.0865 - acc: 0.9680 - recall: 0.9644 - val_loss: 0.1956 - val_acc: 0.9493 - val_recall: 0.9288\n"
     ]
    },
    {
     "name": "stdout",
     "output_type": "stream",
     "text": [
      "Epoch 94/1000\n",
      "688/688 [==============================] - 0s 152us/step - loss: 0.0998 - acc: 0.9651 - recall: 0.9490 - val_loss: 0.1939 - val_acc: 0.9493 - val_recall: 0.9288\n",
      "Epoch 95/1000\n",
      "688/688 [==============================] - 0s 152us/step - loss: 0.1195 - acc: 0.9666 - recall: 0.9566 - val_loss: 0.1749 - val_acc: 0.9459 - val_recall: 0.9288\n",
      "Epoch 96/1000\n",
      "688/688 [==============================] - 0s 154us/step - loss: 0.0882 - acc: 0.9637 - recall: 0.9701 - val_loss: 0.1801 - val_acc: 0.9459 - val_recall: 0.9288\n",
      "Epoch 97/1000\n",
      "688/688 [==============================] - 0s 149us/step - loss: 0.0853 - acc: 0.9695 - recall: 0.9673 - val_loss: 0.1908 - val_acc: 0.9426 - val_recall: 0.9230\n",
      "Epoch 98/1000\n",
      "688/688 [==============================] - 0s 148us/step - loss: 0.1005 - acc: 0.9506 - recall: 0.9389 - val_loss: 0.1885 - val_acc: 0.9426 - val_recall: 0.9230\n",
      "Epoch 99/1000\n",
      "688/688 [==============================] - 0s 149us/step - loss: 0.0977 - acc: 0.9520 - recall: 0.9502 - val_loss: 0.1887 - val_acc: 0.9459 - val_recall: 0.9288\n",
      "Epoch 100/1000\n",
      "688/688 [==============================] - 0s 151us/step - loss: 0.0979 - acc: 0.9637 - recall: 0.9512 - val_loss: 0.1867 - val_acc: 0.9493 - val_recall: 0.9288\n",
      "Epoch 101/1000\n",
      "688/688 [==============================] - 0s 156us/step - loss: 0.0831 - acc: 0.9724 - recall: 0.9592 - val_loss: 0.1972 - val_acc: 0.9493 - val_recall: 0.9288\n",
      "Epoch 102/1000\n",
      "688/688 [==============================] - 0s 154us/step - loss: 0.0884 - acc: 0.9695 - recall: 0.9645 - val_loss: 0.1941 - val_acc: 0.9493 - val_recall: 0.9288\n",
      "Epoch 103/1000\n",
      "688/688 [==============================] - 0s 155us/step - loss: 0.0987 - acc: 0.9578 - recall: 0.9541 - val_loss: 0.2080 - val_acc: 0.9459 - val_recall: 0.9230\n",
      "Epoch 104/1000\n",
      "688/688 [==============================] - 0s 153us/step - loss: 0.0904 - acc: 0.9608 - recall: 0.9650 - val_loss: 0.2091 - val_acc: 0.9459 - val_recall: 0.9230\n",
      "Epoch 105/1000\n",
      "688/688 [==============================] - 0s 153us/step - loss: 0.0781 - acc: 0.9724 - recall: 0.9732 - val_loss: 0.2118 - val_acc: 0.9459 - val_recall: 0.9230\n",
      "Epoch 106/1000\n",
      "688/688 [==============================] - 0s 154us/step - loss: 0.0725 - acc: 0.9695 - recall: 0.9526 - val_loss: 0.2076 - val_acc: 0.9493 - val_recall: 0.9288\n",
      "Epoch 107/1000\n",
      "688/688 [==============================] - 0s 147us/step - loss: 0.0909 - acc: 0.9724 - recall: 0.9648 - val_loss: 0.2134 - val_acc: 0.9493 - val_recall: 0.9288\n",
      "Epoch 108/1000\n",
      "688/688 [==============================] - 0s 150us/step - loss: 0.0956 - acc: 0.9608 - recall: 0.9453 - val_loss: 0.2122 - val_acc: 0.9426 - val_recall: 0.9288\n",
      "Epoch 109/1000\n",
      "688/688 [==============================] - 0s 160us/step - loss: 0.0829 - acc: 0.9666 - recall: 0.9578 - val_loss: 0.2218 - val_acc: 0.9459 - val_recall: 0.9288\n",
      "Epoch 110/1000\n",
      "688/688 [==============================] - 0s 156us/step - loss: 0.0737 - acc: 0.9782 - recall: 0.9802 - val_loss: 0.2326 - val_acc: 0.9493 - val_recall: 0.9288\n",
      "Epoch 111/1000\n",
      "688/688 [==============================] - 0s 151us/step - loss: 0.0701 - acc: 0.9767 - recall: 0.9731 - val_loss: 0.2398 - val_acc: 0.9493 - val_recall: 0.9288\n",
      "Epoch 112/1000\n",
      "688/688 [==============================] - 0s 155us/step - loss: 0.1099 - acc: 0.9709 - recall: 0.9699 - val_loss: 0.2236 - val_acc: 0.9459 - val_recall: 0.9288\n",
      "Epoch 113/1000\n",
      "688/688 [==============================] - 0s 154us/step - loss: 0.0710 - acc: 0.9767 - recall: 0.9779 - val_loss: 0.2345 - val_acc: 0.9493 - val_recall: 0.9288\n",
      "Epoch 114/1000\n",
      "688/688 [==============================] - 0s 159us/step - loss: 0.0643 - acc: 0.9666 - recall: 0.9600 - val_loss: 0.2385 - val_acc: 0.9493 - val_recall: 0.9288\n",
      "Epoch 115/1000\n",
      "688/688 [==============================] - 0s 156us/step - loss: 0.0753 - acc: 0.9738 - recall: 0.9724 - val_loss: 0.2410 - val_acc: 0.9459 - val_recall: 0.9230\n",
      "Epoch 116/1000\n",
      "688/688 [==============================] - 0s 170us/step - loss: 0.0845 - acc: 0.9695 - recall: 0.9696 - val_loss: 0.2377 - val_acc: 0.9459 - val_recall: 0.9230\n",
      "Epoch 117/1000\n",
      "688/688 [==============================] - 0s 163us/step - loss: 0.0782 - acc: 0.9709 - recall: 0.9776 - val_loss: 0.2511 - val_acc: 0.9459 - val_recall: 0.9230\n",
      "Epoch 118/1000\n",
      "688/688 [==============================] - 0s 164us/step - loss: 0.0828 - acc: 0.9709 - recall: 0.9638 - val_loss: 0.2521 - val_acc: 0.9459 - val_recall: 0.9230\n",
      "Epoch 119/1000\n",
      "688/688 [==============================] - 0s 163us/step - loss: 0.0783 - acc: 0.9666 - recall: 0.9605 - val_loss: 0.2570 - val_acc: 0.9459 - val_recall: 0.9230\n",
      "Epoch 120/1000\n",
      "688/688 [==============================] - 0s 158us/step - loss: 0.0742 - acc: 0.9724 - recall: 0.9658 - val_loss: 0.2615 - val_acc: 0.9459 - val_recall: 0.9230\n",
      "Epoch 121/1000\n",
      "688/688 [==============================] - 0s 167us/step - loss: 0.0661 - acc: 0.9767 - recall: 0.9813 - val_loss: 0.2588 - val_acc: 0.9459 - val_recall: 0.9230\n",
      "Epoch 122/1000\n",
      "688/688 [==============================] - 0s 154us/step - loss: 0.0689 - acc: 0.9738 - recall: 0.9751 - val_loss: 0.2687 - val_acc: 0.9459 - val_recall: 0.9230\n",
      "Epoch 123/1000\n",
      "688/688 [==============================] - 0s 153us/step - loss: 0.0613 - acc: 0.9811 - recall: 0.9736 - val_loss: 0.2701 - val_acc: 0.9459 - val_recall: 0.9230\n",
      "Epoch 124/1000\n",
      "688/688 [==============================] - 0s 156us/step - loss: 0.0740 - acc: 0.9680 - recall: 0.9623 - val_loss: 0.2781 - val_acc: 0.9459 - val_recall: 0.9230\n",
      "Epoch 125/1000\n",
      "688/688 [==============================] - 0s 174us/step - loss: 0.0589 - acc: 0.9767 - recall: 0.9773 - val_loss: 0.2783 - val_acc: 0.9459 - val_recall: 0.9230\n",
      "Epoch 126/1000\n",
      "688/688 [==============================] - 0s 172us/step - loss: 0.0488 - acc: 0.9855 - recall: 0.9774 - val_loss: 0.2815 - val_acc: 0.9459 - val_recall: 0.9230\n",
      "Epoch 127/1000\n",
      "688/688 [==============================] - 0s 174us/step - loss: 0.0768 - acc: 0.9738 - recall: 0.9774 - val_loss: 0.2864 - val_acc: 0.9426 - val_recall: 0.9162\n",
      "Epoch 128/1000\n",
      "688/688 [==============================] - 0s 176us/step - loss: 0.0745 - acc: 0.9695 - recall: 0.9685 - val_loss: 0.2943 - val_acc: 0.9459 - val_recall: 0.9230\n",
      "Epoch 129/1000\n",
      "688/688 [==============================] - 0s 162us/step - loss: 0.0542 - acc: 0.9840 - recall: 0.9807 - val_loss: 0.2958 - val_acc: 0.9459 - val_recall: 0.9230\n",
      "Epoch 130/1000\n",
      "688/688 [==============================] - 0s 151us/step - loss: 0.0651 - acc: 0.9797 - recall: 0.9776 - val_loss: 0.2865 - val_acc: 0.9459 - val_recall: 0.9230\n",
      "Epoch 131/1000\n",
      "688/688 [==============================] - 0s 152us/step - loss: 0.0739 - acc: 0.9724 - recall: 0.9768 - val_loss: 0.2980 - val_acc: 0.9459 - val_recall: 0.9230\n",
      "Epoch 132/1000\n",
      "688/688 [==============================] - 0s 175us/step - loss: 0.0730 - acc: 0.9797 - recall: 0.9721 - val_loss: 0.2925 - val_acc: 0.9459 - val_recall: 0.9230\n",
      "Epoch 133/1000\n",
      "688/688 [==============================] - 0s 175us/step - loss: 0.0667 - acc: 0.9709 - recall: 0.9703 - val_loss: 0.2903 - val_acc: 0.9459 - val_recall: 0.9230\n",
      "Epoch 134/1000\n",
      "688/688 [==============================] - 0s 181us/step - loss: 0.0666 - acc: 0.9797 - recall: 0.9845 - val_loss: 0.2969 - val_acc: 0.9459 - val_recall: 0.9230\n",
      "Epoch 135/1000\n",
      "688/688 [==============================] - 0s 175us/step - loss: 0.0560 - acc: 0.9753 - recall: 0.9703 - val_loss: 0.2979 - val_acc: 0.9459 - val_recall: 0.9230\n",
      "Epoch 136/1000\n",
      "688/688 [==============================] - 0s 161us/step - loss: 0.0583 - acc: 0.9826 - recall: 0.9839 - val_loss: 0.3037 - val_acc: 0.9459 - val_recall: 0.9230\n",
      "Epoch 137/1000\n",
      "688/688 [==============================] - 0s 155us/step - loss: 0.0596 - acc: 0.9753 - recall: 0.9855 - val_loss: 0.3162 - val_acc: 0.9459 - val_recall: 0.9230\n",
      "Epoch 138/1000\n",
      "688/688 [==============================] - 0s 158us/step - loss: 0.0483 - acc: 0.9840 - recall: 0.9898 - val_loss: 0.3216 - val_acc: 0.9459 - val_recall: 0.9230\n",
      "Epoch 139/1000\n",
      "688/688 [==============================] - 0s 152us/step - loss: 0.0631 - acc: 0.9767 - recall: 0.9612 - val_loss: 0.3128 - val_acc: 0.9459 - val_recall: 0.9230\n",
      "Epoch 140/1000\n"
     ]
    },
    {
     "name": "stdout",
     "output_type": "stream",
     "text": [
      "688/688 [==============================] - 0s 161us/step - loss: 0.0801 - acc: 0.9826 - recall: 0.9747 - val_loss: 0.3105 - val_acc: 0.9459 - val_recall: 0.9230\n",
      "Epoch 141/1000\n",
      "688/688 [==============================] - 0s 188us/step - loss: 0.0690 - acc: 0.9753 - recall: 0.9833 - val_loss: 0.3278 - val_acc: 0.9459 - val_recall: 0.9162\n",
      "Epoch 142/1000\n",
      "688/688 [==============================] - 0s 173us/step - loss: 0.0513 - acc: 0.9797 - recall: 0.9761 - val_loss: 0.3334 - val_acc: 0.9459 - val_recall: 0.9162\n",
      "Epoch 143/1000\n",
      "688/688 [==============================] - 0s 155us/step - loss: 0.0549 - acc: 0.9811 - recall: 0.9733 - val_loss: 0.3256 - val_acc: 0.9459 - val_recall: 0.9230\n",
      "Epoch 144/1000\n",
      "688/688 [==============================] - 0s 151us/step - loss: 0.0590 - acc: 0.9840 - recall: 0.9913 - val_loss: 0.3257 - val_acc: 0.9459 - val_recall: 0.9230\n",
      "Epoch 145/1000\n",
      "688/688 [==============================] - 0s 150us/step - loss: 0.0725 - acc: 0.9797 - recall: 0.9752 - val_loss: 0.3268 - val_acc: 0.9459 - val_recall: 0.9230\n",
      "Epoch 146/1000\n",
      "688/688 [==============================] - 0s 147us/step - loss: 0.0611 - acc: 0.9855 - recall: 0.9948 - val_loss: 0.3278 - val_acc: 0.9459 - val_recall: 0.9162\n",
      "Epoch 147/1000\n",
      "688/688 [==============================] - 0s 179us/step - loss: 0.0536 - acc: 0.9767 - recall: 0.9777 - val_loss: 0.3351 - val_acc: 0.9459 - val_recall: 0.9162\n",
      "Epoch 148/1000\n",
      "688/688 [==============================] - 0s 168us/step - loss: 0.0547 - acc: 0.9826 - recall: 0.9817 - val_loss: 0.3303 - val_acc: 0.9459 - val_recall: 0.9162\n",
      "Epoch 149/1000\n",
      "688/688 [==============================] - 0s 177us/step - loss: 0.0537 - acc: 0.9840 - recall: 0.9853 - val_loss: 0.3423 - val_acc: 0.9459 - val_recall: 0.9162\n",
      "Epoch 150/1000\n",
      "688/688 [==============================] - 0s 163us/step - loss: 0.0542 - acc: 0.9782 - recall: 0.9863 - val_loss: 0.3569 - val_acc: 0.9459 - val_recall: 0.9162\n",
      "Epoch 151/1000\n",
      "688/688 [==============================] - 0s 152us/step - loss: 0.0555 - acc: 0.9797 - recall: 0.9819 - val_loss: 0.3603 - val_acc: 0.9493 - val_recall: 0.9230\n",
      "Epoch 152/1000\n",
      "688/688 [==============================] - 0s 157us/step - loss: 0.0621 - acc: 0.9724 - recall: 0.9792 - val_loss: 0.3490 - val_acc: 0.9493 - val_recall: 0.9230\n",
      "Epoch 153/1000\n",
      "688/688 [==============================] - 0s 151us/step - loss: 0.0427 - acc: 0.9840 - recall: 0.9902 - val_loss: 0.3566 - val_acc: 0.9459 - val_recall: 0.9162\n"
     ]
    },
    {
     "data": {
      "text/plain": [
       "<keras.callbacks.History at 0x7fb6e4f2c940>"
      ]
     },
     "execution_count": 22,
     "metadata": {},
     "output_type": "execute_result"
    }
   ],
   "source": [
    "import os\n",
    "model=getModel()\n",
    "model.fit(X_train_under_array, y_train_under_array,\n",
    "          batch_size=24,\n",
    "          epochs=1000,\n",
    "          verbose=1,\n",
    "          validation_data=(X_test_under_array, y_test_under_array),\n",
    "          callbacks=callbacks)"
   ]
  },
  {
   "cell_type": "code",
   "execution_count": 23,
   "metadata": {},
   "outputs": [
    {
     "name": "stdout",
     "output_type": "stream",
     "text": [
      "284807/284807 [==============================] - 11s 39us/step\n",
      "Original dataset loss: 0.110411202302\n",
      "Original dataset accuracy: 0.963052168206\n"
     ]
    }
   ],
   "source": [
    "score = model.evaluate(X.as_matrix(), y.as_matrix(), batch_size=24)\n",
    "print('Original dataset loss:', score[0])\n",
    "print('Original dataset accuracy:', score[1])"
   ]
  },
  {
   "cell_type": "code",
   "execution_count": 24,
   "metadata": {},
   "outputs": [
    {
     "name": "stdout",
     "output_type": "stream",
     "text": [
      "284807/284807 [==============================] - 7s 24us/step\n"
     ]
    }
   ],
   "source": [
    "y_pred_dl = model.predict(X.as_matrix(), batch_size=24, verbose=1)"
   ]
  },
  {
   "cell_type": "code",
   "execution_count": 25,
   "metadata": {},
   "outputs": [
    {
     "name": "stdout",
     "output_type": "stream",
     "text": [
      "[[273807  10508]\n",
      " [    15    477]]\n",
      "Recall : 0.969512195122\n"
     ]
    }
   ],
   "source": [
    "confuction_matrix_dl = confusion_matrix(y.as_matrix(), np.round(y_pred_dl))\n",
    "print(confuction_matrix_dl)\n",
    "print('Recall :', confuction_matrix_dl[1,1]/(confuction_matrix_dl[1,0]+confuction_matrix_dl[1,1]))"
   ]
  },
  {
   "cell_type": "markdown",
   "metadata": {},
   "source": [
    "### One-class SVM"
   ]
  },
  {
   "cell_type": "code",
   "execution_count": 26,
   "metadata": {
    "collapsed": true
   },
   "outputs": [],
   "source": [
    "X_train, X_test, y_train, y_test = train_test_split(\n",
    "    X, y, test_size=0.3, random_state=0\n",
    ")\n",
    "\n",
    "X_train_good = X_train[y_train == 0]\n",
    "y_train_good = y_train[y_train == 0]\n",
    "\n",
    "# Instantiate normalisation \n",
    "nrm = MinMaxScaler()"
   ]
  },
  {
   "cell_type": "code",
   "execution_count": 27,
   "metadata": {},
   "outputs": [
    {
     "data": {
      "text/plain": [
       "Pipeline(memory=None,\n",
       "     steps=[('Normalise', MinMaxScaler(copy=True, feature_range=(0, 1))), ('SVM', OneClassSVM(cache_size=200, coef0=0.0, degree=3, gamma='auto', kernel='rbf',\n",
       "      max_iter=-1, nu=0.2, random_state=2008, shrinking=True, tol=0.001,\n",
       "      verbose=False))])"
      ]
     },
     "execution_count": 27,
     "metadata": {},
     "output_type": "execute_result"
    }
   ],
   "source": [
    "one_svm = OneClassSVM(random_state=2008, nu=0.2) # Nu set by trial and error\n",
    "svm_pl = Pipeline([('Normalise', nrm),\n",
    "                   ('SVM', one_svm)])\n",
    "svm_pl.fit(X_train_good)"
   ]
  },
  {
   "cell_type": "code",
   "execution_count": 28,
   "metadata": {},
   "outputs": [
    {
     "name": "stdout",
     "output_type": "stream",
     "text": [
      "             precision    recall  f1-score   support\n",
      "\n",
      "          0       1.00      0.80      0.89     85296\n",
      "          1       0.01      0.92      0.02       147\n",
      "\n",
      "avg / total       1.00      0.80      0.89     85443\n",
      "\n",
      "[[68425 16871]\n",
      " [   12   135]]\n"
     ]
    }
   ],
   "source": [
    "preds = svm_pl.predict(X_test)  \n",
    "preds = ((preds * -1) + 1) / 2\n",
    "\n",
    "print(metrics.classification_report(y_test, preds))\n",
    "confuction_matrix_dl = confusion_matrix(y_test, preds)\n",
    "print(confuction_matrix_dl)"
   ]
  },
  {
   "cell_type": "markdown",
   "metadata": {},
   "source": [
    "### Semi Supervised ?"
   ]
  },
  {
   "cell_type": "code",
   "execution_count": null,
   "metadata": {
    "collapsed": true
   },
   "outputs": [],
   "source": []
  }
 ],
 "metadata": {
  "kernelspec": {
   "display_name": "Python 3",
   "language": "python",
   "name": "python3"
  },
  "language_info": {
   "codemirror_mode": {
    "name": "ipython",
    "version": 3
   },
   "file_extension": ".py",
   "mimetype": "text/x-python",
   "name": "python",
   "nbconvert_exporter": "python",
   "pygments_lexer": "ipython3",
   "version": "3.5.4"
  }
 },
 "nbformat": 4,
 "nbformat_minor": 2
}
