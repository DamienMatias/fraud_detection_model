{
 "cells": [
  {
   "cell_type": "code",
   "execution_count": 1,
   "metadata": {
    "collapsed": true
   },
   "outputs": [],
   "source": [
    "import numpy as np # linear algebra\n",
    "import pandas as pd # data processing, CSV file I/O (e.g. pd.read_csv)\n",
    "import matplotlib.pyplot as plt\n",
    "import itertools\n",
    "\n",
    "from sklearn.preprocessing import StandardScaler\n",
    "from sklearn.model_selection import train_test_split, GridSearchCV\n",
    "from sklearn.metrics import mean_squared_error, confusion_matrix\n",
    "from sklearn.linear_model import LogisticRegression\n",
    "from sklearn.svm import SVC\n",
    "from sklearn.ensemble import RandomForestClassifier\n",
    "\n",
    "%matplotlib inline"
   ]
  },
  {
   "cell_type": "code",
   "execution_count": 2,
   "metadata": {},
   "outputs": [
    {
     "data": {
      "text/html": [
       "<div>\n",
       "<style>\n",
       "    .dataframe thead tr:only-child th {\n",
       "        text-align: right;\n",
       "    }\n",
       "\n",
       "    .dataframe thead th {\n",
       "        text-align: left;\n",
       "    }\n",
       "\n",
       "    .dataframe tbody tr th {\n",
       "        vertical-align: top;\n",
       "    }\n",
       "</style>\n",
       "<table border=\"1\" class=\"dataframe\">\n",
       "  <thead>\n",
       "    <tr style=\"text-align: right;\">\n",
       "      <th></th>\n",
       "      <th>Time</th>\n",
       "      <th>V1</th>\n",
       "      <th>V2</th>\n",
       "      <th>V3</th>\n",
       "      <th>V4</th>\n",
       "      <th>V5</th>\n",
       "      <th>V6</th>\n",
       "      <th>V7</th>\n",
       "      <th>V8</th>\n",
       "      <th>V9</th>\n",
       "      <th>...</th>\n",
       "      <th>V21</th>\n",
       "      <th>V22</th>\n",
       "      <th>V23</th>\n",
       "      <th>V24</th>\n",
       "      <th>V25</th>\n",
       "      <th>V26</th>\n",
       "      <th>V27</th>\n",
       "      <th>V28</th>\n",
       "      <th>Amount</th>\n",
       "      <th>Class</th>\n",
       "    </tr>\n",
       "  </thead>\n",
       "  <tbody>\n",
       "    <tr>\n",
       "      <th>0</th>\n",
       "      <td>0.0</td>\n",
       "      <td>-1.359807</td>\n",
       "      <td>-0.072781</td>\n",
       "      <td>2.536347</td>\n",
       "      <td>1.378155</td>\n",
       "      <td>-0.338321</td>\n",
       "      <td>0.462388</td>\n",
       "      <td>0.239599</td>\n",
       "      <td>0.098698</td>\n",
       "      <td>0.363787</td>\n",
       "      <td>...</td>\n",
       "      <td>-0.018307</td>\n",
       "      <td>0.277838</td>\n",
       "      <td>-0.110474</td>\n",
       "      <td>0.066928</td>\n",
       "      <td>0.128539</td>\n",
       "      <td>-0.189115</td>\n",
       "      <td>0.133558</td>\n",
       "      <td>-0.021053</td>\n",
       "      <td>149.62</td>\n",
       "      <td>0</td>\n",
       "    </tr>\n",
       "    <tr>\n",
       "      <th>1</th>\n",
       "      <td>0.0</td>\n",
       "      <td>1.191857</td>\n",
       "      <td>0.266151</td>\n",
       "      <td>0.166480</td>\n",
       "      <td>0.448154</td>\n",
       "      <td>0.060018</td>\n",
       "      <td>-0.082361</td>\n",
       "      <td>-0.078803</td>\n",
       "      <td>0.085102</td>\n",
       "      <td>-0.255425</td>\n",
       "      <td>...</td>\n",
       "      <td>-0.225775</td>\n",
       "      <td>-0.638672</td>\n",
       "      <td>0.101288</td>\n",
       "      <td>-0.339846</td>\n",
       "      <td>0.167170</td>\n",
       "      <td>0.125895</td>\n",
       "      <td>-0.008983</td>\n",
       "      <td>0.014724</td>\n",
       "      <td>2.69</td>\n",
       "      <td>0</td>\n",
       "    </tr>\n",
       "    <tr>\n",
       "      <th>2</th>\n",
       "      <td>1.0</td>\n",
       "      <td>-1.358354</td>\n",
       "      <td>-1.340163</td>\n",
       "      <td>1.773209</td>\n",
       "      <td>0.379780</td>\n",
       "      <td>-0.503198</td>\n",
       "      <td>1.800499</td>\n",
       "      <td>0.791461</td>\n",
       "      <td>0.247676</td>\n",
       "      <td>-1.514654</td>\n",
       "      <td>...</td>\n",
       "      <td>0.247998</td>\n",
       "      <td>0.771679</td>\n",
       "      <td>0.909412</td>\n",
       "      <td>-0.689281</td>\n",
       "      <td>-0.327642</td>\n",
       "      <td>-0.139097</td>\n",
       "      <td>-0.055353</td>\n",
       "      <td>-0.059752</td>\n",
       "      <td>378.66</td>\n",
       "      <td>0</td>\n",
       "    </tr>\n",
       "    <tr>\n",
       "      <th>3</th>\n",
       "      <td>1.0</td>\n",
       "      <td>-0.966272</td>\n",
       "      <td>-0.185226</td>\n",
       "      <td>1.792993</td>\n",
       "      <td>-0.863291</td>\n",
       "      <td>-0.010309</td>\n",
       "      <td>1.247203</td>\n",
       "      <td>0.237609</td>\n",
       "      <td>0.377436</td>\n",
       "      <td>-1.387024</td>\n",
       "      <td>...</td>\n",
       "      <td>-0.108300</td>\n",
       "      <td>0.005274</td>\n",
       "      <td>-0.190321</td>\n",
       "      <td>-1.175575</td>\n",
       "      <td>0.647376</td>\n",
       "      <td>-0.221929</td>\n",
       "      <td>0.062723</td>\n",
       "      <td>0.061458</td>\n",
       "      <td>123.50</td>\n",
       "      <td>0</td>\n",
       "    </tr>\n",
       "    <tr>\n",
       "      <th>4</th>\n",
       "      <td>2.0</td>\n",
       "      <td>-1.158233</td>\n",
       "      <td>0.877737</td>\n",
       "      <td>1.548718</td>\n",
       "      <td>0.403034</td>\n",
       "      <td>-0.407193</td>\n",
       "      <td>0.095921</td>\n",
       "      <td>0.592941</td>\n",
       "      <td>-0.270533</td>\n",
       "      <td>0.817739</td>\n",
       "      <td>...</td>\n",
       "      <td>-0.009431</td>\n",
       "      <td>0.798278</td>\n",
       "      <td>-0.137458</td>\n",
       "      <td>0.141267</td>\n",
       "      <td>-0.206010</td>\n",
       "      <td>0.502292</td>\n",
       "      <td>0.219422</td>\n",
       "      <td>0.215153</td>\n",
       "      <td>69.99</td>\n",
       "      <td>0</td>\n",
       "    </tr>\n",
       "  </tbody>\n",
       "</table>\n",
       "<p>5 rows × 31 columns</p>\n",
       "</div>"
      ],
      "text/plain": [
       "   Time        V1        V2        V3        V4        V5        V6        V7  \\\n",
       "0   0.0 -1.359807 -0.072781  2.536347  1.378155 -0.338321  0.462388  0.239599   \n",
       "1   0.0  1.191857  0.266151  0.166480  0.448154  0.060018 -0.082361 -0.078803   \n",
       "2   1.0 -1.358354 -1.340163  1.773209  0.379780 -0.503198  1.800499  0.791461   \n",
       "3   1.0 -0.966272 -0.185226  1.792993 -0.863291 -0.010309  1.247203  0.237609   \n",
       "4   2.0 -1.158233  0.877737  1.548718  0.403034 -0.407193  0.095921  0.592941   \n",
       "\n",
       "         V8        V9  ...         V21       V22       V23       V24  \\\n",
       "0  0.098698  0.363787  ...   -0.018307  0.277838 -0.110474  0.066928   \n",
       "1  0.085102 -0.255425  ...   -0.225775 -0.638672  0.101288 -0.339846   \n",
       "2  0.247676 -1.514654  ...    0.247998  0.771679  0.909412 -0.689281   \n",
       "3  0.377436 -1.387024  ...   -0.108300  0.005274 -0.190321 -1.175575   \n",
       "4 -0.270533  0.817739  ...   -0.009431  0.798278 -0.137458  0.141267   \n",
       "\n",
       "        V25       V26       V27       V28  Amount  Class  \n",
       "0  0.128539 -0.189115  0.133558 -0.021053  149.62      0  \n",
       "1  0.167170  0.125895 -0.008983  0.014724    2.69      0  \n",
       "2 -0.327642 -0.139097 -0.055353 -0.059752  378.66      0  \n",
       "3  0.647376 -0.221929  0.062723  0.061458  123.50      0  \n",
       "4 -0.206010  0.502292  0.219422  0.215153   69.99      0  \n",
       "\n",
       "[5 rows x 31 columns]"
      ]
     },
     "execution_count": 2,
     "metadata": {},
     "output_type": "execute_result"
    }
   ],
   "source": [
    "df = pd.read_csv(\"creditcard.csv\")\n",
    "df.head()"
   ]
  },
  {
   "cell_type": "code",
   "execution_count": 3,
   "metadata": {},
   "outputs": [
    {
     "data": {
      "text/plain": [
       "Time      0\n",
       "V1        0\n",
       "V2        0\n",
       "V3        0\n",
       "V4        0\n",
       "V5        0\n",
       "V6        0\n",
       "V7        0\n",
       "V8        0\n",
       "V9        0\n",
       "V10       0\n",
       "V11       0\n",
       "V12       0\n",
       "V13       0\n",
       "V14       0\n",
       "V15       0\n",
       "V16       0\n",
       "V17       0\n",
       "V18       0\n",
       "V19       0\n",
       "V20       0\n",
       "V21       0\n",
       "V22       0\n",
       "V23       0\n",
       "V24       0\n",
       "V25       0\n",
       "V26       0\n",
       "V27       0\n",
       "V28       0\n",
       "Amount    0\n",
       "Class     0\n",
       "dtype: int64"
      ]
     },
     "execution_count": 3,
     "metadata": {},
     "output_type": "execute_result"
    }
   ],
   "source": [
    "df.isnull().sum()"
   ]
  },
  {
   "cell_type": "markdown",
   "metadata": {},
   "source": [
    "We have no NA values which is good"
   ]
  },
  {
   "cell_type": "code",
   "execution_count": 4,
   "metadata": {},
   "outputs": [
    {
     "name": "stdout",
     "output_type": "stream",
     "text": [
      "Class as pie chart:\n"
     ]
    },
    {
     "data": {
      "text/plain": [
       "Text(0,0.5,'')"
      ]
     },
     "execution_count": 4,
     "metadata": {},
     "output_type": "execute_result"
    },
    {
     "data": {
      "image/png": "[encoded data removed]",
      "text/plain": [
       "<matplotlib.figure.Figure at 0x7f32fd721c88>"
      ]
     },
     "metadata": {},
     "output_type": "display_data"
    }
   ],
   "source": [
    "print(\"Class as pie chart:\")\n",
    "fig, ax = plt.subplots(1, 1)\n",
    "ax.pie(df.Class.value_counts(),autopct='%1.1f%%', labels=['Genuine','Fraud'], colors=['green','r'])\n",
    "plt.axis('equal')\n",
    "plt.ylabel('')"
   ]
  },
  {
   "cell_type": "markdown",
   "metadata": {},
   "source": [
    "Our dataset is very unbalanced. We have to do something about it"
   ]
  },
  {
   "cell_type": "markdown",
   "metadata": {},
   "source": [
    "# Undersampling\n",
    "\n",
    "Our goal here is to delete instances from the over-represented class"
   ]
  },
  {
   "cell_type": "code",
   "execution_count": 5,
   "metadata": {},
   "outputs": [
    {
     "data": {
      "text/html": [
       "<div>\n",
       "<style>\n",
       "    .dataframe thead tr:only-child th {\n",
       "        text-align: right;\n",
       "    }\n",
       "\n",
       "    .dataframe thead th {\n",
       "        text-align: left;\n",
       "    }\n",
       "\n",
       "    .dataframe tbody tr th {\n",
       "        vertical-align: top;\n",
       "    }\n",
       "</style>\n",
       "<table border=\"1\" class=\"dataframe\">\n",
       "  <thead>\n",
       "    <tr style=\"text-align: right;\">\n",
       "      <th></th>\n",
       "      <th>V1</th>\n",
       "      <th>V2</th>\n",
       "      <th>V3</th>\n",
       "      <th>V4</th>\n",
       "      <th>V5</th>\n",
       "      <th>V6</th>\n",
       "      <th>V7</th>\n",
       "      <th>V8</th>\n",
       "      <th>V9</th>\n",
       "      <th>V10</th>\n",
       "      <th>...</th>\n",
       "      <th>V21</th>\n",
       "      <th>V22</th>\n",
       "      <th>V23</th>\n",
       "      <th>V24</th>\n",
       "      <th>V25</th>\n",
       "      <th>V26</th>\n",
       "      <th>V27</th>\n",
       "      <th>V28</th>\n",
       "      <th>Class</th>\n",
       "      <th>normAmount</th>\n",
       "    </tr>\n",
       "  </thead>\n",
       "  <tbody>\n",
       "    <tr>\n",
       "      <th>0</th>\n",
       "      <td>-1.359807</td>\n",
       "      <td>-0.072781</td>\n",
       "      <td>2.536347</td>\n",
       "      <td>1.378155</td>\n",
       "      <td>-0.338321</td>\n",
       "      <td>0.462388</td>\n",
       "      <td>0.239599</td>\n",
       "      <td>0.098698</td>\n",
       "      <td>0.363787</td>\n",
       "      <td>0.090794</td>\n",
       "      <td>...</td>\n",
       "      <td>-0.018307</td>\n",
       "      <td>0.277838</td>\n",
       "      <td>-0.110474</td>\n",
       "      <td>0.066928</td>\n",
       "      <td>0.128539</td>\n",
       "      <td>-0.189115</td>\n",
       "      <td>0.133558</td>\n",
       "      <td>-0.021053</td>\n",
       "      <td>0</td>\n",
       "      <td>0.244964</td>\n",
       "    </tr>\n",
       "    <tr>\n",
       "      <th>1</th>\n",
       "      <td>1.191857</td>\n",
       "      <td>0.266151</td>\n",
       "      <td>0.166480</td>\n",
       "      <td>0.448154</td>\n",
       "      <td>0.060018</td>\n",
       "      <td>-0.082361</td>\n",
       "      <td>-0.078803</td>\n",
       "      <td>0.085102</td>\n",
       "      <td>-0.255425</td>\n",
       "      <td>-0.166974</td>\n",
       "      <td>...</td>\n",
       "      <td>-0.225775</td>\n",
       "      <td>-0.638672</td>\n",
       "      <td>0.101288</td>\n",
       "      <td>-0.339846</td>\n",
       "      <td>0.167170</td>\n",
       "      <td>0.125895</td>\n",
       "      <td>-0.008983</td>\n",
       "      <td>0.014724</td>\n",
       "      <td>0</td>\n",
       "      <td>-0.342475</td>\n",
       "    </tr>\n",
       "    <tr>\n",
       "      <th>2</th>\n",
       "      <td>-1.358354</td>\n",
       "      <td>-1.340163</td>\n",
       "      <td>1.773209</td>\n",
       "      <td>0.379780</td>\n",
       "      <td>-0.503198</td>\n",
       "      <td>1.800499</td>\n",
       "      <td>0.791461</td>\n",
       "      <td>0.247676</td>\n",
       "      <td>-1.514654</td>\n",
       "      <td>0.207643</td>\n",
       "      <td>...</td>\n",
       "      <td>0.247998</td>\n",
       "      <td>0.771679</td>\n",
       "      <td>0.909412</td>\n",
       "      <td>-0.689281</td>\n",
       "      <td>-0.327642</td>\n",
       "      <td>-0.139097</td>\n",
       "      <td>-0.055353</td>\n",
       "      <td>-0.059752</td>\n",
       "      <td>0</td>\n",
       "      <td>1.160686</td>\n",
       "    </tr>\n",
       "    <tr>\n",
       "      <th>3</th>\n",
       "      <td>-0.966272</td>\n",
       "      <td>-0.185226</td>\n",
       "      <td>1.792993</td>\n",
       "      <td>-0.863291</td>\n",
       "      <td>-0.010309</td>\n",
       "      <td>1.247203</td>\n",
       "      <td>0.237609</td>\n",
       "      <td>0.377436</td>\n",
       "      <td>-1.387024</td>\n",
       "      <td>-0.054952</td>\n",
       "      <td>...</td>\n",
       "      <td>-0.108300</td>\n",
       "      <td>0.005274</td>\n",
       "      <td>-0.190321</td>\n",
       "      <td>-1.175575</td>\n",
       "      <td>0.647376</td>\n",
       "      <td>-0.221929</td>\n",
       "      <td>0.062723</td>\n",
       "      <td>0.061458</td>\n",
       "      <td>0</td>\n",
       "      <td>0.140534</td>\n",
       "    </tr>\n",
       "    <tr>\n",
       "      <th>4</th>\n",
       "      <td>-1.158233</td>\n",
       "      <td>0.877737</td>\n",
       "      <td>1.548718</td>\n",
       "      <td>0.403034</td>\n",
       "      <td>-0.407193</td>\n",
       "      <td>0.095921</td>\n",
       "      <td>0.592941</td>\n",
       "      <td>-0.270533</td>\n",
       "      <td>0.817739</td>\n",
       "      <td>0.753074</td>\n",
       "      <td>...</td>\n",
       "      <td>-0.009431</td>\n",
       "      <td>0.798278</td>\n",
       "      <td>-0.137458</td>\n",
       "      <td>0.141267</td>\n",
       "      <td>-0.206010</td>\n",
       "      <td>0.502292</td>\n",
       "      <td>0.219422</td>\n",
       "      <td>0.215153</td>\n",
       "      <td>0</td>\n",
       "      <td>-0.073403</td>\n",
       "    </tr>\n",
       "  </tbody>\n",
       "</table>\n",
       "<p>5 rows × 30 columns</p>\n",
       "</div>"
      ],
      "text/plain": [
       "         V1        V2        V3        V4        V5        V6        V7  \\\n",
       "0 -1.359807 -0.072781  2.536347  1.378155 -0.338321  0.462388  0.239599   \n",
       "1  1.191857  0.266151  0.166480  0.448154  0.060018 -0.082361 -0.078803   \n",
       "2 -1.358354 -1.340163  1.773209  0.379780 -0.503198  1.800499  0.791461   \n",
       "3 -0.966272 -0.185226  1.792993 -0.863291 -0.010309  1.247203  0.237609   \n",
       "4 -1.158233  0.877737  1.548718  0.403034 -0.407193  0.095921  0.592941   \n",
       "\n",
       "         V8        V9       V10     ...           V21       V22       V23  \\\n",
       "0  0.098698  0.363787  0.090794     ...     -0.018307  0.277838 -0.110474   \n",
       "1  0.085102 -0.255425 -0.166974     ...     -0.225775 -0.638672  0.101288   \n",
       "2  0.247676 -1.514654  0.207643     ...      0.247998  0.771679  0.909412   \n",
       "3  0.377436 -1.387024 -0.054952     ...     -0.108300  0.005274 -0.190321   \n",
       "4 -0.270533  0.817739  0.753074     ...     -0.009431  0.798278 -0.137458   \n",
       "\n",
       "        V24       V25       V26       V27       V28  Class  normAmount  \n",
       "0  0.066928  0.128539 -0.189115  0.133558 -0.021053      0    0.244964  \n",
       "1 -0.339846  0.167170  0.125895 -0.008983  0.014724      0   -0.342475  \n",
       "2 -0.689281 -0.327642 -0.139097 -0.055353 -0.059752      0    1.160686  \n",
       "3 -1.175575  0.647376 -0.221929  0.062723  0.061458      0    0.140534  \n",
       "4  0.141267 -0.206010  0.502292  0.219422  0.215153      0   -0.073403  \n",
       "\n",
       "[5 rows x 30 columns]"
      ]
     },
     "execution_count": 5,
     "metadata": {},
     "output_type": "execute_result"
    }
   ],
   "source": [
    "df['normAmount'] = StandardScaler().fit_transform(df['Amount'].values.reshape(-1, 1))\n",
    "df = df.drop(['Time', 'Amount'], axis=1)\n",
    "df.head()"
   ]
  },
  {
   "cell_type": "code",
   "execution_count": 6,
   "metadata": {},
   "outputs": [
    {
     "name": "stdout",
     "output_type": "stream",
     "text": [
      "         V1        V2        V3        V4        V5        V6        V7  \\\n",
      "0 -1.359807 -0.072781  2.536347  1.378155 -0.338321  0.462388  0.239599   \n",
      "1  1.191857  0.266151  0.166480  0.448154  0.060018 -0.082361 -0.078803   \n",
      "2 -1.358354 -1.340163  1.773209  0.379780 -0.503198  1.800499  0.791461   \n",
      "3 -0.966272 -0.185226  1.792993 -0.863291 -0.010309  1.247203  0.237609   \n",
      "4 -1.158233  0.877737  1.548718  0.403034 -0.407193  0.095921  0.592941   \n",
      "\n",
      "         V8        V9       V10     ...           V20       V21       V22  \\\n",
      "0  0.098698  0.363787  0.090794     ...      0.251412 -0.018307  0.277838   \n",
      "1  0.085102 -0.255425 -0.166974     ...     -0.069083 -0.225775 -0.638672   \n",
      "2  0.247676 -1.514654  0.207643     ...      0.524980  0.247998  0.771679   \n",
      "3  0.377436 -1.387024 -0.054952     ...     -0.208038 -0.108300  0.005274   \n",
      "4 -0.270533  0.817739  0.753074     ...      0.408542 -0.009431  0.798278   \n",
      "\n",
      "        V23       V24       V25       V26       V27       V28  normAmount  \n",
      "0 -0.110474  0.066928  0.128539 -0.189115  0.133558 -0.021053    0.244964  \n",
      "1  0.101288 -0.339846  0.167170  0.125895 -0.008983  0.014724   -0.342475  \n",
      "2  0.909412 -0.689281 -0.327642 -0.139097 -0.055353 -0.059752    1.160686  \n",
      "3 -0.190321 -1.175575  0.647376 -0.221929  0.062723  0.061458    0.140534  \n",
      "4 -0.137458  0.141267 -0.206010  0.502292  0.219422  0.215153   -0.073403  \n",
      "\n",
      "[5 rows x 29 columns]\n"
     ]
    }
   ],
   "source": [
    "y = df['Class']\n",
    "X = df.drop(['Class'], axis=1)\n",
    "print(X.head())"
   ]
  },
  {
   "cell_type": "code",
   "execution_count": 7,
   "metadata": {},
   "outputs": [
    {
     "name": "stdout",
     "output_type": "stream",
     "text": [
      "Percentage of normal transactions:  0.5\n",
      "Percentage of fraud transactions:  0.5\n",
      "Total number of transactions in resampled data:  984\n"
     ]
    }
   ],
   "source": [
    "# Number of data points in the minority class\n",
    "number_records_fraud = len(df[df.Class == 1])\n",
    "fraud_indices = np.array(df[df.Class == 1].index)\n",
    "\n",
    "# Picking the indices of the normal classes\n",
    "normal_indices = df[df.Class == 0].index\n",
    "\n",
    "# Out of the indices we picked, randomly select \"x\" number (number_records_fraud)\n",
    "random_normal_indices = np.random.choice(normal_indices, number_records_fraud, replace = False)\n",
    "random_normal_indices = np.array(random_normal_indices)\n",
    "\n",
    "# Appending the 2 indices\n",
    "under_sample_indices = np.concatenate([fraud_indices,random_normal_indices])\n",
    "\n",
    "# Under sample dataset\n",
    "under_sample_data = df.iloc[under_sample_indices,:]\n",
    "\n",
    "y_undersample = under_sample_data['Class']\n",
    "X_undersample = under_sample_data.drop(['Class'], axis=1)\n",
    "\n",
    "# Showing ratio\n",
    "print(\"Percentage of normal transactions: \", len(under_sample_data[under_sample_data.Class == 0])/len(under_sample_data))\n",
    "print(\"Percentage of fraud transactions: \", len(under_sample_data[under_sample_data.Class == 1])/len(under_sample_data))\n",
    "print(\"Total number of transactions in resampled data: \", len(under_sample_data))"
   ]
  },
  {
   "cell_type": "markdown",
   "metadata": {},
   "source": [
    "Now we have as much frauds than genuines"
   ]
  },
  {
   "cell_type": "code",
   "execution_count": 8,
   "metadata": {
    "collapsed": true
   },
   "outputs": [],
   "source": [
    "# Let's do a train_test_split on these data\n",
    "\n",
    "X_train_under, X_test_under, y_train_under, y_test_under = train_test_split(\n",
    "    X_undersample, y_undersample, test_size=0.3, random_state=0\n",
    ")"
   ]
  },
  {
   "cell_type": "markdown",
   "metadata": {},
   "source": [
    "Now we will try some algorithms with GridSearch\n",
    "\n",
    "### Logistic Regression\n",
    "\n",
    "First let's build our model around the undersampled data"
   ]
  },
  {
   "cell_type": "code",
   "execution_count": 9,
   "metadata": {},
   "outputs": [
    {
     "name": "stdout",
     "output_type": "stream",
     "text": [
      "Logistic Regression\n",
      "The best score with GridSearch for Logistic Regression is : 0.943313953488\n",
      "The best parameters with GridSearch for Logistic Regression are : {'C': 1, 'penalty': 'l1'}\n",
      "Logistic Regression train score = 0.954941860465\n",
      "Logistic Regression test score =  0.942567567568\n"
     ]
    }
   ],
   "source": [
    "lr_param_C = [0.01,0.1,1,10,100]\n",
    "lr_param_grid = {'C': lr_param_C, 'penalty': ['l1']}\n",
    "\n",
    "lr_grid_search = GridSearchCV(LogisticRegression(), lr_param_grid)\n",
    "lr_grid_search.fit(X_train_under, y_train_under)\n",
    "\n",
    "print('Logistic Regression')\n",
    "print('The best score with GridSearch for Logistic Regression is :', lr_grid_search.best_score_)\n",
    "print('The best parameters with GridSearch for Logistic Regression are :', lr_grid_search.best_params_)\n",
    "\n",
    "lr_best_params = lr_grid_search.best_params_\n",
    "\n",
    "lr = LogisticRegression(C=lr_best_params['C'], penalty='l1')\n",
    "lr.fit(X_train_under, y_train_under)\n",
    "lr_train_score = lr.score(X_train_under, y_train_under)\n",
    "lr_test_score = lr.score(X_test_under, y_test_under)\n",
    "print  ('Logistic Regression train score =', lr_train_score)\n",
    "print  ('Logistic Regression test score = ', lr_test_score)"
   ]
  },
  {
   "cell_type": "code",
   "execution_count": 10,
   "metadata": {
    "collapsed": true
   },
   "outputs": [],
   "source": [
    "def plot_confusion_matrix(cm, classes,\n",
    "                          normalize=False,\n",
    "                          title='Confusion matrix',\n",
    "                          cmap=plt.cm.Blues):\n",
    "    \"\"\"\n",
    "    This function prints and plots the confusion matrix.\n",
    "    Normalization can be applied by setting `normalize=True`.\n",
    "    \"\"\"\n",
    "    plt.imshow(cm, interpolation='nearest', cmap=cmap)\n",
    "    plt.title(title)\n",
    "    plt.colorbar()\n",
    "    tick_marks = np.arange(len(classes))\n",
    "    plt.xticks(tick_marks, classes, rotation=0)\n",
    "    plt.yticks(tick_marks, classes)\n",
    "\n",
    "    if normalize:\n",
    "        cm = cm.astype('float') / cm.sum(axis=1)[:, np.newaxis]\n",
    "        #print(\"Normalized confusion matrix\")\n",
    "    else:\n",
    "        1#print('Confusion matrix, without normalization')\n",
    "\n",
    "    #print(cm)\n",
    "\n",
    "    thresh = cm.max() / 2.\n",
    "    for i, j in itertools.product(range(cm.shape[0]), range(cm.shape[1])):\n",
    "        plt.text(j, i, cm[i, j],\n",
    "                 horizontalalignment=\"center\",\n",
    "                 color=\"white\" if cm[i, j] > thresh else \"black\")\n",
    "\n",
    "    plt.tight_layout()\n",
    "    plt.ylabel('True label')\n",
    "    plt.xlabel('Predicted label')"
   ]
  },
  {
   "cell_type": "code",
   "execution_count": 11,
   "metadata": {},
   "outputs": [
    {
     "name": "stdout",
     "output_type": "stream",
     "text": [
      "Recall metric in the testing dataset:  0.918367346939\n"
     ]
    },
    {
     "data": {
      "image/png": "[encoded data removed]",
      "text/plain": [
       "<matplotlib.figure.Figure at 0x7f32f9e08080>"
      ]
     },
     "metadata": {},
     "output_type": "display_data"
    }
   ],
   "source": [
    "y_pred_undersample_lr = lr.predict(X_test_under)\n",
    "\n",
    "# Compute confusion matrix\n",
    "cnf_matrix = confusion_matrix(y_test_under,y_pred_undersample_lr)\n",
    "np.set_printoptions(precision=2)\n",
    "\n",
    "print(\"Recall metric in the testing dataset: \", cnf_matrix[1,1]/(cnf_matrix[1,0]+cnf_matrix[1,1]))\n",
    "\n",
    "# Plot non-normalized confusion matrix\n",
    "class_names = [0,1]\n",
    "plt.figure()\n",
    "plot_confusion_matrix(cnf_matrix\n",
    "                      , classes=class_names\n",
    "                      , title='Confusion matrix')\n",
    "plt.show()"
   ]
  },
  {
   "cell_type": "code",
   "execution_count": 12,
   "metadata": {},
   "outputs": [
    {
     "name": "stdout",
     "output_type": "stream",
     "text": [
      "Recall metric in the original  dataset:  0.924796747967\n"
     ]
    },
    {
     "data": {
      "image/png": "[encoded data removed]",
      "text/plain": [
       "<matplotlib.figure.Figure at 0x7f32f9dcb828>"
      ]
     },
     "metadata": {},
     "output_type": "display_data"
    }
   ],
   "source": [
    "y_pred = lr.predict(X)\n",
    "\n",
    "# Compute confusion matrix\n",
    "cnf_matrix = confusion_matrix(y,y_pred)\n",
    "np.set_printoptions(precision=2)\n",
    "\n",
    "print(\"Recall metric in the original  dataset: \", cnf_matrix[1,1]/(cnf_matrix[1,0]+cnf_matrix[1,1]))\n",
    "\n",
    "# Plot non-normalized confusion matrix\n",
    "class_names = [0,1]\n",
    "plt.figure()\n",
    "plot_confusion_matrix(cnf_matrix\n",
    "                      , classes=class_names\n",
    "                      , title='Confusion matrix')\n",
    "plt.show()"
   ]
  },
  {
   "cell_type": "markdown",
   "metadata": {},
   "source": [
    "### SVM"
   ]
  },
  {
   "cell_type": "code",
   "execution_count": 13,
   "metadata": {},
   "outputs": [
    {
     "name": "stdout",
     "output_type": "stream",
     "text": [
      "SVC :\n",
      "The best score with GridSearch for SVC is : 0.911337209302\n",
      "The best parameters with GridSearch for SVC are : {'C': 1}\n",
      "SVC train score = 0.966569767442\n",
      "SVC test score =  0.932432432432\n",
      "Recall metric in the testing dataset:  0.918367346939\n"
     ]
    },
    {
     "data": {
      "image/png": "[encoded data removed]",
      "text/plain": [
       "<matplotlib.figure.Figure at 0x7f32f9d316d8>"
      ]
     },
     "metadata": {},
     "output_type": "display_data"
    }
   ],
   "source": [
    "svc_param_C = [0.01,0.1,1,10,100]\n",
    "svc_param_grid = {'C': svc_param_C}\n",
    "\n",
    "svc_grid_search = GridSearchCV(SVC(), svc_param_grid)\n",
    "svc_grid_search.fit(X_train_under, y_train_under)\n",
    "\n",
    "print('SVC :')\n",
    "print('The best score with GridSearch for SVC is :', svc_grid_search.best_score_)\n",
    "print('The best parameters with GridSearch for SVC are :', svc_grid_search.best_params_)\n",
    "\n",
    "svc_best_params = svc_grid_search.best_params_\n",
    "\n",
    "svc = SVC(C=svc_best_params['C'])\n",
    "svc.fit(X_train_under, y_train_under)\n",
    "svc_train_score = svc.score(X_train_under, y_train_under)\n",
    "svc_test_score = svc.score(X_test_under, y_test_under)\n",
    "print  ('SVC train score =', svc_train_score)\n",
    "print  ('SVC test score = ', svc_test_score)\n",
    "\n",
    "y_pred_undersample_svc = svc.predict(X_test_under)\n",
    "\n",
    "# Compute confusion matrix\n",
    "cnf_matrix = confusion_matrix(y_test_under, y_pred_undersample_svc)\n",
    "np.set_printoptions(precision=2)\n",
    "\n",
    "print(\"Recall metric in the testing dataset: \", cnf_matrix[1,1]/(cnf_matrix[1,0]+cnf_matrix[1,1]))\n",
    "\n",
    "# Plot non-normalized confusion matrix\n",
    "class_names = [0,1]\n",
    "plt.figure()\n",
    "plot_confusion_matrix(cnf_matrix\n",
    "                      , classes=class_names\n",
    "                      , title='Confusion matrix')\n",
    "plt.show()"
   ]
  },
  {
   "cell_type": "code",
   "execution_count": 14,
   "metadata": {},
   "outputs": [
    {
     "name": "stdout",
     "output_type": "stream",
     "text": [
      "Recall metric in the original  dataset:  0.932926829268\n"
     ]
    },
    {
     "data": {
      "image/png": "[encoded data removed]",
      "text/plain": [
       "<matplotlib.figure.Figure at 0x7f32f9d04b70>"
      ]
     },
     "metadata": {},
     "output_type": "display_data"
    }
   ],
   "source": [
    "y_pred_svc = svc.predict(X)\n",
    "\n",
    "# Compute confusion matrix\n",
    "cnf_matrix = confusion_matrix(y,y_pred_svc)\n",
    "np.set_printoptions(precision=2)\n",
    "\n",
    "print(\"Recall metric in the original  dataset: \", cnf_matrix[1,1]/(cnf_matrix[1,0]+cnf_matrix[1,1]))\n",
    "\n",
    "# Plot non-normalized confusion matrix\n",
    "class_names = [0,1]\n",
    "plt.figure()\n",
    "plot_confusion_matrix(cnf_matrix\n",
    "                      , classes=class_names\n",
    "                      , title='Confusion matrix')\n",
    "plt.show()"
   ]
  },
  {
   "cell_type": "markdown",
   "metadata": {},
   "source": [
    "### Random Forest"
   ]
  },
  {
   "cell_type": "code",
   "execution_count": 15,
   "metadata": {},
   "outputs": [
    {
     "name": "stdout",
     "output_type": "stream",
     "text": [
      "rf :\n",
      "The best score with GridSearch for rf is : 0.9375\n",
      "The best parameters with GridSearch for rf are : {'n_estimators': 100}\n",
      "rf train score = 1.0\n",
      "rf test score =  0.949324324324\n",
      "Recall metric in the testing dataset:  0.918367346939\n"
     ]
    },
    {
     "data": {
      "image/png": "[encoded data removed]",
      "text/plain": [
       "<matplotlib.figure.Figure at 0x7f32f9b804a8>"
      ]
     },
     "metadata": {},
     "output_type": "display_data"
    }
   ],
   "source": [
    "rf_param_n_estimator = [1,10,100]\n",
    "rf_param_grid = {'n_estimators': rf_param_n_estimator}\n",
    "\n",
    "rf_grid_search = GridSearchCV(RandomForestClassifier(), rf_param_grid)\n",
    "rf_grid_search.fit(X_train_under, y_train_under)\n",
    "\n",
    "print('rf :')\n",
    "print('The best score with GridSearch for rf is :', rf_grid_search.best_score_)\n",
    "print('The best parameters with GridSearch for rf are :', rf_grid_search.best_params_)\n",
    "\n",
    "rf_best_params = rf_grid_search.best_params_\n",
    "\n",
    "rf = RandomForestClassifier(n_estimators=rf_best_params['n_estimators'])\n",
    "rf.fit(X_train_under, y_train_under)\n",
    "rf_train_score = rf.score(X_train_under, y_train_under)\n",
    "rf_test_score = rf.score(X_test_under, y_test_under)\n",
    "print  ('rf train score =', rf_train_score)\n",
    "print  ('rf test score = ', rf_test_score)\n",
    "\n",
    "y_pred_undersample_rf = rf.predict(X_test_under)\n",
    "\n",
    "# Compute confusion matrix\n",
    "cnf_matrix = confusion_matrix(y_test_under, y_pred_undersample_rf)\n",
    "np.set_printoptions(precision=2)\n",
    "\n",
    "print(\"Recall metric in the testing dataset: \", cnf_matrix[1,1]/(cnf_matrix[1,0]+cnf_matrix[1,1]))\n",
    "\n",
    "# Plot non-normalized confusion matrix\n",
    "class_names = [0,1]\n",
    "plt.figure()\n",
    "plot_confusion_matrix(cnf_matrix\n",
    "                      , classes=class_names\n",
    "                      , title='Confusion matrix')\n",
    "plt.show()"
   ]
  },
  {
   "cell_type": "code",
   "execution_count": 16,
   "metadata": {},
   "outputs": [
    {
     "name": "stdout",
     "output_type": "stream",
     "text": [
      "Recall metric in the original  dataset:  0.975609756098\n"
     ]
    },
    {
     "data": {
      "image/png": "[encoded data removed]",
      "text/plain": [
       "<matplotlib.figure.Figure at 0x7f32f9b53f60>"
      ]
     },
     "metadata": {},
     "output_type": "display_data"
    }
   ],
   "source": [
    "y_pred_rf = rf.predict(X)\n",
    "\n",
    "# Compute confusion matrix\n",
    "cnf_matrix = confusion_matrix(y,y_pred_rf)\n",
    "np.set_printoptions(precision=2)\n",
    "\n",
    "print(\"Recall metric in the original  dataset: \", cnf_matrix[1,1]/(cnf_matrix[1,0]+cnf_matrix[1,1]))\n",
    "\n",
    "# Plot non-normalized confusion matrix\n",
    "class_names = [0,1]\n",
    "plt.figure()\n",
    "plot_confusion_matrix(cnf_matrix\n",
    "                      , classes=class_names\n",
    "                      , title='Confusion matrix')\n",
    "plt.show()"
   ]
  },
  {
   "cell_type": "markdown",
   "metadata": {},
   "source": [
    "### Neural Networks"
   ]
  },
  {
   "cell_type": "code",
   "execution_count": 17,
   "metadata": {},
   "outputs": [
    {
     "name": "stderr",
     "output_type": "stream",
     "text": [
      "Using TensorFlow backend.\n",
      "/home/damien/anaconda3/lib/python3.6/importlib/_bootstrap.py:219: RuntimeWarning: compiletime version 3.5 of module 'tensorflow.python.framework.fast_tensor_util' does not match runtime version 3.6\n",
      "  return f(*args, **kwds)\n"
     ]
    }
   ],
   "source": [
    "import keras.backend as K\n",
    "from keras.models import Sequential\n",
    "from keras.layers import Conv2D, MaxPooling2D, Dense, Dropout, Input, Flatten, Activation\n",
    "from keras.layers import GlobalMaxPooling2D\n",
    "from keras.layers.normalization import BatchNormalization\n",
    "from keras.layers.merge import Concatenate\n",
    "from keras.models import Model\n",
    "from keras import initializers\n",
    "from keras.optimizers import Adam\n",
    "from keras.callbacks import ModelCheckpoint, Callback, EarlyStopping"
   ]
  },
  {
   "cell_type": "code",
   "execution_count": 18,
   "metadata": {
    "collapsed": true
   },
   "outputs": [],
   "source": [
    "def recall(y_true, y_pred):\n",
    "    true_positives = K.sum(K.round(K.clip(y_true * y_pred, 0, 1)))\n",
    "    possible_positives = K.sum(K.round(K.clip(y_true, 0, 1)))\n",
    "    recall = true_positives / (possible_positives + K.epsilon())\n",
    "    \n",
    "    return recall\n",
    "\n",
    "def getModel():\n",
    "    model = Sequential()\n",
    "    \n",
    "    model.add(Dense(16, input_dim=29))\n",
    "    model.add(Activation('relu'))\n",
    "    model.add(Dropout(0.3))\n",
    "    \n",
    "    model.add(Dense(18))\n",
    "    model.add(Activation('relu'))\n",
    "    model.add(Dropout(0.3))\n",
    "    \n",
    "    model.add(Dense(20))\n",
    "    model.add(Activation('relu'))\n",
    "    model.add(Dropout(0.3))\n",
    "    \n",
    "    model.add(Dense(24))\n",
    "    model.add(Activation('relu'))\n",
    "    model.add(Dropout(0.3))\n",
    "    \n",
    "    model.add(Dense(1))\n",
    "    model.add(Activation('sigmoid'))\n",
    "\n",
    "    \n",
    "#     model.compile(optimizer='adam', loss='binary_crossentropy', metrics=['accuracy'])\n",
    "    model.compile(optimizer='adam', loss='binary_crossentropy', metrics=['accuracy', recall])\n",
    "    \n",
    "    \n",
    "    return model\n",
    "\n",
    "def get_callbacks(filepath, patience=10):\n",
    "    es = EarlyStopping('val_loss', patience=patience, mode=\"min\")\n",
    "    msave = ModelCheckpoint(filepath, save_best_only=True)\n",
    "    return [es, msave]\n",
    "file_path = \".model_weights.hdf5\"\n",
    "callbacks = get_callbacks(filepath=file_path, patience=100)"
   ]
  },
  {
   "cell_type": "code",
   "execution_count": 19,
   "metadata": {
    "collapsed": true
   },
   "outputs": [],
   "source": [
    "X_train_under_array = X_train_under.as_matrix()\n",
    "y_train_under_array = y_train_under.as_matrix()\n",
    "X_test_under_array = X_test_under.as_matrix()\n",
    "y_test_under_array = y_test_under.as_matrix()"
   ]
  },
  {
   "cell_type": "code",
   "execution_count": 20,
   "metadata": {},
   "outputs": [
    {
     "name": "stdout",
     "output_type": "stream",
     "text": [
      "Train on 688 samples, validate on 296 samples\n",
      "Epoch 1/1000\n",
      "688/688 [==============================] - 0s 509us/step - loss: 0.7115 - acc: 0.5494 - recall: 0.8070 - val_loss: 0.5115 - val_acc: 0.6486 - val_recall: 0.9701\n",
      "Epoch 2/1000\n",
      "688/688 [==============================] - 0s 106us/step - loss: 0.5960 - acc: 0.6279 - recall: 0.8226 - val_loss: 0.4788 - val_acc: 0.7669 - val_recall: 0.9364\n",
      "Epoch 3/1000\n",
      "688/688 [==============================] - 0s 104us/step - loss: 0.5714 - acc: 0.6613 - recall: 0.8266 - val_loss: 0.4446 - val_acc: 0.8378 - val_recall: 0.9364\n",
      "Epoch 4/1000\n",
      "688/688 [==============================] - 0s 96us/step - loss: 0.5124 - acc: 0.7427 - recall: 0.8486 - val_loss: 0.4132 - val_acc: 0.8953 - val_recall: 0.9174\n",
      "Epoch 5/1000\n",
      "688/688 [==============================] - 0s 102us/step - loss: 0.4797 - acc: 0.8067 - recall: 0.8796 - val_loss: 0.3843 - val_acc: 0.9189 - val_recall: 0.9178\n",
      "Epoch 6/1000\n",
      "688/688 [==============================] - 0s 92us/step - loss: 0.4441 - acc: 0.8183 - recall: 0.8456 - val_loss: 0.3592 - val_acc: 0.9257 - val_recall: 0.9021\n",
      "Epoch 7/1000\n",
      "688/688 [==============================] - 0s 96us/step - loss: 0.4234 - acc: 0.8445 - recall: 0.8652 - val_loss: 0.3367 - val_acc: 0.9358 - val_recall: 0.8895\n",
      "Epoch 8/1000\n",
      "688/688 [==============================] - 0s 112us/step - loss: 0.3865 - acc: 0.8779 - recall: 0.8676 - val_loss: 0.3132 - val_acc: 0.9189 - val_recall: 0.8564\n",
      "Epoch 9/1000\n",
      "688/688 [==============================] - 0s 108us/step - loss: 0.3696 - acc: 0.8794 - recall: 0.8507 - val_loss: 0.2906 - val_acc: 0.9291 - val_recall: 0.8712\n",
      "Epoch 10/1000\n",
      "688/688 [==============================] - 0s 114us/step - loss: 0.3560 - acc: 0.8706 - recall: 0.8369 - val_loss: 0.2739 - val_acc: 0.9392 - val_recall: 0.8905\n",
      "Epoch 11/1000\n",
      "688/688 [==============================] - 0s 107us/step - loss: 0.3190 - acc: 0.9070 - recall: 0.8621 - val_loss: 0.2594 - val_acc: 0.9257 - val_recall: 0.8654\n",
      "Epoch 12/1000\n",
      "688/688 [==============================] - 0s 100us/step - loss: 0.3135 - acc: 0.8983 - recall: 0.8620 - val_loss: 0.2467 - val_acc: 0.9257 - val_recall: 0.8654\n",
      "Epoch 13/1000\n",
      "688/688 [==============================] - 0s 114us/step - loss: 0.2722 - acc: 0.9142 - recall: 0.8647 - val_loss: 0.2342 - val_acc: 0.9257 - val_recall: 0.8654\n",
      "Epoch 14/1000\n",
      "688/688 [==============================] - 0s 107us/step - loss: 0.2917 - acc: 0.9215 - recall: 0.8699 - val_loss: 0.2273 - val_acc: 0.9189 - val_recall: 0.8506\n",
      "Epoch 15/1000\n",
      "688/688 [==============================] - 0s 100us/step - loss: 0.2702 - acc: 0.9099 - recall: 0.8636 - val_loss: 0.2178 - val_acc: 0.9291 - val_recall: 0.8744\n",
      "Epoch 16/1000\n",
      "688/688 [==============================] - 0s 103us/step - loss: 0.2414 - acc: 0.9230 - recall: 0.8739 - val_loss: 0.2076 - val_acc: 0.9324 - val_recall: 0.8802\n",
      "Epoch 17/1000\n",
      "688/688 [==============================] - 0s 103us/step - loss: 0.2276 - acc: 0.9259 - recall: 0.8883 - val_loss: 0.2001 - val_acc: 0.9324 - val_recall: 0.8802\n",
      "Epoch 18/1000\n",
      "688/688 [==============================] - 0s 96us/step - loss: 0.2402 - acc: 0.9259 - recall: 0.8913 - val_loss: 0.1945 - val_acc: 0.9324 - val_recall: 0.8802\n",
      "Epoch 19/1000\n",
      "688/688 [==============================] - 0s 104us/step - loss: 0.2399 - acc: 0.9230 - recall: 0.8826 - val_loss: 0.1943 - val_acc: 0.9291 - val_recall: 0.8744\n",
      "Epoch 20/1000\n",
      "688/688 [==============================] - 0s 100us/step - loss: 0.2377 - acc: 0.9172 - recall: 0.8652 - val_loss: 0.1887 - val_acc: 0.9324 - val_recall: 0.8802\n",
      "Epoch 21/1000\n",
      "688/688 [==============================] - 0s 102us/step - loss: 0.2320 - acc: 0.9201 - recall: 0.8655 - val_loss: 0.1847 - val_acc: 0.9324 - val_recall: 0.8802\n",
      "Epoch 22/1000\n",
      "688/688 [==============================] - 0s 70us/step - loss: 0.2148 - acc: 0.9302 - recall: 0.8767 - val_loss: 0.1850 - val_acc: 0.9324 - val_recall: 0.8802\n",
      "Epoch 23/1000\n",
      "688/688 [==============================] - 0s 112us/step - loss: 0.2285 - acc: 0.9201 - recall: 0.8813 - val_loss: 0.1817 - val_acc: 0.9324 - val_recall: 0.8802\n",
      "Epoch 24/1000\n",
      "688/688 [==============================] - 0s 113us/step - loss: 0.2229 - acc: 0.9244 - recall: 0.8898 - val_loss: 0.1799 - val_acc: 0.9324 - val_recall: 0.8802\n",
      "Epoch 25/1000\n",
      "688/688 [==============================] - 0s 98us/step - loss: 0.2086 - acc: 0.9230 - recall: 0.8792 - val_loss: 0.1792 - val_acc: 0.9324 - val_recall: 0.8802\n",
      "Epoch 26/1000\n",
      "688/688 [==============================] - 0s 109us/step - loss: 0.2126 - acc: 0.9244 - recall: 0.8837 - val_loss: 0.1756 - val_acc: 0.9324 - val_recall: 0.8860\n",
      "Epoch 27/1000\n",
      "688/688 [==============================] - 0s 85us/step - loss: 0.1830 - acc: 0.9360 - recall: 0.8964 - val_loss: 0.1785 - val_acc: 0.9291 - val_recall: 0.8744\n",
      "Epoch 28/1000\n",
      "688/688 [==============================] - 0s 79us/step - loss: 0.1874 - acc: 0.9331 - recall: 0.9002 - val_loss: 0.1764 - val_acc: 0.9291 - val_recall: 0.8744\n",
      "Epoch 29/1000\n",
      "688/688 [==============================] - 0s 115us/step - loss: 0.1873 - acc: 0.9331 - recall: 0.8905 - val_loss: 0.1744 - val_acc: 0.9291 - val_recall: 0.8744\n",
      "Epoch 30/1000\n",
      "688/688 [==============================] - 0s 106us/step - loss: 0.1871 - acc: 0.9360 - recall: 0.8833 - val_loss: 0.1701 - val_acc: 0.9358 - val_recall: 0.8937\n",
      "Epoch 31/1000\n",
      "688/688 [==============================] - 0s 108us/step - loss: 0.1943 - acc: 0.9360 - recall: 0.8975 - val_loss: 0.1660 - val_acc: 0.9426 - val_recall: 0.9053\n",
      "Epoch 32/1000\n",
      "688/688 [==============================] - 0s 73us/step - loss: 0.1686 - acc: 0.9259 - recall: 0.8884 - val_loss: 0.1662 - val_acc: 0.9392 - val_recall: 0.8995\n",
      "Epoch 33/1000\n",
      "688/688 [==============================] - 0s 106us/step - loss: 0.2024 - acc: 0.9346 - recall: 0.8968 - val_loss: 0.1641 - val_acc: 0.9392 - val_recall: 0.8995\n",
      "Epoch 34/1000\n",
      "688/688 [==============================] - 0s 99us/step - loss: 0.1673 - acc: 0.9302 - recall: 0.8890 - val_loss: 0.1606 - val_acc: 0.9392 - val_recall: 0.9053\n",
      "Epoch 35/1000\n",
      "688/688 [==============================] - 0s 107us/step - loss: 0.1849 - acc: 0.9331 - recall: 0.8883 - val_loss: 0.1585 - val_acc: 0.9459 - val_recall: 0.9188\n",
      "Epoch 36/1000\n",
      "688/688 [==============================] - 0s 76us/step - loss: 0.1824 - acc: 0.9462 - recall: 0.9143 - val_loss: 0.1603 - val_acc: 0.9459 - val_recall: 0.9188\n",
      "Epoch 37/1000\n",
      "688/688 [==============================] - 0s 78us/step - loss: 0.1731 - acc: 0.9346 - recall: 0.9091 - val_loss: 0.1615 - val_acc: 0.9358 - val_recall: 0.8995\n",
      "Epoch 38/1000\n",
      "688/688 [==============================] - 0s 75us/step - loss: 0.1762 - acc: 0.9360 - recall: 0.8961 - val_loss: 0.1600 - val_acc: 0.9392 - val_recall: 0.8995\n",
      "Epoch 39/1000\n",
      "688/688 [==============================] - 0s 77us/step - loss: 0.1918 - acc: 0.9259 - recall: 0.8821 - val_loss: 0.1599 - val_acc: 0.9392 - val_recall: 0.8995\n",
      "Epoch 40/1000\n",
      "688/688 [==============================] - 0s 103us/step - loss: 0.1543 - acc: 0.9419 - recall: 0.8966 - val_loss: 0.1578 - val_acc: 0.9459 - val_recall: 0.9188\n",
      "Epoch 41/1000\n",
      "688/688 [==============================] - 0s 101us/step - loss: 0.1572 - acc: 0.9419 - recall: 0.9102 - val_loss: 0.1572 - val_acc: 0.9459 - val_recall: 0.9188\n",
      "Epoch 42/1000\n",
      "688/688 [==============================] - 0s 104us/step - loss: 0.1706 - acc: 0.9360 - recall: 0.9051 - val_loss: 0.1561 - val_acc: 0.9493 - val_recall: 0.9188\n",
      "Epoch 43/1000\n",
      "688/688 [==============================] - 0s 104us/step - loss: 0.1667 - acc: 0.9375 - recall: 0.9035 - val_loss: 0.1540 - val_acc: 0.9426 - val_recall: 0.9188\n",
      "Epoch 44/1000\n",
      "688/688 [==============================] - 0s 110us/step - loss: 0.1551 - acc: 0.9491 - recall: 0.9222 - val_loss: 0.1535 - val_acc: 0.9426 - val_recall: 0.9188\n",
      "Epoch 45/1000\n",
      "688/688 [==============================] - 0s 107us/step - loss: 0.1597 - acc: 0.9360 - recall: 0.9083 - val_loss: 0.1508 - val_acc: 0.9493 - val_recall: 0.9188\n",
      "Epoch 46/1000\n",
      "688/688 [==============================] - 0s 78us/step - loss: 0.1668 - acc: 0.9346 - recall: 0.9091 - val_loss: 0.1525 - val_acc: 0.9493 - val_recall: 0.9188\n",
      "Epoch 47/1000\n",
      "688/688 [==============================] - 0s 81us/step - loss: 0.1662 - acc: 0.9360 - recall: 0.9217 - val_loss: 0.1543 - val_acc: 0.9493 - val_recall: 0.9188\n"
     ]
    },
    {
     "name": "stdout",
     "output_type": "stream",
     "text": [
      "Epoch 48/1000\n",
      "688/688 [==============================] - 0s 77us/step - loss: 0.1598 - acc: 0.9331 - recall: 0.9006 - val_loss: 0.1539 - val_acc: 0.9426 - val_recall: 0.9188\n",
      "Epoch 49/1000\n",
      "688/688 [==============================] - 0s 78us/step - loss: 0.1775 - acc: 0.9346 - recall: 0.9031 - val_loss: 0.1559 - val_acc: 0.9426 - val_recall: 0.9130\n",
      "Epoch 50/1000\n",
      "688/688 [==============================] - 0s 94us/step - loss: 0.1591 - acc: 0.9448 - recall: 0.9136 - val_loss: 0.1529 - val_acc: 0.9426 - val_recall: 0.9188\n",
      "Epoch 51/1000\n",
      "688/688 [==============================] - 0s 86us/step - loss: 0.1542 - acc: 0.9360 - recall: 0.9128 - val_loss: 0.1527 - val_acc: 0.9426 - val_recall: 0.9188\n",
      "Epoch 52/1000\n",
      "688/688 [==============================] - 0s 128us/step - loss: 0.1388 - acc: 0.9477 - recall: 0.9251 - val_loss: 0.1506 - val_acc: 0.9459 - val_recall: 0.9188\n",
      "Epoch 53/1000\n",
      "688/688 [==============================] - 0s 75us/step - loss: 0.1555 - acc: 0.9390 - recall: 0.9076 - val_loss: 0.1525 - val_acc: 0.9459 - val_recall: 0.9188\n",
      "Epoch 54/1000\n",
      "688/688 [==============================] - 0s 107us/step - loss: 0.1401 - acc: 0.9491 - recall: 0.9229 - val_loss: 0.1475 - val_acc: 0.9459 - val_recall: 0.9188\n",
      "Epoch 55/1000\n",
      "688/688 [==============================] - 0s 108us/step - loss: 0.1475 - acc: 0.9390 - recall: 0.9108 - val_loss: 0.1451 - val_acc: 0.9459 - val_recall: 0.9188\n",
      "Epoch 56/1000\n",
      "688/688 [==============================] - 0s 77us/step - loss: 0.1465 - acc: 0.9520 - recall: 0.9360 - val_loss: 0.1457 - val_acc: 0.9459 - val_recall: 0.9188\n",
      "Epoch 57/1000\n",
      "688/688 [==============================] - 0s 72us/step - loss: 0.1487 - acc: 0.9448 - recall: 0.9183 - val_loss: 0.1462 - val_acc: 0.9459 - val_recall: 0.9188\n",
      "Epoch 58/1000\n",
      "688/688 [==============================] - 0s 73us/step - loss: 0.1411 - acc: 0.9404 - recall: 0.9194 - val_loss: 0.1479 - val_acc: 0.9459 - val_recall: 0.9188\n",
      "Epoch 59/1000\n",
      "688/688 [==============================] - 0s 72us/step - loss: 0.1471 - acc: 0.9433 - recall: 0.9114 - val_loss: 0.1481 - val_acc: 0.9459 - val_recall: 0.9188\n",
      "Epoch 60/1000\n",
      "688/688 [==============================] - 0s 73us/step - loss: 0.1456 - acc: 0.9448 - recall: 0.9276 - val_loss: 0.1503 - val_acc: 0.9459 - val_recall: 0.9188\n",
      "Epoch 61/1000\n",
      "688/688 [==============================] - 0s 71us/step - loss: 0.1326 - acc: 0.9535 - recall: 0.9294 - val_loss: 0.1494 - val_acc: 0.9459 - val_recall: 0.9188\n",
      "Epoch 62/1000\n",
      "688/688 [==============================] - 0s 74us/step - loss: 0.1471 - acc: 0.9506 - recall: 0.9204 - val_loss: 0.1508 - val_acc: 0.9459 - val_recall: 0.9188\n",
      "Epoch 63/1000\n",
      "688/688 [==============================] - 0s 72us/step - loss: 0.1375 - acc: 0.9462 - recall: 0.9180 - val_loss: 0.1517 - val_acc: 0.9459 - val_recall: 0.9188\n",
      "Epoch 64/1000\n",
      "688/688 [==============================] - 0s 74us/step - loss: 0.1428 - acc: 0.9419 - recall: 0.9110 - val_loss: 0.1525 - val_acc: 0.9459 - val_recall: 0.9188\n",
      "Epoch 65/1000\n",
      "688/688 [==============================] - 0s 72us/step - loss: 0.1416 - acc: 0.9491 - recall: 0.9302 - val_loss: 0.1523 - val_acc: 0.9459 - val_recall: 0.9188\n",
      "Epoch 66/1000\n",
      "688/688 [==============================] - 0s 68us/step - loss: 0.1404 - acc: 0.9564 - recall: 0.9315 - val_loss: 0.1519 - val_acc: 0.9459 - val_recall: 0.9188\n",
      "Epoch 67/1000\n",
      "688/688 [==============================] - 0s 69us/step - loss: 0.1457 - acc: 0.9477 - recall: 0.9298 - val_loss: 0.1534 - val_acc: 0.9459 - val_recall: 0.9188\n",
      "Epoch 68/1000\n",
      "688/688 [==============================] - 0s 69us/step - loss: 0.1297 - acc: 0.9462 - recall: 0.9236 - val_loss: 0.1556 - val_acc: 0.9459 - val_recall: 0.9188\n",
      "Epoch 69/1000\n",
      "688/688 [==============================] - 0s 70us/step - loss: 0.1375 - acc: 0.9462 - recall: 0.9120 - val_loss: 0.1504 - val_acc: 0.9459 - val_recall: 0.9188\n",
      "Epoch 70/1000\n",
      "688/688 [==============================] - 0s 69us/step - loss: 0.1488 - acc: 0.9433 - recall: 0.9208 - val_loss: 0.1509 - val_acc: 0.9459 - val_recall: 0.9188\n",
      "Epoch 71/1000\n",
      "688/688 [==============================] - 0s 77us/step - loss: 0.1383 - acc: 0.9549 - recall: 0.9386 - val_loss: 0.1502 - val_acc: 0.9459 - val_recall: 0.9188\n",
      "Epoch 72/1000\n",
      "688/688 [==============================] - 0s 83us/step - loss: 0.1252 - acc: 0.9506 - recall: 0.9244 - val_loss: 0.1472 - val_acc: 0.9459 - val_recall: 0.9188\n",
      "Epoch 73/1000\n",
      "688/688 [==============================] - 0s 81us/step - loss: 0.1317 - acc: 0.9535 - recall: 0.9474 - val_loss: 0.1502 - val_acc: 0.9459 - val_recall: 0.9188\n",
      "Epoch 74/1000\n",
      "688/688 [==============================] - 0s 78us/step - loss: 0.1372 - acc: 0.9506 - recall: 0.9216 - val_loss: 0.1556 - val_acc: 0.9459 - val_recall: 0.9188\n",
      "Epoch 75/1000\n",
      "688/688 [==============================] - 0s 75us/step - loss: 0.1279 - acc: 0.9535 - recall: 0.9160 - val_loss: 0.1544 - val_acc: 0.9459 - val_recall: 0.9188\n",
      "Epoch 76/1000\n",
      "688/688 [==============================] - 0s 72us/step - loss: 0.1333 - acc: 0.9506 - recall: 0.9183 - val_loss: 0.1547 - val_acc: 0.9426 - val_recall: 0.9188\n",
      "Epoch 77/1000\n",
      "688/688 [==============================] - 0s 81us/step - loss: 0.1218 - acc: 0.9593 - recall: 0.9408 - val_loss: 0.1530 - val_acc: 0.9426 - val_recall: 0.9188\n",
      "Epoch 78/1000\n",
      "688/688 [==============================] - 0s 78us/step - loss: 0.1243 - acc: 0.9491 - recall: 0.9304 - val_loss: 0.1513 - val_acc: 0.9426 - val_recall: 0.9188\n",
      "Epoch 79/1000\n",
      "688/688 [==============================] - 0s 75us/step - loss: 0.1248 - acc: 0.9506 - recall: 0.9262 - val_loss: 0.1525 - val_acc: 0.9459 - val_recall: 0.9278\n",
      "Epoch 80/1000\n",
      "688/688 [==============================] - 0s 79us/step - loss: 0.1221 - acc: 0.9564 - recall: 0.9331 - val_loss: 0.1536 - val_acc: 0.9459 - val_recall: 0.9278\n",
      "Epoch 81/1000\n",
      "688/688 [==============================] - 0s 78us/step - loss: 0.1138 - acc: 0.9608 - recall: 0.9480 - val_loss: 0.1583 - val_acc: 0.9459 - val_recall: 0.9278\n",
      "Epoch 82/1000\n",
      "688/688 [==============================] - 0s 77us/step - loss: 0.1153 - acc: 0.9578 - recall: 0.9420 - val_loss: 0.1615 - val_acc: 0.9459 - val_recall: 0.9278\n",
      "Epoch 83/1000\n",
      "688/688 [==============================] - 0s 76us/step - loss: 0.1380 - acc: 0.9419 - recall: 0.9237 - val_loss: 0.1588 - val_acc: 0.9459 - val_recall: 0.9278\n",
      "Epoch 84/1000\n",
      "688/688 [==============================] - 0s 74us/step - loss: 0.1183 - acc: 0.9593 - recall: 0.9404 - val_loss: 0.1589 - val_acc: 0.9426 - val_recall: 0.9220\n",
      "Epoch 85/1000\n",
      "688/688 [==============================] - 0s 74us/step - loss: 0.1150 - acc: 0.9535 - recall: 0.9420 - val_loss: 0.1560 - val_acc: 0.9426 - val_recall: 0.9220\n",
      "Epoch 86/1000\n",
      "688/688 [==============================] - 0s 78us/step - loss: 0.1210 - acc: 0.9549 - recall: 0.9323 - val_loss: 0.1562 - val_acc: 0.9459 - val_recall: 0.9278\n",
      "Epoch 87/1000\n",
      "688/688 [==============================] - 0s 71us/step - loss: 0.1229 - acc: 0.9564 - recall: 0.9366 - val_loss: 0.1603 - val_acc: 0.9426 - val_recall: 0.9220\n",
      "Epoch 88/1000\n",
      "688/688 [==============================] - 0s 71us/step - loss: 0.1315 - acc: 0.9506 - recall: 0.9241 - val_loss: 0.1584 - val_acc: 0.9426 - val_recall: 0.9220\n",
      "Epoch 89/1000\n",
      "688/688 [==============================] - 0s 78us/step - loss: 0.1135 - acc: 0.9578 - recall: 0.9480 - val_loss: 0.1599 - val_acc: 0.9459 - val_recall: 0.9278\n",
      "Epoch 90/1000\n",
      "688/688 [==============================] - 0s 72us/step - loss: 0.1075 - acc: 0.9637 - recall: 0.9415 - val_loss: 0.1591 - val_acc: 0.9459 - val_recall: 0.9278\n",
      "Epoch 91/1000\n",
      "688/688 [==============================] - 0s 71us/step - loss: 0.1115 - acc: 0.9578 - recall: 0.9337 - val_loss: 0.1566 - val_acc: 0.9493 - val_recall: 0.9332\n",
      "Epoch 92/1000\n",
      "688/688 [==============================] - 0s 71us/step - loss: 0.1045 - acc: 0.9637 - recall: 0.9475 - val_loss: 0.1604 - val_acc: 0.9493 - val_recall: 0.9332\n",
      "Epoch 93/1000\n",
      "688/688 [==============================] - 0s 71us/step - loss: 0.0998 - acc: 0.9637 - recall: 0.9571 - val_loss: 0.1645 - val_acc: 0.9459 - val_recall: 0.9278\n",
      "Epoch 94/1000\n",
      "688/688 [==============================] - 0s 73us/step - loss: 0.1116 - acc: 0.9680 - recall: 0.9442 - val_loss: 0.1672 - val_acc: 0.9459 - val_recall: 0.9278\n",
      "Epoch 95/1000\n"
     ]
    },
    {
     "name": "stdout",
     "output_type": "stream",
     "text": [
      "688/688 [==============================] - 0s 69us/step - loss: 0.1037 - acc: 0.9622 - recall: 0.9465 - val_loss: 0.1670 - val_acc: 0.9459 - val_recall: 0.9278\n",
      "Epoch 96/1000\n",
      "688/688 [==============================] - 0s 71us/step - loss: 0.0907 - acc: 0.9695 - recall: 0.9617 - val_loss: 0.1685 - val_acc: 0.9459 - val_recall: 0.9278\n",
      "Epoch 97/1000\n",
      "688/688 [==============================] - 0s 71us/step - loss: 0.1081 - acc: 0.9535 - recall: 0.9446 - val_loss: 0.1687 - val_acc: 0.9426 - val_recall: 0.9390\n",
      "Epoch 98/1000\n",
      "688/688 [==============================] - 0s 63us/step - loss: 0.1062 - acc: 0.9666 - recall: 0.9618 - val_loss: 0.1683 - val_acc: 0.9459 - val_recall: 0.9278\n",
      "Epoch 99/1000\n",
      "688/688 [==============================] - 0s 71us/step - loss: 0.1130 - acc: 0.9564 - recall: 0.9435 - val_loss: 0.1726 - val_acc: 0.9392 - val_recall: 0.9220\n",
      "Epoch 100/1000\n",
      "688/688 [==============================] - 0s 72us/step - loss: 0.1084 - acc: 0.9651 - recall: 0.9507 - val_loss: 0.1819 - val_acc: 0.9426 - val_recall: 0.9220\n",
      "Epoch 101/1000\n",
      "688/688 [==============================] - 0s 71us/step - loss: 0.1067 - acc: 0.9651 - recall: 0.9478 - val_loss: 0.1794 - val_acc: 0.9426 - val_recall: 0.9220\n",
      "Epoch 102/1000\n",
      "688/688 [==============================] - 0s 75us/step - loss: 0.0987 - acc: 0.9622 - recall: 0.9399 - val_loss: 0.1776 - val_acc: 0.9426 - val_recall: 0.9220\n",
      "Epoch 103/1000\n",
      "688/688 [==============================] - 0s 83us/step - loss: 0.1118 - acc: 0.9564 - recall: 0.9338 - val_loss: 0.1745 - val_acc: 0.9426 - val_recall: 0.9220\n",
      "Epoch 104/1000\n",
      "688/688 [==============================] - 0s 73us/step - loss: 0.1072 - acc: 0.9666 - recall: 0.9544 - val_loss: 0.1753 - val_acc: 0.9392 - val_recall: 0.9220\n",
      "Epoch 105/1000\n",
      "688/688 [==============================] - 0s 77us/step - loss: 0.0976 - acc: 0.9666 - recall: 0.9533 - val_loss: 0.1760 - val_acc: 0.9392 - val_recall: 0.9220\n",
      "Epoch 106/1000\n",
      "688/688 [==============================] - 0s 74us/step - loss: 0.1085 - acc: 0.9608 - recall: 0.9472 - val_loss: 0.1714 - val_acc: 0.9426 - val_recall: 0.9220\n",
      "Epoch 107/1000\n",
      "688/688 [==============================] - 0s 73us/step - loss: 0.0915 - acc: 0.9724 - recall: 0.9620 - val_loss: 0.1721 - val_acc: 0.9426 - val_recall: 0.9220\n",
      "Epoch 108/1000\n",
      "688/688 [==============================] - 0s 71us/step - loss: 0.1003 - acc: 0.9651 - recall: 0.9549 - val_loss: 0.1699 - val_acc: 0.9426 - val_recall: 0.9220\n",
      "Epoch 109/1000\n",
      "688/688 [==============================] - 0s 69us/step - loss: 0.0903 - acc: 0.9637 - recall: 0.9455 - val_loss: 0.1759 - val_acc: 0.9426 - val_recall: 0.9220\n",
      "Epoch 110/1000\n",
      "688/688 [==============================] - 0s 74us/step - loss: 0.0935 - acc: 0.9680 - recall: 0.9520 - val_loss: 0.1795 - val_acc: 0.9426 - val_recall: 0.9220\n",
      "Epoch 111/1000\n",
      "688/688 [==============================] - 0s 93us/step - loss: 0.0927 - acc: 0.9695 - recall: 0.9544 - val_loss: 0.1861 - val_acc: 0.9426 - val_recall: 0.9220\n",
      "Epoch 112/1000\n",
      "688/688 [==============================] - 0s 119us/step - loss: 0.1046 - acc: 0.9593 - recall: 0.9463 - val_loss: 0.1869 - val_acc: 0.9392 - val_recall: 0.9220\n",
      "Epoch 113/1000\n",
      "688/688 [==============================] - 0s 88us/step - loss: 0.1051 - acc: 0.9593 - recall: 0.9365 - val_loss: 0.1823 - val_acc: 0.9426 - val_recall: 0.9278\n",
      "Epoch 114/1000\n",
      "688/688 [==============================] - 0s 73us/step - loss: 0.0821 - acc: 0.9651 - recall: 0.9671 - val_loss: 0.1819 - val_acc: 0.9426 - val_recall: 0.9278\n",
      "Epoch 115/1000\n",
      "688/688 [==============================] - 0s 86us/step - loss: 0.0887 - acc: 0.9637 - recall: 0.9511 - val_loss: 0.1861 - val_acc: 0.9426 - val_recall: 0.9278\n",
      "Epoch 116/1000\n",
      "688/688 [==============================] - 0s 75us/step - loss: 0.0914 - acc: 0.9680 - recall: 0.9622 - val_loss: 0.1926 - val_acc: 0.9392 - val_recall: 0.9220\n",
      "Epoch 117/1000\n",
      "688/688 [==============================] - 0s 71us/step - loss: 0.0794 - acc: 0.9738 - recall: 0.9697 - val_loss: 0.2003 - val_acc: 0.9392 - val_recall: 0.9220\n",
      "Epoch 118/1000\n",
      "688/688 [==============================] - 0s 70us/step - loss: 0.1210 - acc: 0.9680 - recall: 0.9607 - val_loss: 0.2001 - val_acc: 0.9426 - val_recall: 0.9278\n",
      "Epoch 119/1000\n",
      "688/688 [==============================] - 0s 73us/step - loss: 0.0870 - acc: 0.9651 - recall: 0.9494 - val_loss: 0.2117 - val_acc: 0.9459 - val_recall: 0.9278\n",
      "Epoch 120/1000\n",
      "688/688 [==============================] - 0s 76us/step - loss: 0.0891 - acc: 0.9695 - recall: 0.9509 - val_loss: 0.2046 - val_acc: 0.9426 - val_recall: 0.9278\n",
      "Epoch 121/1000\n",
      "688/688 [==============================] - 0s 78us/step - loss: 0.0980 - acc: 0.9564 - recall: 0.9456 - val_loss: 0.2078 - val_acc: 0.9392 - val_recall: 0.9278\n",
      "Epoch 122/1000\n",
      "688/688 [==============================] - 0s 83us/step - loss: 0.0973 - acc: 0.9651 - recall: 0.9515 - val_loss: 0.2137 - val_acc: 0.9392 - val_recall: 0.9278\n",
      "Epoch 123/1000\n",
      "688/688 [==============================] - 0s 80us/step - loss: 0.0931 - acc: 0.9651 - recall: 0.9532 - val_loss: 0.2114 - val_acc: 0.9426 - val_recall: 0.9278\n",
      "Epoch 124/1000\n",
      "688/688 [==============================] - 0s 81us/step - loss: 0.0852 - acc: 0.9651 - recall: 0.9523 - val_loss: 0.2033 - val_acc: 0.9426 - val_recall: 0.9278\n",
      "Epoch 125/1000\n",
      "688/688 [==============================] - 0s 79us/step - loss: 0.0928 - acc: 0.9549 - recall: 0.9381 - val_loss: 0.2050 - val_acc: 0.9426 - val_recall: 0.9278\n",
      "Epoch 126/1000\n",
      "688/688 [==============================] - 0s 79us/step - loss: 0.0880 - acc: 0.9709 - recall: 0.9648 - val_loss: 0.2015 - val_acc: 0.9392 - val_recall: 0.9220\n",
      "Epoch 127/1000\n",
      "688/688 [==============================] - 0s 78us/step - loss: 0.1014 - acc: 0.9578 - recall: 0.9487 - val_loss: 0.1998 - val_acc: 0.9392 - val_recall: 0.9220\n",
      "Epoch 128/1000\n",
      "688/688 [==============================] - 0s 71us/step - loss: 0.0855 - acc: 0.9738 - recall: 0.9600 - val_loss: 0.1962 - val_acc: 0.9392 - val_recall: 0.9220\n",
      "Epoch 129/1000\n",
      "688/688 [==============================] - 0s 79us/step - loss: 0.0819 - acc: 0.9651 - recall: 0.9638 - val_loss: 0.2001 - val_acc: 0.9392 - val_recall: 0.9220\n",
      "Epoch 130/1000\n",
      "688/688 [==============================] - 0s 89us/step - loss: 0.0723 - acc: 0.9738 - recall: 0.9621 - val_loss: 0.2174 - val_acc: 0.9426 - val_recall: 0.9278\n",
      "Epoch 131/1000\n",
      "688/688 [==============================] - 0s 92us/step - loss: 0.0885 - acc: 0.9709 - recall: 0.9648 - val_loss: 0.2234 - val_acc: 0.9426 - val_recall: 0.9278\n",
      "Epoch 132/1000\n",
      "688/688 [==============================] - 0s 85us/step - loss: 0.0742 - acc: 0.9651 - recall: 0.9559 - val_loss: 0.2286 - val_acc: 0.9459 - val_recall: 0.9278\n",
      "Epoch 133/1000\n",
      "688/688 [==============================] - 0s 130us/step - loss: 0.0848 - acc: 0.9680 - recall: 0.9565 - val_loss: 0.2243 - val_acc: 0.9392 - val_recall: 0.9278\n",
      "Epoch 134/1000\n",
      "688/688 [==============================] - 0s 86us/step - loss: 0.0888 - acc: 0.9651 - recall: 0.9532 - val_loss: 0.2127 - val_acc: 0.9392 - val_recall: 0.9278\n",
      "Epoch 135/1000\n",
      "688/688 [==============================] - 0s 87us/step - loss: 0.0784 - acc: 0.9637 - recall: 0.9710 - val_loss: 0.2158 - val_acc: 0.9426 - val_recall: 0.9278\n",
      "Epoch 136/1000\n",
      "688/688 [==============================] - 0s 86us/step - loss: 0.0723 - acc: 0.9709 - recall: 0.9653 - val_loss: 0.2284 - val_acc: 0.9426 - val_recall: 0.9278\n",
      "Epoch 137/1000\n",
      "688/688 [==============================] - 0s 79us/step - loss: 0.0760 - acc: 0.9666 - recall: 0.9686 - val_loss: 0.2347 - val_acc: 0.9426 - val_recall: 0.9278\n",
      "Epoch 138/1000\n",
      "688/688 [==============================] - 0s 87us/step - loss: 0.0825 - acc: 0.9666 - recall: 0.9670 - val_loss: 0.2408 - val_acc: 0.9426 - val_recall: 0.9278\n",
      "Epoch 139/1000\n",
      "688/688 [==============================] - 0s 78us/step - loss: 0.0878 - acc: 0.9666 - recall: 0.9591 - val_loss: 0.2457 - val_acc: 0.9426 - val_recall: 0.9278\n",
      "Epoch 140/1000\n",
      "688/688 [==============================] - 0s 83us/step - loss: 0.0787 - acc: 0.9709 - recall: 0.9625 - val_loss: 0.2385 - val_acc: 0.9426 - val_recall: 0.9278\n",
      "Epoch 141/1000\n",
      "688/688 [==============================] - 0s 85us/step - loss: 0.0786 - acc: 0.9680 - recall: 0.9595 - val_loss: 0.2410 - val_acc: 0.9426 - val_recall: 0.9278\n"
     ]
    },
    {
     "name": "stdout",
     "output_type": "stream",
     "text": [
      "Epoch 142/1000\n",
      "688/688 [==============================] - 0s 84us/step - loss: 0.0642 - acc: 0.9695 - recall: 0.9624 - val_loss: 0.2501 - val_acc: 0.9426 - val_recall: 0.9278\n",
      "Epoch 143/1000\n",
      "688/688 [==============================] - 0s 84us/step - loss: 0.0611 - acc: 0.9738 - recall: 0.9722 - val_loss: 0.2601 - val_acc: 0.9426 - val_recall: 0.9278\n",
      "Epoch 144/1000\n",
      "688/688 [==============================] - 0s 77us/step - loss: 0.0574 - acc: 0.9797 - recall: 0.9720 - val_loss: 0.2682 - val_acc: 0.9426 - val_recall: 0.9278\n",
      "Epoch 145/1000\n",
      "688/688 [==============================] - 0s 81us/step - loss: 0.0689 - acc: 0.9738 - recall: 0.9683 - val_loss: 0.2737 - val_acc: 0.9426 - val_recall: 0.9278\n",
      "Epoch 146/1000\n",
      "688/688 [==============================] - 0s 78us/step - loss: 0.0631 - acc: 0.9767 - recall: 0.9744 - val_loss: 0.2836 - val_acc: 0.9426 - val_recall: 0.9278\n",
      "Epoch 147/1000\n",
      "688/688 [==============================] - 0s 77us/step - loss: 0.0669 - acc: 0.9724 - recall: 0.9677 - val_loss: 0.2921 - val_acc: 0.9426 - val_recall: 0.9278\n",
      "Epoch 148/1000\n",
      "688/688 [==============================] - 0s 82us/step - loss: 0.0850 - acc: 0.9738 - recall: 0.9780 - val_loss: 0.2901 - val_acc: 0.9426 - val_recall: 0.9278\n",
      "Epoch 149/1000\n",
      "688/688 [==============================] - 0s 76us/step - loss: 0.0986 - acc: 0.9680 - recall: 0.9507 - val_loss: 0.2769 - val_acc: 0.9392 - val_recall: 0.9278\n",
      "Epoch 150/1000\n",
      "688/688 [==============================] - 0s 72us/step - loss: 0.0726 - acc: 0.9666 - recall: 0.9588 - val_loss: 0.2715 - val_acc: 0.9392 - val_recall: 0.9278\n",
      "Epoch 151/1000\n",
      "688/688 [==============================] - 0s 83us/step - loss: 0.0645 - acc: 0.9724 - recall: 0.9667 - val_loss: 0.2804 - val_acc: 0.9392 - val_recall: 0.9278\n",
      "Epoch 152/1000\n",
      "688/688 [==============================] - 0s 79us/step - loss: 0.0705 - acc: 0.9767 - recall: 0.9799 - val_loss: 0.2944 - val_acc: 0.9426 - val_recall: 0.9278\n",
      "Epoch 153/1000\n",
      "688/688 [==============================] - 0s 75us/step - loss: 0.0843 - acc: 0.9622 - recall: 0.9423 - val_loss: 0.2891 - val_acc: 0.9392 - val_recall: 0.9278\n",
      "Epoch 154/1000\n",
      "688/688 [==============================] - 0s 68us/step - loss: 0.0637 - acc: 0.9797 - recall: 0.9753 - val_loss: 0.2894 - val_acc: 0.9392 - val_recall: 0.9278\n",
      "Epoch 155/1000\n",
      "688/688 [==============================] - 0s 68us/step - loss: 0.0798 - acc: 0.9738 - recall: 0.9682 - val_loss: 0.2890 - val_acc: 0.9392 - val_recall: 0.9278\n"
     ]
    },
    {
     "data": {
      "text/plain": [
       "<keras.callbacks.History at 0x7f32fc3c4400>"
      ]
     },
     "execution_count": 20,
     "metadata": {},
     "output_type": "execute_result"
    }
   ],
   "source": [
    "import os\n",
    "model=getModel()\n",
    "model.fit(X_train_under_array, y_train_under_array,\n",
    "          batch_size=24,\n",
    "          epochs=1000,\n",
    "          verbose=1,\n",
    "          validation_data=(X_test_under_array, y_test_under_array),\n",
    "          callbacks=callbacks)"
   ]
  },
  {
   "cell_type": "code",
   "execution_count": 21,
   "metadata": {},
   "outputs": [
    {
     "name": "stdout",
     "output_type": "stream",
     "text": [
      "284807/284807 [==============================] - 7s 25us/step\n",
      "Original dataset loss: 0.140150667149\n",
      "Original dataset accuracy: 0.953786244653\n"
     ]
    }
   ],
   "source": [
    "score = model.evaluate(X.as_matrix(), y.as_matrix(), batch_size=24)\n",
    "print('Original dataset loss:', score[0])\n",
    "print('Original dataset accuracy:', score[1])"
   ]
  },
  {
   "cell_type": "code",
   "execution_count": 24,
   "metadata": {},
   "outputs": [
    {
     "name": "stdout",
     "output_type": "stream",
     "text": [
      "284807/284807 [==============================] - 4s 13us/step\n",
      "[[ 0.01]\n",
      " [ 0.  ]\n",
      " [ 0.  ]\n",
      " ..., \n",
      " [ 0.  ]\n",
      " [ 0.03]\n",
      " [ 0.  ]]\n"
     ]
    }
   ],
   "source": [
    "y_pred_dl = model.predict(X.as_matrix(), batch_size=24, verbose=1)"
   ]
  },
  {
   "cell_type": "code",
   "execution_count": 33,
   "metadata": {},
   "outputs": [
    {
     "name": "stdout",
     "output_type": "stream",
     "text": [
      "[[271171  13144]\n",
      " [    18    474]]\n",
      "Recall : 0.963414634146\n"
     ]
    }
   ],
   "source": [
    "confuction_matrix_dl = confusion_matrix(y.as_matrix(), np.round(y_pred_dl))\n",
    "print(confuction_matrix_dl)\n",
    "print('Recall :', confuction_matrix_dl[1,1]/(confuction_matrix_dl[1,0]+confuction_matrix_dl[1,1]))"
   ]
  }
 ],
 "metadata": {
  "kernelspec": {
   "display_name": "Python 3",
   "language": "python",
   "name": "python3"
  },
  "language_info": {
   "codemirror_mode": {
    "name": "ipython",
    "version": 3
   },
   "file_extension": ".py",
   "mimetype": "text/x-python",
   "name": "python",
   "nbconvert_exporter": "python",
   "pygments_lexer": "ipython3",
   "version": "3.6.3"
  }
 },
 "nbformat": 4,
 "nbformat_minor": 2
}
