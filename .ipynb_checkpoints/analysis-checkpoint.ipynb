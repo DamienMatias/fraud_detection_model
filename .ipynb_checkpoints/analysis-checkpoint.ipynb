{
 "cells": [
  {
   "cell_type": "code",
   "execution_count": 57,
   "metadata": {},
   "outputs": [],
   "source": [
    "import numpy as np # linear algebra\n",
    "import pandas as pd # data processing, CSV file I/O (e.g. pd.read_csv)\n",
    "import matplotlib.pyplot as plt\n",
    "import itertools\n",
    "import scipy.stats as st\n",
    "import seaborn as sns\n",
    "from pylab import rcParams\n",
    "\n",
    "from sklearn.preprocessing import StandardScaler\n",
    "from sklearn.model_selection import train_test_split, GridSearchCV\n",
    "from sklearn.metrics import mean_squared_error, confusion_matrix\n",
    "from sklearn.linear_model import LogisticRegression\n",
    "from sklearn.svm import SVC, OneClassSVM\n",
    "from sklearn.ensemble import RandomForestClassifier\n",
    "from sklearn.pipeline import Pipeline\n",
    "from sklearn.preprocessing import MinMaxScaler\n",
    "from sklearn import metrics\n",
    "from xgboost.sklearn import XGBClassifier \n",
    "from sklearn.model_selection import RandomizedSearchCV\n",
    "\n",
    "\n",
    "%matplotlib inline\n",
    "\n",
    "sns.set(style='whitegrid', palette='muted', font_scale=1.5)\n",
    "\n",
    "rcParams['figure.figsize'] = 14, 8\n",
    "\n",
    "RANDOM_SEED = 42\n",
    "LABELS = [\"Normal\", \"Fraud\"]"
   ]
  },
  {
   "cell_type": "code",
   "execution_count": 2,
   "metadata": {},
   "outputs": [
    {
     "data": {
      "text/html": [
       "<div>\n",
       "<style>\n",
       "    .dataframe thead tr:only-child th {\n",
       "        text-align: right;\n",
       "    }\n",
       "\n",
       "    .dataframe thead th {\n",
       "        text-align: left;\n",
       "    }\n",
       "\n",
       "    .dataframe tbody tr th {\n",
       "        vertical-align: top;\n",
       "    }\n",
       "</style>\n",
       "<table border=\"1\" class=\"dataframe\">\n",
       "  <thead>\n",
       "    <tr style=\"text-align: right;\">\n",
       "      <th></th>\n",
       "      <th>Time</th>\n",
       "      <th>V1</th>\n",
       "      <th>V2</th>\n",
       "      <th>V3</th>\n",
       "      <th>V4</th>\n",
       "      <th>V5</th>\n",
       "      <th>V6</th>\n",
       "      <th>V7</th>\n",
       "      <th>V8</th>\n",
       "      <th>V9</th>\n",
       "      <th>...</th>\n",
       "      <th>V21</th>\n",
       "      <th>V22</th>\n",
       "      <th>V23</th>\n",
       "      <th>V24</th>\n",
       "      <th>V25</th>\n",
       "      <th>V26</th>\n",
       "      <th>V27</th>\n",
       "      <th>V28</th>\n",
       "      <th>Amount</th>\n",
       "      <th>Class</th>\n",
       "    </tr>\n",
       "  </thead>\n",
       "  <tbody>\n",
       "    <tr>\n",
       "      <th>0</th>\n",
       "      <td>0.0</td>\n",
       "      <td>-1.359807</td>\n",
       "      <td>-0.072781</td>\n",
       "      <td>2.536347</td>\n",
       "      <td>1.378155</td>\n",
       "      <td>-0.338321</td>\n",
       "      <td>0.462388</td>\n",
       "      <td>0.239599</td>\n",
       "      <td>0.098698</td>\n",
       "      <td>0.363787</td>\n",
       "      <td>...</td>\n",
       "      <td>-0.018307</td>\n",
       "      <td>0.277838</td>\n",
       "      <td>-0.110474</td>\n",
       "      <td>0.066928</td>\n",
       "      <td>0.128539</td>\n",
       "      <td>-0.189115</td>\n",
       "      <td>0.133558</td>\n",
       "      <td>-0.021053</td>\n",
       "      <td>149.62</td>\n",
       "      <td>0</td>\n",
       "    </tr>\n",
       "    <tr>\n",
       "      <th>1</th>\n",
       "      <td>0.0</td>\n",
       "      <td>1.191857</td>\n",
       "      <td>0.266151</td>\n",
       "      <td>0.166480</td>\n",
       "      <td>0.448154</td>\n",
       "      <td>0.060018</td>\n",
       "      <td>-0.082361</td>\n",
       "      <td>-0.078803</td>\n",
       "      <td>0.085102</td>\n",
       "      <td>-0.255425</td>\n",
       "      <td>...</td>\n",
       "      <td>-0.225775</td>\n",
       "      <td>-0.638672</td>\n",
       "      <td>0.101288</td>\n",
       "      <td>-0.339846</td>\n",
       "      <td>0.167170</td>\n",
       "      <td>0.125895</td>\n",
       "      <td>-0.008983</td>\n",
       "      <td>0.014724</td>\n",
       "      <td>2.69</td>\n",
       "      <td>0</td>\n",
       "    </tr>\n",
       "    <tr>\n",
       "      <th>2</th>\n",
       "      <td>1.0</td>\n",
       "      <td>-1.358354</td>\n",
       "      <td>-1.340163</td>\n",
       "      <td>1.773209</td>\n",
       "      <td>0.379780</td>\n",
       "      <td>-0.503198</td>\n",
       "      <td>1.800499</td>\n",
       "      <td>0.791461</td>\n",
       "      <td>0.247676</td>\n",
       "      <td>-1.514654</td>\n",
       "      <td>...</td>\n",
       "      <td>0.247998</td>\n",
       "      <td>0.771679</td>\n",
       "      <td>0.909412</td>\n",
       "      <td>-0.689281</td>\n",
       "      <td>-0.327642</td>\n",
       "      <td>-0.139097</td>\n",
       "      <td>-0.055353</td>\n",
       "      <td>-0.059752</td>\n",
       "      <td>378.66</td>\n",
       "      <td>0</td>\n",
       "    </tr>\n",
       "    <tr>\n",
       "      <th>3</th>\n",
       "      <td>1.0</td>\n",
       "      <td>-0.966272</td>\n",
       "      <td>-0.185226</td>\n",
       "      <td>1.792993</td>\n",
       "      <td>-0.863291</td>\n",
       "      <td>-0.010309</td>\n",
       "      <td>1.247203</td>\n",
       "      <td>0.237609</td>\n",
       "      <td>0.377436</td>\n",
       "      <td>-1.387024</td>\n",
       "      <td>...</td>\n",
       "      <td>-0.108300</td>\n",
       "      <td>0.005274</td>\n",
       "      <td>-0.190321</td>\n",
       "      <td>-1.175575</td>\n",
       "      <td>0.647376</td>\n",
       "      <td>-0.221929</td>\n",
       "      <td>0.062723</td>\n",
       "      <td>0.061458</td>\n",
       "      <td>123.50</td>\n",
       "      <td>0</td>\n",
       "    </tr>\n",
       "    <tr>\n",
       "      <th>4</th>\n",
       "      <td>2.0</td>\n",
       "      <td>-1.158233</td>\n",
       "      <td>0.877737</td>\n",
       "      <td>1.548718</td>\n",
       "      <td>0.403034</td>\n",
       "      <td>-0.407193</td>\n",
       "      <td>0.095921</td>\n",
       "      <td>0.592941</td>\n",
       "      <td>-0.270533</td>\n",
       "      <td>0.817739</td>\n",
       "      <td>...</td>\n",
       "      <td>-0.009431</td>\n",
       "      <td>0.798278</td>\n",
       "      <td>-0.137458</td>\n",
       "      <td>0.141267</td>\n",
       "      <td>-0.206010</td>\n",
       "      <td>0.502292</td>\n",
       "      <td>0.219422</td>\n",
       "      <td>0.215153</td>\n",
       "      <td>69.99</td>\n",
       "      <td>0</td>\n",
       "    </tr>\n",
       "  </tbody>\n",
       "</table>\n",
       "<p>5 rows × 31 columns</p>\n",
       "</div>"
      ],
      "text/plain": [
       "   Time        V1        V2        V3        V4        V5        V6        V7  \\\n",
       "0   0.0 -1.359807 -0.072781  2.536347  1.378155 -0.338321  0.462388  0.239599   \n",
       "1   0.0  1.191857  0.266151  0.166480  0.448154  0.060018 -0.082361 -0.078803   \n",
       "2   1.0 -1.358354 -1.340163  1.773209  0.379780 -0.503198  1.800499  0.791461   \n",
       "3   1.0 -0.966272 -0.185226  1.792993 -0.863291 -0.010309  1.247203  0.237609   \n",
       "4   2.0 -1.158233  0.877737  1.548718  0.403034 -0.407193  0.095921  0.592941   \n",
       "\n",
       "         V8        V9  ...         V21       V22       V23       V24  \\\n",
       "0  0.098698  0.363787  ...   -0.018307  0.277838 -0.110474  0.066928   \n",
       "1  0.085102 -0.255425  ...   -0.225775 -0.638672  0.101288 -0.339846   \n",
       "2  0.247676 -1.514654  ...    0.247998  0.771679  0.909412 -0.689281   \n",
       "3  0.377436 -1.387024  ...   -0.108300  0.005274 -0.190321 -1.175575   \n",
       "4 -0.270533  0.817739  ...   -0.009431  0.798278 -0.137458  0.141267   \n",
       "\n",
       "        V25       V26       V27       V28  Amount  Class  \n",
       "0  0.128539 -0.189115  0.133558 -0.021053  149.62      0  \n",
       "1  0.167170  0.125895 -0.008983  0.014724    2.69      0  \n",
       "2 -0.327642 -0.139097 -0.055353 -0.059752  378.66      0  \n",
       "3  0.647376 -0.221929  0.062723  0.061458  123.50      0  \n",
       "4 -0.206010  0.502292  0.219422  0.215153   69.99      0  \n",
       "\n",
       "[5 rows x 31 columns]"
      ]
     },
     "execution_count": 2,
     "metadata": {},
     "output_type": "execute_result"
    }
   ],
   "source": [
    "df = pd.read_csv(\"creditcard.csv\")\n",
    "df.head()"
   ]
  },
  {
   "cell_type": "code",
   "execution_count": 3,
   "metadata": {},
   "outputs": [
    {
     "data": {
      "text/plain": [
       "Time      0\n",
       "V1        0\n",
       "V2        0\n",
       "V3        0\n",
       "V4        0\n",
       "V5        0\n",
       "V6        0\n",
       "V7        0\n",
       "V8        0\n",
       "V9        0\n",
       "V10       0\n",
       "V11       0\n",
       "V12       0\n",
       "V13       0\n",
       "V14       0\n",
       "V15       0\n",
       "V16       0\n",
       "V17       0\n",
       "V18       0\n",
       "V19       0\n",
       "V20       0\n",
       "V21       0\n",
       "V22       0\n",
       "V23       0\n",
       "V24       0\n",
       "V25       0\n",
       "V26       0\n",
       "V27       0\n",
       "V28       0\n",
       "Amount    0\n",
       "Class     0\n",
       "dtype: int64"
      ]
     },
     "execution_count": 3,
     "metadata": {},
     "output_type": "execute_result"
    }
   ],
   "source": [
    "df.isnull().sum()"
   ]
  },
  {
   "cell_type": "markdown",
   "metadata": {},
   "source": [
    "We have no NA values which is good"
   ]
  },
  {
   "cell_type": "code",
   "execution_count": 4,
   "metadata": {},
   "outputs": [
    {
     "name": "stdout",
     "output_type": "stream",
     "text": [
      "Class as pie chart:\n"
     ]
    },
    {
     "data": {
      "text/plain": [
       "Text(0,0.5,'')"
      ]
     },
     "execution_count": 4,
     "metadata": {},
     "output_type": "execute_result"
    },
    {
     "data": {
      "image/png": "[encoded data removed]",
      "text/plain": [
       "<matplotlib.figure.Figure at 0x7f966dafa7f0>"
      ]
     },
     "metadata": {},
     "output_type": "display_data"
    }
   ],
   "source": [
    "print(\"Class as pie chart:\")\n",
    "fig, ax = plt.subplots(1, 1)\n",
    "ax.pie(df.Class.value_counts(),autopct='%1.1f%%', labels=['Genuine','Fraud'], colors=['green','r'])\n",
    "plt.axis('equal')\n",
    "plt.ylabel('')"
   ]
  },
  {
   "cell_type": "markdown",
   "metadata": {},
   "source": [
    "Our dataset is very unbalanced. We have to do something about it"
   ]
  },
  {
   "cell_type": "markdown",
   "metadata": {},
   "source": [
    "# Undersampling\n",
    "\n",
    "Our goal here is to delete instances from the over-represented class"
   ]
  },
  {
   "cell_type": "code",
   "execution_count": 5,
   "metadata": {},
   "outputs": [
    {
     "data": {
      "text/html": [
       "<div>\n",
       "<style>\n",
       "    .dataframe thead tr:only-child th {\n",
       "        text-align: right;\n",
       "    }\n",
       "\n",
       "    .dataframe thead th {\n",
       "        text-align: left;\n",
       "    }\n",
       "\n",
       "    .dataframe tbody tr th {\n",
       "        vertical-align: top;\n",
       "    }\n",
       "</style>\n",
       "<table border=\"1\" class=\"dataframe\">\n",
       "  <thead>\n",
       "    <tr style=\"text-align: right;\">\n",
       "      <th></th>\n",
       "      <th>V1</th>\n",
       "      <th>V2</th>\n",
       "      <th>V3</th>\n",
       "      <th>V4</th>\n",
       "      <th>V5</th>\n",
       "      <th>V6</th>\n",
       "      <th>V7</th>\n",
       "      <th>V8</th>\n",
       "      <th>V9</th>\n",
       "      <th>V10</th>\n",
       "      <th>...</th>\n",
       "      <th>V21</th>\n",
       "      <th>V22</th>\n",
       "      <th>V23</th>\n",
       "      <th>V24</th>\n",
       "      <th>V25</th>\n",
       "      <th>V26</th>\n",
       "      <th>V27</th>\n",
       "      <th>V28</th>\n",
       "      <th>Class</th>\n",
       "      <th>normAmount</th>\n",
       "    </tr>\n",
       "  </thead>\n",
       "  <tbody>\n",
       "    <tr>\n",
       "      <th>0</th>\n",
       "      <td>-1.359807</td>\n",
       "      <td>-0.072781</td>\n",
       "      <td>2.536347</td>\n",
       "      <td>1.378155</td>\n",
       "      <td>-0.338321</td>\n",
       "      <td>0.462388</td>\n",
       "      <td>0.239599</td>\n",
       "      <td>0.098698</td>\n",
       "      <td>0.363787</td>\n",
       "      <td>0.090794</td>\n",
       "      <td>...</td>\n",
       "      <td>-0.018307</td>\n",
       "      <td>0.277838</td>\n",
       "      <td>-0.110474</td>\n",
       "      <td>0.066928</td>\n",
       "      <td>0.128539</td>\n",
       "      <td>-0.189115</td>\n",
       "      <td>0.133558</td>\n",
       "      <td>-0.021053</td>\n",
       "      <td>0</td>\n",
       "      <td>0.244964</td>\n",
       "    </tr>\n",
       "    <tr>\n",
       "      <th>1</th>\n",
       "      <td>1.191857</td>\n",
       "      <td>0.266151</td>\n",
       "      <td>0.166480</td>\n",
       "      <td>0.448154</td>\n",
       "      <td>0.060018</td>\n",
       "      <td>-0.082361</td>\n",
       "      <td>-0.078803</td>\n",
       "      <td>0.085102</td>\n",
       "      <td>-0.255425</td>\n",
       "      <td>-0.166974</td>\n",
       "      <td>...</td>\n",
       "      <td>-0.225775</td>\n",
       "      <td>-0.638672</td>\n",
       "      <td>0.101288</td>\n",
       "      <td>-0.339846</td>\n",
       "      <td>0.167170</td>\n",
       "      <td>0.125895</td>\n",
       "      <td>-0.008983</td>\n",
       "      <td>0.014724</td>\n",
       "      <td>0</td>\n",
       "      <td>-0.342475</td>\n",
       "    </tr>\n",
       "    <tr>\n",
       "      <th>2</th>\n",
       "      <td>-1.358354</td>\n",
       "      <td>-1.340163</td>\n",
       "      <td>1.773209</td>\n",
       "      <td>0.379780</td>\n",
       "      <td>-0.503198</td>\n",
       "      <td>1.800499</td>\n",
       "      <td>0.791461</td>\n",
       "      <td>0.247676</td>\n",
       "      <td>-1.514654</td>\n",
       "      <td>0.207643</td>\n",
       "      <td>...</td>\n",
       "      <td>0.247998</td>\n",
       "      <td>0.771679</td>\n",
       "      <td>0.909412</td>\n",
       "      <td>-0.689281</td>\n",
       "      <td>-0.327642</td>\n",
       "      <td>-0.139097</td>\n",
       "      <td>-0.055353</td>\n",
       "      <td>-0.059752</td>\n",
       "      <td>0</td>\n",
       "      <td>1.160686</td>\n",
       "    </tr>\n",
       "    <tr>\n",
       "      <th>3</th>\n",
       "      <td>-0.966272</td>\n",
       "      <td>-0.185226</td>\n",
       "      <td>1.792993</td>\n",
       "      <td>-0.863291</td>\n",
       "      <td>-0.010309</td>\n",
       "      <td>1.247203</td>\n",
       "      <td>0.237609</td>\n",
       "      <td>0.377436</td>\n",
       "      <td>-1.387024</td>\n",
       "      <td>-0.054952</td>\n",
       "      <td>...</td>\n",
       "      <td>-0.108300</td>\n",
       "      <td>0.005274</td>\n",
       "      <td>-0.190321</td>\n",
       "      <td>-1.175575</td>\n",
       "      <td>0.647376</td>\n",
       "      <td>-0.221929</td>\n",
       "      <td>0.062723</td>\n",
       "      <td>0.061458</td>\n",
       "      <td>0</td>\n",
       "      <td>0.140534</td>\n",
       "    </tr>\n",
       "    <tr>\n",
       "      <th>4</th>\n",
       "      <td>-1.158233</td>\n",
       "      <td>0.877737</td>\n",
       "      <td>1.548718</td>\n",
       "      <td>0.403034</td>\n",
       "      <td>-0.407193</td>\n",
       "      <td>0.095921</td>\n",
       "      <td>0.592941</td>\n",
       "      <td>-0.270533</td>\n",
       "      <td>0.817739</td>\n",
       "      <td>0.753074</td>\n",
       "      <td>...</td>\n",
       "      <td>-0.009431</td>\n",
       "      <td>0.798278</td>\n",
       "      <td>-0.137458</td>\n",
       "      <td>0.141267</td>\n",
       "      <td>-0.206010</td>\n",
       "      <td>0.502292</td>\n",
       "      <td>0.219422</td>\n",
       "      <td>0.215153</td>\n",
       "      <td>0</td>\n",
       "      <td>-0.073403</td>\n",
       "    </tr>\n",
       "  </tbody>\n",
       "</table>\n",
       "<p>5 rows × 30 columns</p>\n",
       "</div>"
      ],
      "text/plain": [
       "         V1        V2        V3        V4        V5        V6        V7  \\\n",
       "0 -1.359807 -0.072781  2.536347  1.378155 -0.338321  0.462388  0.239599   \n",
       "1  1.191857  0.266151  0.166480  0.448154  0.060018 -0.082361 -0.078803   \n",
       "2 -1.358354 -1.340163  1.773209  0.379780 -0.503198  1.800499  0.791461   \n",
       "3 -0.966272 -0.185226  1.792993 -0.863291 -0.010309  1.247203  0.237609   \n",
       "4 -1.158233  0.877737  1.548718  0.403034 -0.407193  0.095921  0.592941   \n",
       "\n",
       "         V8        V9       V10     ...           V21       V22       V23  \\\n",
       "0  0.098698  0.363787  0.090794     ...     -0.018307  0.277838 -0.110474   \n",
       "1  0.085102 -0.255425 -0.166974     ...     -0.225775 -0.638672  0.101288   \n",
       "2  0.247676 -1.514654  0.207643     ...      0.247998  0.771679  0.909412   \n",
       "3  0.377436 -1.387024 -0.054952     ...     -0.108300  0.005274 -0.190321   \n",
       "4 -0.270533  0.817739  0.753074     ...     -0.009431  0.798278 -0.137458   \n",
       "\n",
       "        V24       V25       V26       V27       V28  Class  normAmount  \n",
       "0  0.066928  0.128539 -0.189115  0.133558 -0.021053      0    0.244964  \n",
       "1 -0.339846  0.167170  0.125895 -0.008983  0.014724      0   -0.342475  \n",
       "2 -0.689281 -0.327642 -0.139097 -0.055353 -0.059752      0    1.160686  \n",
       "3 -1.175575  0.647376 -0.221929  0.062723  0.061458      0    0.140534  \n",
       "4  0.141267 -0.206010  0.502292  0.219422  0.215153      0   -0.073403  \n",
       "\n",
       "[5 rows x 30 columns]"
      ]
     },
     "execution_count": 5,
     "metadata": {},
     "output_type": "execute_result"
    }
   ],
   "source": [
    "df['normAmount'] = StandardScaler().fit_transform(df['Amount'].values.reshape(-1, 1))\n",
    "df = df.drop(['Time', 'Amount'], axis=1)\n",
    "df.head()"
   ]
  },
  {
   "cell_type": "code",
   "execution_count": 6,
   "metadata": {},
   "outputs": [
    {
     "name": "stdout",
     "output_type": "stream",
     "text": [
      "         V1        V2        V3        V4        V5        V6        V7  \\\n",
      "0 -1.359807 -0.072781  2.536347  1.378155 -0.338321  0.462388  0.239599   \n",
      "1  1.191857  0.266151  0.166480  0.448154  0.060018 -0.082361 -0.078803   \n",
      "2 -1.358354 -1.340163  1.773209  0.379780 -0.503198  1.800499  0.791461   \n",
      "3 -0.966272 -0.185226  1.792993 -0.863291 -0.010309  1.247203  0.237609   \n",
      "4 -1.158233  0.877737  1.548718  0.403034 -0.407193  0.095921  0.592941   \n",
      "\n",
      "         V8        V9       V10     ...           V20       V21       V22  \\\n",
      "0  0.098698  0.363787  0.090794     ...      0.251412 -0.018307  0.277838   \n",
      "1  0.085102 -0.255425 -0.166974     ...     -0.069083 -0.225775 -0.638672   \n",
      "2  0.247676 -1.514654  0.207643     ...      0.524980  0.247998  0.771679   \n",
      "3  0.377436 -1.387024 -0.054952     ...     -0.208038 -0.108300  0.005274   \n",
      "4 -0.270533  0.817739  0.753074     ...      0.408542 -0.009431  0.798278   \n",
      "\n",
      "        V23       V24       V25       V26       V27       V28  normAmount  \n",
      "0 -0.110474  0.066928  0.128539 -0.189115  0.133558 -0.021053    0.244964  \n",
      "1  0.101288 -0.339846  0.167170  0.125895 -0.008983  0.014724   -0.342475  \n",
      "2  0.909412 -0.689281 -0.327642 -0.139097 -0.055353 -0.059752    1.160686  \n",
      "3 -0.190321 -1.175575  0.647376 -0.221929  0.062723  0.061458    0.140534  \n",
      "4 -0.137458  0.141267 -0.206010  0.502292  0.219422  0.215153   -0.073403  \n",
      "\n",
      "[5 rows x 29 columns]\n"
     ]
    }
   ],
   "source": [
    "y = df['Class']\n",
    "X = df.drop(['Class'], axis=1)\n",
    "print(X.head())"
   ]
  },
  {
   "cell_type": "code",
   "execution_count": 7,
   "metadata": {},
   "outputs": [
    {
     "name": "stdout",
     "output_type": "stream",
     "text": [
      "Percentage of normal transactions:  0.5\n",
      "Percentage of fraud transactions:  0.5\n",
      "Total number of transactions in resampled data:  984\n"
     ]
    }
   ],
   "source": [
    "# Number of data points in the minority class\n",
    "number_records_fraud = len(df[df.Class == 1])\n",
    "fraud_indices = np.array(df[df.Class == 1].index)\n",
    "\n",
    "# Picking the indices of the normal classes\n",
    "normal_indices = df[df.Class == 0].index\n",
    "\n",
    "# Out of the indices we picked, randomly select \"x\" number (number_records_fraud)\n",
    "random_normal_indices = np.random.choice(normal_indices, number_records_fraud, replace = False)\n",
    "random_normal_indices = np.array(random_normal_indices)\n",
    "\n",
    "# Appending the 2 indices\n",
    "under_sample_indices = np.concatenate([fraud_indices,random_normal_indices])\n",
    "\n",
    "# Under sample dataset\n",
    "under_sample_data = df.iloc[under_sample_indices,:]\n",
    "\n",
    "y_undersample = under_sample_data['Class']\n",
    "X_undersample = under_sample_data.drop(['Class'], axis=1)\n",
    "\n",
    "# Showing ratio\n",
    "print(\"Percentage of normal transactions: \", len(under_sample_data[under_sample_data.Class == 0])/len(under_sample_data))\n",
    "print(\"Percentage of fraud transactions: \", len(under_sample_data[under_sample_data.Class == 1])/len(under_sample_data))\n",
    "print(\"Total number of transactions in resampled data: \", len(under_sample_data))"
   ]
  },
  {
   "cell_type": "markdown",
   "metadata": {},
   "source": [
    "Now we have as much frauds than genuines"
   ]
  },
  {
   "cell_type": "code",
   "execution_count": 8,
   "metadata": {
    "collapsed": true
   },
   "outputs": [],
   "source": [
    "# Let's do a train_test_split on these data\n",
    "\n",
    "X_train_under, X_test_under, y_train_under, y_test_under = train_test_split(\n",
    "    X_undersample, y_undersample, test_size=0.3, random_state=0\n",
    ")"
   ]
  },
  {
   "cell_type": "markdown",
   "metadata": {},
   "source": [
    "Now we will try some algorithms with GridSearch\n",
    "\n",
    "### Logistic Regression\n",
    "\n",
    "First let's build our model around the undersampled data"
   ]
  },
  {
   "cell_type": "code",
   "execution_count": 9,
   "metadata": {},
   "outputs": [
    {
     "name": "stdout",
     "output_type": "stream",
     "text": [
      "Logistic Regression\n",
      "The best score with GridSearch for Logistic Regression is : 0.938953488372\n",
      "The best parameters with GridSearch for Logistic Regression are : {'C': 0.1, 'penalty': 'l1'}\n",
      "Logistic Regression train score = 0.940406976744\n",
      "Logistic Regression test score =  0.939189189189\n"
     ]
    }
   ],
   "source": [
    "lr_param_C = [0.01,0.1,1,10,100]\n",
    "lr_param_grid = {'C': lr_param_C, 'penalty': ['l1']}\n",
    "\n",
    "lr_grid_search = GridSearchCV(LogisticRegression(), lr_param_grid)\n",
    "lr_grid_search.fit(X_train_under, y_train_under)\n",
    "\n",
    "print('Logistic Regression')\n",
    "print('The best score with GridSearch for Logistic Regression is :', lr_grid_search.best_score_)\n",
    "print('The best parameters with GridSearch for Logistic Regression are :', lr_grid_search.best_params_)\n",
    "\n",
    "lr_best_params = lr_grid_search.best_params_\n",
    "\n",
    "lr = LogisticRegression(C=lr_best_params['C'], penalty='l1')\n",
    "lr.fit(X_train_under, y_train_under)\n",
    "lr_train_score = lr.score(X_train_under, y_train_under)\n",
    "lr_test_score = lr.score(X_test_under, y_test_under)\n",
    "print  ('Logistic Regression train score =', lr_train_score)\n",
    "print  ('Logistic Regression test score = ', lr_test_score)"
   ]
  },
  {
   "cell_type": "code",
   "execution_count": 10,
   "metadata": {
    "collapsed": true
   },
   "outputs": [],
   "source": [
    "def plot_confusion_matrix(cm, classes,\n",
    "                          normalize=False,\n",
    "                          title='Confusion matrix',\n",
    "                          cmap=plt.cm.Blues):\n",
    "    \"\"\"\n",
    "    This function prints and plots the confusion matrix.\n",
    "    Normalization can be applied by setting `normalize=True`.\n",
    "    \"\"\"\n",
    "    plt.imshow(cm, interpolation='nearest', cmap=cmap)\n",
    "    plt.title(title)\n",
    "    plt.colorbar()\n",
    "    tick_marks = np.arange(len(classes))\n",
    "    plt.xticks(tick_marks, classes, rotation=0)\n",
    "    plt.yticks(tick_marks, classes)\n",
    "\n",
    "    if normalize:\n",
    "        cm = cm.astype('float') / cm.sum(axis=1)[:, np.newaxis]\n",
    "        #print(\"Normalized confusion matrix\")\n",
    "    else:\n",
    "        1#print('Confusion matrix, without normalization')\n",
    "\n",
    "    #print(cm)\n",
    "\n",
    "    thresh = cm.max() / 2.\n",
    "    for i, j in itertools.product(range(cm.shape[0]), range(cm.shape[1])):\n",
    "        plt.text(j, i, cm[i, j],\n",
    "                 horizontalalignment=\"center\",\n",
    "                 color=\"white\" if cm[i, j] > thresh else \"black\")\n",
    "\n",
    "    plt.tight_layout()\n",
    "    plt.ylabel('True label')\n",
    "    plt.xlabel('Predicted label')"
   ]
  },
  {
   "cell_type": "code",
   "execution_count": 11,
   "metadata": {},
   "outputs": [
    {
     "name": "stdout",
     "output_type": "stream",
     "text": [
      "Recall metric in the testing dataset:  0.918367346939\n"
     ]
    },
    {
     "data": {
      "image/png": "[encoded data removed]",
      "text/plain": [
       "<matplotlib.figure.Figure at 0x7f9668e3dd30>"
      ]
     },
     "metadata": {},
     "output_type": "display_data"
    }
   ],
   "source": [
    "y_pred_undersample_lr = lr.predict(X_test_under)\n",
    "\n",
    "# Compute confusion matrix\n",
    "cnf_matrix = confusion_matrix(y_test_under,y_pred_undersample_lr)\n",
    "np.set_printoptions(precision=2)\n",
    "\n",
    "print(\"Recall metric in the testing dataset: \", cnf_matrix[1,1]/(cnf_matrix[1,0]+cnf_matrix[1,1]))\n",
    "\n",
    "# Plot non-normalized confusion matrix\n",
    "class_names = [0,1]\n",
    "plt.figure()\n",
    "plot_confusion_matrix(cnf_matrix\n",
    "                      , classes=class_names\n",
    "                      , title='Confusion matrix')\n",
    "plt.show()"
   ]
  },
  {
   "cell_type": "code",
   "execution_count": 12,
   "metadata": {},
   "outputs": [
    {
     "name": "stdout",
     "output_type": "stream",
     "text": [
      "Recall metric in the original  dataset:  0.906504065041\n",
      "             precision    recall  f1-score   support\n",
      "\n",
      "          0       1.00      0.98      0.99    284315\n",
      "          1       0.06      0.91      0.12       492\n",
      "\n",
      "avg / total       1.00      0.98      0.99    284807\n",
      "\n"
     ]
    },
    {
     "data": {
      "image/png": "[encoded data removed]",
      "text/plain": [
       "<matplotlib.figure.Figure at 0x7f96689dfd68>"
      ]
     },
     "metadata": {},
     "output_type": "display_data"
    }
   ],
   "source": [
    "y_pred = lr.predict(X)\n",
    "\n",
    "# Compute confusion matrix\n",
    "cnf_matrix = confusion_matrix(y,y_pred)\n",
    "np.set_printoptions(precision=2)\n",
    "\n",
    "print(\"Recall metric in the original  dataset: \", cnf_matrix[1,1]/(cnf_matrix[1,0]+cnf_matrix[1,1]))\n",
    "print(metrics.classification_report(y, y_pred))\n",
    "\n",
    "# Plot non-normalized confusion matrix\n",
    "class_names = [0,1]\n",
    "plt.figure()\n",
    "plot_confusion_matrix(cnf_matrix\n",
    "                      , classes=class_names\n",
    "                      , title='Confusion matrix')\n",
    "plt.show()"
   ]
  },
  {
   "cell_type": "markdown",
   "metadata": {},
   "source": [
    "### SVM"
   ]
  },
  {
   "cell_type": "code",
   "execution_count": 13,
   "metadata": {},
   "outputs": [
    {
     "name": "stdout",
     "output_type": "stream",
     "text": [
      "SVC :\n",
      "The best score with GridSearch for SVC is : 0.912790697674\n",
      "The best parameters with GridSearch for SVC are : {'C': 1}\n",
      "SVC train score = 0.96511627907\n",
      "SVC test score =  0.922297297297\n",
      "Recall metric in the testing dataset:  0.925170068027\n"
     ]
    },
    {
     "data": {
      "image/png": "[encoded data removed]",
      "text/plain": [
       "<matplotlib.figure.Figure at 0x7f9668900048>"
      ]
     },
     "metadata": {},
     "output_type": "display_data"
    }
   ],
   "source": [
    "svc_param_C = [0.01,0.1,1,10,100]\n",
    "svc_param_grid = {'C': svc_param_C}\n",
    "\n",
    "svc_grid_search = GridSearchCV(SVC(), svc_param_grid)\n",
    "svc_grid_search.fit(X_train_under, y_train_under)\n",
    "\n",
    "print('SVC :')\n",
    "print('The best score with GridSearch for SVC is :', svc_grid_search.best_score_)\n",
    "print('The best parameters with GridSearch for SVC are :', svc_grid_search.best_params_)\n",
    "\n",
    "svc_best_params = svc_grid_search.best_params_\n",
    "\n",
    "svc = SVC(C=svc_best_params['C'])\n",
    "svc.fit(X_train_under, y_train_under)\n",
    "svc_train_score = svc.score(X_train_under, y_train_under)\n",
    "svc_test_score = svc.score(X_test_under, y_test_under)\n",
    "print  ('SVC train score =', svc_train_score)\n",
    "print  ('SVC test score = ', svc_test_score)\n",
    "\n",
    "y_pred_undersample_svc = svc.predict(X_test_under)\n",
    "\n",
    "# Compute confusion matrix\n",
    "cnf_matrix = confusion_matrix(y_test_under, y_pred_undersample_svc)\n",
    "np.set_printoptions(precision=2)\n",
    "\n",
    "print(\"Recall metric in the testing dataset: \", cnf_matrix[1,1]/(cnf_matrix[1,0]+cnf_matrix[1,1]))\n",
    "\n",
    "# Plot non-normalized confusion matrix\n",
    "class_names = [0,1]\n",
    "plt.figure()\n",
    "plot_confusion_matrix(cnf_matrix\n",
    "                      , classes=class_names\n",
    "                      , title='Confusion matrix')\n",
    "plt.show()"
   ]
  },
  {
   "cell_type": "code",
   "execution_count": 14,
   "metadata": {},
   "outputs": [
    {
     "name": "stdout",
     "output_type": "stream",
     "text": [
      "Recall metric in the original  dataset:  0.932926829268\n",
      "             precision    recall  f1-score   support\n",
      "\n",
      "          0       1.00      0.94      0.97    284315\n",
      "          1       0.03      0.93      0.06       492\n",
      "\n",
      "avg / total       1.00      0.94      0.97    284807\n",
      "\n"
     ]
    },
    {
     "data": {
      "image/png": "[encoded data removed]",
      "text/plain": [
       "<matplotlib.figure.Figure at 0x7f9668961320>"
      ]
     },
     "metadata": {},
     "output_type": "display_data"
    }
   ],
   "source": [
    "y_pred_svc = svc.predict(X)\n",
    "\n",
    "# Compute confusion matrix\n",
    "cnf_matrix = confusion_matrix(y,y_pred_svc)\n",
    "np.set_printoptions(precision=2)\n",
    "\n",
    "print(\"Recall metric in the original  dataset: \", cnf_matrix[1,1]/(cnf_matrix[1,0]+cnf_matrix[1,1]))\n",
    "print(metrics.classification_report(y, y_pred_svc))\n",
    "\n",
    "# Plot non-normalized confusion matrix\n",
    "class_names = [0,1]\n",
    "plt.figure()\n",
    "plot_confusion_matrix(cnf_matrix\n",
    "                      , classes=class_names\n",
    "                      , title='Confusion matrix')\n",
    "plt.show()"
   ]
  },
  {
   "cell_type": "markdown",
   "metadata": {},
   "source": [
    "### Random Forest"
   ]
  },
  {
   "cell_type": "code",
   "execution_count": 15,
   "metadata": {},
   "outputs": [
    {
     "name": "stdout",
     "output_type": "stream",
     "text": [
      "rf :\n",
      "The best score with GridSearch for rf is : 0.938953488372\n",
      "The best parameters with GridSearch for rf are : {'n_estimators': 10}\n",
      "rf train score = 0.99273255814\n",
      "rf test score =  0.932432432432\n",
      "Recall metric in the testing dataset:  0.925170068027\n"
     ]
    },
    {
     "data": {
      "image/png": "[encoded data removed]",
      "text/plain": [
       "<matplotlib.figure.Figure at 0x7f966888fef0>"
      ]
     },
     "metadata": {},
     "output_type": "display_data"
    }
   ],
   "source": [
    "rf_param_n_estimator = [1,10,100]\n",
    "rf_param_grid = {'n_estimators': rf_param_n_estimator}\n",
    "\n",
    "rf_grid_search = GridSearchCV(RandomForestClassifier(), rf_param_grid)\n",
    "rf_grid_search.fit(X_train_under, y_train_under)\n",
    "\n",
    "print('rf :')\n",
    "print('The best score with GridSearch for rf is :', rf_grid_search.best_score_)\n",
    "print('The best parameters with GridSearch for rf are :', rf_grid_search.best_params_)\n",
    "\n",
    "rf_best_params = rf_grid_search.best_params_\n",
    "\n",
    "rf = RandomForestClassifier(n_estimators=rf_best_params['n_estimators'])\n",
    "rf.fit(X_train_under, y_train_under)\n",
    "rf_train_score = rf.score(X_train_under, y_train_under)\n",
    "rf_test_score = rf.score(X_test_under, y_test_under)\n",
    "print  ('rf train score =', rf_train_score)\n",
    "print  ('rf test score = ', rf_test_score)\n",
    "\n",
    "y_pred_undersample_rf = rf.predict(X_test_under)\n",
    "\n",
    "# Compute confusion matrix\n",
    "cnf_matrix = confusion_matrix(y_test_under, y_pred_undersample_rf)\n",
    "np.set_printoptions(precision=2)\n",
    "\n",
    "print(\"Recall metric in the testing dataset: \", cnf_matrix[1,1]/(cnf_matrix[1,0]+cnf_matrix[1,1]))\n",
    "\n",
    "# Plot non-normalized confusion matrix\n",
    "class_names = [0,1]\n",
    "plt.figure()\n",
    "plot_confusion_matrix(cnf_matrix\n",
    "                      , classes=class_names\n",
    "                      , title='Confusion matrix')\n",
    "plt.show()"
   ]
  },
  {
   "cell_type": "code",
   "execution_count": 16,
   "metadata": {},
   "outputs": [
    {
     "name": "stdout",
     "output_type": "stream",
     "text": [
      "Recall metric in the original  dataset:  0.967479674797\n",
      "             precision    recall  f1-score   support\n",
      "\n",
      "          0       1.00      0.97      0.98    284315\n",
      "          1       0.05      0.97      0.09       492\n",
      "\n",
      "avg / total       1.00      0.97      0.98    284807\n",
      "\n"
     ]
    },
    {
     "data": {
      "image/png": "[encoded data removed]",
      "text/plain": [
       "<matplotlib.figure.Figure at 0x7f966888c860>"
      ]
     },
     "metadata": {},
     "output_type": "display_data"
    }
   ],
   "source": [
    "y_pred_rf = rf.predict(X)\n",
    "\n",
    "# Compute confusion matrix\n",
    "cnf_matrix = confusion_matrix(y,y_pred_rf)\n",
    "np.set_printoptions(precision=2)\n",
    "\n",
    "print(\"Recall metric in the original  dataset: \", cnf_matrix[1,1]/(cnf_matrix[1,0]+cnf_matrix[1,1]))\n",
    "print(metrics.classification_report(y, y_pred_rf))\n",
    "# Plot non-normalized confusion matrix\n",
    "class_names = [0,1]\n",
    "plt.figure()\n",
    "plot_confusion_matrix(cnf_matrix\n",
    "                      , classes=class_names\n",
    "                      , title='Confusion matrix')\n",
    "plt.show()"
   ]
  },
  {
   "cell_type": "markdown",
   "metadata": {},
   "source": [
    "### XGBoost"
   ]
  },
  {
   "cell_type": "code",
   "execution_count": 17,
   "metadata": {},
   "outputs": [
    {
     "name": "stdout",
     "output_type": "stream",
     "text": [
      "xgb train score = 0.934593023256\n",
      "xgb test score =  0.912162162162\n",
      "Recall metric in the testing dataset:  0.850340136054\n"
     ]
    },
    {
     "data": {
      "image/png": "[encoded data removed]",
      "text/plain": [
       "<matplotlib.figure.Figure at 0x7f96688eadd8>"
      ]
     },
     "metadata": {},
     "output_type": "display_data"
    }
   ],
   "source": [
    "\n",
    "one_to_left = st.beta(10, 1)  \n",
    "from_zero_positive = st.expon(0, 50)\n",
    "\n",
    "xgb_rs_params = {  \n",
    "    \"n_estimators\": st.randint(3, 40),\n",
    "    \"max_depth\": st.randint(3, 40),\n",
    "    \"learning_rate\": st.uniform(0.05, 0.4),\n",
    "    \"colsample_bytree\": one_to_left,\n",
    "    \"subsample\": one_to_left,\n",
    "    \"gamma\": st.uniform(0, 10),\n",
    "    'reg_alpha': from_zero_positive,\n",
    "    \"min_child_weight\": from_zero_positive,\n",
    "}\n",
    "\n",
    "xgb_rs = XGBClassifier(nthreads=-1)  \n",
    "gs = RandomizedSearchCV(xgb_rs, xgb_rs_params, n_jobs=1)  \n",
    "xgb_best_model = gs.fit(X_train_under, y_train_under)  \n",
    "\n",
    "xgb_train_score = xgb_best_model.score(X_train_under, y_train_under)\n",
    "xgb_test_score = xgb_best_model.score(X_test_under, y_test_under)\n",
    "\n",
    "print  ('xgb train score =', xgb_train_score)\n",
    "print  ('xgb test score = ', xgb_test_score)\n",
    "\n",
    "y_pred_undersample_xgb = xgb_best_model.predict(X_test_under)\n",
    "\n",
    "# Compute confusion matrix\n",
    "cnf_matrix = confusion_matrix(y_test_under, y_pred_undersample_xgb)\n",
    "np.set_printoptions(precision=2)\n",
    "\n",
    "print(\"Recall metric in the testing dataset: \", cnf_matrix[1,1]/(cnf_matrix[1,0]+cnf_matrix[1,1]))\n",
    "\n",
    "# Plot non-normalized confusion matrix\n",
    "class_names = [0,1]\n",
    "plt.figure()\n",
    "plot_confusion_matrix(cnf_matrix\n",
    "                      , classes=class_names\n",
    "                      , title='Confusion matrix')\n",
    "plt.show()"
   ]
  },
  {
   "cell_type": "code",
   "execution_count": 18,
   "metadata": {},
   "outputs": [
    {
     "name": "stdout",
     "output_type": "stream",
     "text": [
      "Recall metric in the original  dataset:  0.871951219512\n",
      "             precision    recall  f1-score   support\n",
      "\n",
      "          0       1.00      0.98      0.99    284315\n",
      "          1       0.07      0.87      0.14       492\n",
      "\n",
      "avg / total       1.00      0.98      0.99    284807\n",
      "\n"
     ]
    },
    {
     "data": {
      "image/png": "[encoded data removed]",
      "text/plain": [
       "<matplotlib.figure.Figure at 0x7f96688f8160>"
      ]
     },
     "metadata": {},
     "output_type": "display_data"
    }
   ],
   "source": [
    "y_pred_xgb = xgb_best_model.predict(X)\n",
    "\n",
    "# Compute confusion matrix\n",
    "cnf_matrix = confusion_matrix(y,y_pred_xgb)\n",
    "np.set_printoptions(precision=2)\n",
    "\n",
    "print(\"Recall metric in the original  dataset: \", cnf_matrix[1,1]/(cnf_matrix[1,0]+cnf_matrix[1,1]))\n",
    "print(metrics.classification_report(y, y_pred_xgb))\n",
    "# Plot non-normalized confusion matrix\n",
    "class_names = [0,1]\n",
    "plt.figure()\n",
    "plot_confusion_matrix(cnf_matrix\n",
    "                      , classes=class_names\n",
    "                      , title='Confusion matrix')\n",
    "plt.show()"
   ]
  },
  {
   "cell_type": "markdown",
   "metadata": {},
   "source": [
    "### Neural Networks"
   ]
  },
  {
   "cell_type": "code",
   "execution_count": 33,
   "metadata": {},
   "outputs": [],
   "source": [
    "import keras.backend as K\n",
    "from keras.models import Sequential\n",
    "from keras.layers import Conv2D, MaxPooling2D, Dense, Dropout, Input, Flatten, Activation\n",
    "from keras.layers import GlobalMaxPooling2D\n",
    "from keras.layers.normalization import BatchNormalization\n",
    "from keras.layers.merge import Concatenate\n",
    "from keras.models import Model\n",
    "from keras import initializers\n",
    "from keras.optimizers import Adam\n",
    "from keras.callbacks import ModelCheckpoint, Callback, EarlyStopping, TensorBoard\n",
    "from keras import regularizers"
   ]
  },
  {
   "cell_type": "code",
   "execution_count": 20,
   "metadata": {
    "collapsed": true
   },
   "outputs": [],
   "source": [
    "def recall(y_true, y_pred):\n",
    "    true_positives = K.sum(K.round(K.clip(y_true * y_pred, 0, 1)))\n",
    "    possible_positives = K.sum(K.round(K.clip(y_true, 0, 1)))\n",
    "    recall = true_positives / (possible_positives + K.epsilon())\n",
    "    \n",
    "    return recall\n",
    "\n",
    "def getModel():\n",
    "    model = Sequential()\n",
    "    \n",
    "    model.add(Dense(16, input_dim=29))\n",
    "    model.add(Activation('relu'))\n",
    "    model.add(Dropout(0.3))\n",
    "    \n",
    "    model.add(Dense(18))\n",
    "    model.add(Activation('relu'))\n",
    "    model.add(Dropout(0.3))\n",
    "    \n",
    "    model.add(Dense(20))\n",
    "    model.add(Activation('relu'))\n",
    "    model.add(Dropout(0.3))\n",
    "    \n",
    "    model.add(Dense(24))\n",
    "    model.add(Activation('relu'))\n",
    "    model.add(Dropout(0.3))\n",
    "    \n",
    "    model.add(Dense(1))\n",
    "    model.add(Activation('sigmoid'))\n",
    "\n",
    "    \n",
    "#     model.compile(optimizer='adam', loss='binary_crossentropy', metrics=['accuracy'])\n",
    "    model.compile(optimizer='adam', loss='binary_crossentropy', metrics=['accuracy', recall])\n",
    "    \n",
    "    \n",
    "    return model\n",
    "\n",
    "def get_callbacks(filepath, patience=10):\n",
    "    earlystopping = EarlyStopping('val_loss', patience=patience, mode=\"min\")\n",
    "    checkpointer = ModelCheckpoint(filepath=filepath,\n",
    "                               verbose=0,\n",
    "                               save_best_only=True)\n",
    "    tensorboard = TensorBoard(log_dir='./logs',\n",
    "                              histogram_freq=0,\n",
    "                              write_graph=True,\n",
    "                              write_images=True)\n",
    "    return [earlystopping, checkpointer, tensorboard]\n",
    "file_path = \".model_weights_feed_forward.hdf5\"\n",
    "callbacks = get_callbacks(filepath=file_path, patience=100)"
   ]
  },
  {
   "cell_type": "code",
   "execution_count": 21,
   "metadata": {
    "collapsed": true
   },
   "outputs": [],
   "source": [
    "X_train_under_array = X_train_under.as_matrix()\n",
    "y_train_under_array = y_train_under.as_matrix()\n",
    "X_test_under_array = X_test_under.as_matrix()\n",
    "y_test_under_array = y_test_under.as_matrix()"
   ]
  },
  {
   "cell_type": "code",
   "execution_count": 22,
   "metadata": {},
   "outputs": [
    {
     "name": "stdout",
     "output_type": "stream",
     "text": [
      "Train on 688 samples, validate on 296 samples\n",
      "Epoch 1/1000\n",
      "688/688 [==============================] - 0s 662us/step - loss: 0.6839 - acc: 0.5552 - recall: 0.7322 - val_loss: 0.5362 - val_acc: 0.6791 - val_recall: 0.9614\n",
      "Epoch 2/1000\n",
      "688/688 [==============================] - 0s 243us/step - loss: 0.5757 - acc: 0.6076 - recall: 0.8530 - val_loss: 0.4809 - val_acc: 0.8108 - val_recall: 0.9367\n",
      "Epoch 3/1000\n",
      "688/688 [==============================] - 0s 236us/step - loss: 0.5361 - acc: 0.7166 - recall: 0.8659 - val_loss: 0.4409 - val_acc: 0.9020 - val_recall: 0.8591\n",
      "Epoch 4/1000\n",
      "688/688 [==============================] - 0s 262us/step - loss: 0.5048 - acc: 0.7515 - recall: 0.8150 - val_loss: 0.4002 - val_acc: 0.8986 - val_recall: 0.8398\n",
      "Epoch 5/1000\n",
      "688/688 [==============================] - 0s 262us/step - loss: 0.4526 - acc: 0.8183 - recall: 0.8188 - val_loss: 0.3703 - val_acc: 0.9054 - val_recall: 0.8254\n",
      "Epoch 6/1000\n",
      "688/688 [==============================] - 0s 261us/step - loss: 0.4269 - acc: 0.8285 - recall: 0.8289 - val_loss: 0.3452 - val_acc: 0.9020 - val_recall: 0.8196\n",
      "Epoch 7/1000\n",
      "688/688 [==============================] - 0s 247us/step - loss: 0.3953 - acc: 0.8677 - recall: 0.8195 - val_loss: 0.3241 - val_acc: 0.9155 - val_recall: 0.8573\n",
      "Epoch 8/1000\n",
      "688/688 [==============================] - 0s 259us/step - loss: 0.3715 - acc: 0.8750 - recall: 0.8344 - val_loss: 0.3047 - val_acc: 0.9088 - val_recall: 0.8448\n",
      "Epoch 9/1000\n",
      "688/688 [==============================] - 0s 256us/step - loss: 0.3627 - acc: 0.8823 - recall: 0.8257 - val_loss: 0.2869 - val_acc: 0.9155 - val_recall: 0.8564\n",
      "Epoch 10/1000\n",
      "688/688 [==============================] - 0s 249us/step - loss: 0.3147 - acc: 0.8924 - recall: 0.8241 - val_loss: 0.2686 - val_acc: 0.9223 - val_recall: 0.8564\n",
      "Epoch 11/1000\n",
      "688/688 [==============================] - 0s 245us/step - loss: 0.2968 - acc: 0.8953 - recall: 0.8487 - val_loss: 0.2530 - val_acc: 0.9223 - val_recall: 0.8564\n",
      "Epoch 12/1000\n",
      "688/688 [==============================] - 0s 244us/step - loss: 0.2718 - acc: 0.9099 - recall: 0.8408 - val_loss: 0.2382 - val_acc: 0.9223 - val_recall: 0.8564\n",
      "Epoch 13/1000\n",
      "688/688 [==============================] - 0s 245us/step - loss: 0.2380 - acc: 0.9186 - recall: 0.8565 - val_loss: 0.2216 - val_acc: 0.9257 - val_recall: 0.8721\n",
      "Epoch 14/1000\n",
      "688/688 [==============================] - 0s 248us/step - loss: 0.2614 - acc: 0.9157 - recall: 0.8467 - val_loss: 0.2102 - val_acc: 0.9291 - val_recall: 0.8779\n",
      "Epoch 15/1000\n",
      "688/688 [==============================] - 0s 252us/step - loss: 0.2419 - acc: 0.9128 - recall: 0.8505 - val_loss: 0.2002 - val_acc: 0.9257 - val_recall: 0.8869\n",
      "Epoch 16/1000\n",
      "688/688 [==============================] - 0s 249us/step - loss: 0.2110 - acc: 0.9288 - recall: 0.8825 - val_loss: 0.1913 - val_acc: 0.9291 - val_recall: 0.8927\n",
      "Epoch 17/1000\n",
      "688/688 [==============================] - 0s 248us/step - loss: 0.2303 - acc: 0.9215 - recall: 0.8753 - val_loss: 0.1852 - val_acc: 0.9291 - val_recall: 0.8927\n",
      "Epoch 18/1000\n",
      "688/688 [==============================] - 0s 247us/step - loss: 0.2378 - acc: 0.9172 - recall: 0.8640 - val_loss: 0.1829 - val_acc: 0.9291 - val_recall: 0.8927\n",
      "Epoch 19/1000\n",
      "688/688 [==============================] - 0s 241us/step - loss: 0.2147 - acc: 0.9230 - recall: 0.8806 - val_loss: 0.1809 - val_acc: 0.9291 - val_recall: 0.8927\n",
      "Epoch 20/1000\n",
      "688/688 [==============================] - 0s 246us/step - loss: 0.2248 - acc: 0.9215 - recall: 0.8733 - val_loss: 0.1790 - val_acc: 0.9291 - val_recall: 0.8927\n",
      "Epoch 21/1000\n",
      "688/688 [==============================] - 0s 251us/step - loss: 0.2374 - acc: 0.9084 - recall: 0.8516 - val_loss: 0.1781 - val_acc: 0.9291 - val_recall: 0.8927\n",
      "Epoch 22/1000\n",
      "688/688 [==============================] - 0s 248us/step - loss: 0.2168 - acc: 0.9186 - recall: 0.8859 - val_loss: 0.1772 - val_acc: 0.9291 - val_recall: 0.8927\n",
      "Epoch 23/1000\n",
      "688/688 [==============================] - 0s 271us/step - loss: 0.2267 - acc: 0.9230 - recall: 0.8723 - val_loss: 0.1764 - val_acc: 0.9257 - val_recall: 0.8927\n",
      "Epoch 24/1000\n",
      "688/688 [==============================] - 0s 216us/step - loss: 0.2250 - acc: 0.9244 - recall: 0.8618 - val_loss: 0.1764 - val_acc: 0.9291 - val_recall: 0.8981\n",
      "Epoch 25/1000\n",
      "688/688 [==============================] - 0s 216us/step - loss: 0.2288 - acc: 0.9113 - recall: 0.8688 - val_loss: 0.1766 - val_acc: 0.9291 - val_recall: 0.8981\n",
      "Epoch 26/1000\n",
      "688/688 [==============================] - 0s 239us/step - loss: 0.1932 - acc: 0.9230 - recall: 0.8702 - val_loss: 0.1743 - val_acc: 0.9291 - val_recall: 0.8981\n",
      "Epoch 27/1000\n",
      "688/688 [==============================] - 0s 236us/step - loss: 0.1661 - acc: 0.9433 - recall: 0.9074 - val_loss: 0.1727 - val_acc: 0.9291 - val_recall: 0.8981\n",
      "Epoch 28/1000\n",
      "688/688 [==============================] - 0s 216us/step - loss: 0.2102 - acc: 0.9201 - recall: 0.8774 - val_loss: 0.1731 - val_acc: 0.9291 - val_recall: 0.8981\n",
      "Epoch 29/1000\n",
      "688/688 [==============================] - 0s 216us/step - loss: 0.1760 - acc: 0.9390 - recall: 0.9110 - val_loss: 0.1740 - val_acc: 0.9291 - val_recall: 0.8981\n",
      "Epoch 30/1000\n",
      "688/688 [==============================] - 0s 245us/step - loss: 0.2000 - acc: 0.9215 - recall: 0.8743 - val_loss: 0.1717 - val_acc: 0.9324 - val_recall: 0.9049\n",
      "Epoch 31/1000\n",
      "688/688 [==============================] - 0s 248us/step - loss: 0.1665 - acc: 0.9375 - recall: 0.9064 - val_loss: 0.1705 - val_acc: 0.9324 - val_recall: 0.9071\n",
      "Epoch 32/1000\n",
      "688/688 [==============================] - 0s 214us/step - loss: 0.2003 - acc: 0.9142 - recall: 0.8531 - val_loss: 0.1710 - val_acc: 0.9324 - val_recall: 0.9071\n",
      "Epoch 33/1000\n",
      "688/688 [==============================] - 0s 252us/step - loss: 0.1722 - acc: 0.9360 - recall: 0.9017 - val_loss: 0.1700 - val_acc: 0.9358 - val_recall: 0.9139\n",
      "Epoch 34/1000\n",
      "688/688 [==============================] - 0s 246us/step - loss: 0.2221 - acc: 0.9142 - recall: 0.8658 - val_loss: 0.1666 - val_acc: 0.9324 - val_recall: 0.9049\n",
      "Epoch 35/1000\n",
      "688/688 [==============================] - 0s 216us/step - loss: 0.1945 - acc: 0.9317 - recall: 0.8806 - val_loss: 0.1681 - val_acc: 0.9426 - val_recall: 0.9264\n",
      "Epoch 36/1000\n",
      "688/688 [==============================] - 0s 219us/step - loss: 0.1930 - acc: 0.9288 - recall: 0.8965 - val_loss: 0.1682 - val_acc: 0.9392 - val_recall: 0.9207\n",
      "Epoch 37/1000\n",
      "688/688 [==============================] - 0s 208us/step - loss: 0.1487 - acc: 0.9360 - recall: 0.9073 - val_loss: 0.1675 - val_acc: 0.9426 - val_recall: 0.9264\n",
      "Epoch 38/1000\n",
      "688/688 [==============================] - 0s 238us/step - loss: 0.1681 - acc: 0.9331 - recall: 0.8965 - val_loss: 0.1654 - val_acc: 0.9459 - val_recall: 0.9264\n",
      "Epoch 39/1000\n",
      "688/688 [==============================] - 0s 198us/step - loss: 0.1827 - acc: 0.9273 - recall: 0.8827 - val_loss: 0.1665 - val_acc: 0.9392 - val_recall: 0.9139\n",
      "Epoch 40/1000\n",
      "688/688 [==============================] - 0s 236us/step - loss: 0.1692 - acc: 0.9331 - recall: 0.8911 - val_loss: 0.1647 - val_acc: 0.9358 - val_recall: 0.9139\n",
      "Epoch 41/1000\n",
      "688/688 [==============================] - 0s 238us/step - loss: 0.1524 - acc: 0.9462 - recall: 0.9183 - val_loss: 0.1625 - val_acc: 0.9459 - val_recall: 0.9264\n",
      "Epoch 42/1000\n",
      "688/688 [==============================] - 0s 212us/step - loss: 0.1385 - acc: 0.9477 - recall: 0.9221 - val_loss: 0.1645 - val_acc: 0.9426 - val_recall: 0.9264\n",
      "Epoch 43/1000\n",
      "688/688 [==============================] - 0s 216us/step - loss: 0.1460 - acc: 0.9491 - recall: 0.9171 - val_loss: 0.1638 - val_acc: 0.9459 - val_recall: 0.9322\n",
      "Epoch 44/1000\n",
      "688/688 [==============================] - 0s 236us/step - loss: 0.1508 - acc: 0.9404 - recall: 0.9111 - val_loss: 0.1620 - val_acc: 0.9527 - val_recall: 0.9390\n",
      "Epoch 45/1000\n",
      "688/688 [==============================] - 0s 245us/step - loss: 0.1379 - acc: 0.9404 - recall: 0.9159 - val_loss: 0.1617 - val_acc: 0.9493 - val_recall: 0.9332\n",
      "Epoch 46/1000\n",
      "688/688 [==============================] - 0s 253us/step - loss: 0.1301 - acc: 0.9433 - recall: 0.9299 - val_loss: 0.1615 - val_acc: 0.9493 - val_recall: 0.9332\n",
      "Epoch 47/1000\n"
     ]
    },
    {
     "name": "stdout",
     "output_type": "stream",
     "text": [
      "688/688 [==============================] - 0s 205us/step - loss: 0.1378 - acc: 0.9419 - recall: 0.9018 - val_loss: 0.1645 - val_acc: 0.9493 - val_recall: 0.9332\n",
      "Epoch 48/1000\n",
      "688/688 [==============================] - 0s 202us/step - loss: 0.1340 - acc: 0.9491 - recall: 0.9244 - val_loss: 0.1617 - val_acc: 0.9527 - val_recall: 0.9390\n",
      "Epoch 49/1000\n",
      "688/688 [==============================] - 0s 209us/step - loss: 0.1335 - acc: 0.9506 - recall: 0.9245 - val_loss: 0.1628 - val_acc: 0.9527 - val_recall: 0.9390\n",
      "Epoch 50/1000\n",
      "688/688 [==============================] - 0s 203us/step - loss: 0.1193 - acc: 0.9637 - recall: 0.9498 - val_loss: 0.1624 - val_acc: 0.9527 - val_recall: 0.9390\n",
      "Epoch 51/1000\n",
      "688/688 [==============================] - 0s 237us/step - loss: 0.1532 - acc: 0.9462 - recall: 0.9351 - val_loss: 0.1613 - val_acc: 0.9527 - val_recall: 0.9390\n",
      "Epoch 52/1000\n",
      "688/688 [==============================] - 0s 237us/step - loss: 0.1574 - acc: 0.9433 - recall: 0.9182 - val_loss: 0.1601 - val_acc: 0.9459 - val_recall: 0.9264\n",
      "Epoch 53/1000\n",
      "688/688 [==============================] - 0s 205us/step - loss: 0.1208 - acc: 0.9506 - recall: 0.9329 - val_loss: 0.1640 - val_acc: 0.9493 - val_recall: 0.9332\n",
      "Epoch 54/1000\n",
      "688/688 [==============================] - 0s 204us/step - loss: 0.1370 - acc: 0.9448 - recall: 0.9196 - val_loss: 0.1631 - val_acc: 0.9459 - val_recall: 0.9264\n",
      "Epoch 55/1000\n",
      "688/688 [==============================] - 0s 210us/step - loss: 0.1485 - acc: 0.9448 - recall: 0.9250 - val_loss: 0.1614 - val_acc: 0.9459 - val_recall: 0.9264\n",
      "Epoch 56/1000\n",
      "688/688 [==============================] - 0s 197us/step - loss: 0.1276 - acc: 0.9390 - recall: 0.9103 - val_loss: 0.1634 - val_acc: 0.9426 - val_recall: 0.9332\n",
      "Epoch 57/1000\n",
      "688/688 [==============================] - 0s 196us/step - loss: 0.1401 - acc: 0.9506 - recall: 0.9295 - val_loss: 0.1648 - val_acc: 0.9493 - val_recall: 0.9332\n",
      "Epoch 58/1000\n",
      "688/688 [==============================] - 0s 197us/step - loss: 0.1183 - acc: 0.9462 - recall: 0.9200 - val_loss: 0.1682 - val_acc: 0.9493 - val_recall: 0.9332\n",
      "Epoch 59/1000\n",
      "688/688 [==============================] - 0s 200us/step - loss: 0.1354 - acc: 0.9491 - recall: 0.9251 - val_loss: 0.1696 - val_acc: 0.9459 - val_recall: 0.9332\n",
      "Epoch 60/1000\n",
      "688/688 [==============================] - 0s 208us/step - loss: 0.1161 - acc: 0.9506 - recall: 0.9246 - val_loss: 0.1714 - val_acc: 0.9392 - val_recall: 0.9264\n",
      "Epoch 61/1000\n",
      "688/688 [==============================] - 0s 209us/step - loss: 0.1252 - acc: 0.9491 - recall: 0.9360 - val_loss: 0.1729 - val_acc: 0.9426 - val_recall: 0.9264\n",
      "Epoch 62/1000\n",
      "688/688 [==============================] - 0s 205us/step - loss: 0.1207 - acc: 0.9520 - recall: 0.9318 - val_loss: 0.1727 - val_acc: 0.9426 - val_recall: 0.9332\n",
      "Epoch 63/1000\n",
      "688/688 [==============================] - 0s 203us/step - loss: 0.1180 - acc: 0.9535 - recall: 0.9295 - val_loss: 0.1747 - val_acc: 0.9459 - val_recall: 0.9390\n",
      "Epoch 64/1000\n",
      "688/688 [==============================] - 0s 206us/step - loss: 0.1221 - acc: 0.9491 - recall: 0.9322 - val_loss: 0.1764 - val_acc: 0.9459 - val_recall: 0.9390\n",
      "Epoch 65/1000\n",
      "688/688 [==============================] - 0s 205us/step - loss: 0.1147 - acc: 0.9491 - recall: 0.9287 - val_loss: 0.1753 - val_acc: 0.9426 - val_recall: 0.9332\n",
      "Epoch 66/1000\n",
      "688/688 [==============================] - 0s 210us/step - loss: 0.1082 - acc: 0.9651 - recall: 0.9506 - val_loss: 0.1772 - val_acc: 0.9459 - val_recall: 0.9390\n",
      "Epoch 67/1000\n",
      "688/688 [==============================] - 0s 219us/step - loss: 0.1198 - acc: 0.9578 - recall: 0.9474 - val_loss: 0.1757 - val_acc: 0.9426 - val_recall: 0.9332\n",
      "Epoch 68/1000\n",
      "688/688 [==============================] - 0s 201us/step - loss: 0.1164 - acc: 0.9477 - recall: 0.9235 - val_loss: 0.1706 - val_acc: 0.9459 - val_recall: 0.9390\n",
      "Epoch 69/1000\n",
      "688/688 [==============================] - 0s 199us/step - loss: 0.0985 - acc: 0.9578 - recall: 0.9447 - val_loss: 0.1719 - val_acc: 0.9459 - val_recall: 0.9390\n",
      "Epoch 70/1000\n",
      "688/688 [==============================] - 0s 204us/step - loss: 0.0980 - acc: 0.9578 - recall: 0.9568 - val_loss: 0.1770 - val_acc: 0.9426 - val_recall: 0.9332\n",
      "Epoch 71/1000\n",
      "688/688 [==============================] - 0s 214us/step - loss: 0.1180 - acc: 0.9608 - recall: 0.9505 - val_loss: 0.1771 - val_acc: 0.9459 - val_recall: 0.9332\n",
      "Epoch 72/1000\n",
      "688/688 [==============================] - 0s 201us/step - loss: 0.1135 - acc: 0.9506 - recall: 0.9355 - val_loss: 0.1793 - val_acc: 0.9459 - val_recall: 0.9332\n",
      "Epoch 73/1000\n",
      "688/688 [==============================] - 0s 201us/step - loss: 0.1112 - acc: 0.9622 - recall: 0.9293 - val_loss: 0.1793 - val_acc: 0.9459 - val_recall: 0.9332\n",
      "Epoch 74/1000\n",
      "688/688 [==============================] - 0s 208us/step - loss: 0.1021 - acc: 0.9593 - recall: 0.9471 - val_loss: 0.1823 - val_acc: 0.9459 - val_recall: 0.9332\n",
      "Epoch 75/1000\n",
      "688/688 [==============================] - 0s 206us/step - loss: 0.1033 - acc: 0.9622 - recall: 0.9479 - val_loss: 0.1807 - val_acc: 0.9459 - val_recall: 0.9332\n",
      "Epoch 76/1000\n",
      "688/688 [==============================] - 0s 212us/step - loss: 0.0902 - acc: 0.9709 - recall: 0.9631 - val_loss: 0.1822 - val_acc: 0.9459 - val_recall: 0.9332\n",
      "Epoch 77/1000\n",
      "688/688 [==============================] - 0s 208us/step - loss: 0.1046 - acc: 0.9535 - recall: 0.9436 - val_loss: 0.1814 - val_acc: 0.9493 - val_recall: 0.9448\n",
      "Epoch 78/1000\n",
      "688/688 [==============================] - 0s 211us/step - loss: 0.1161 - acc: 0.9535 - recall: 0.9429 - val_loss: 0.1833 - val_acc: 0.9527 - val_recall: 0.9448\n",
      "Epoch 79/1000\n",
      "688/688 [==============================] - 0s 206us/step - loss: 0.1058 - acc: 0.9564 - recall: 0.9366 - val_loss: 0.1827 - val_acc: 0.9493 - val_recall: 0.9448\n",
      "Epoch 80/1000\n",
      "688/688 [==============================] - 0s 203us/step - loss: 0.0974 - acc: 0.9608 - recall: 0.9525 - val_loss: 0.1831 - val_acc: 0.9459 - val_recall: 0.9444\n",
      "Epoch 81/1000\n",
      "688/688 [==============================] - 0s 222us/step - loss: 0.1108 - acc: 0.9535 - recall: 0.9513 - val_loss: 0.1845 - val_acc: 0.9493 - val_recall: 0.9390\n",
      "Epoch 82/1000\n",
      "688/688 [==============================] - 0s 208us/step - loss: 0.0986 - acc: 0.9651 - recall: 0.9618 - val_loss: 0.1850 - val_acc: 0.9493 - val_recall: 0.9390\n",
      "Epoch 83/1000\n",
      "688/688 [==============================] - 0s 204us/step - loss: 0.0849 - acc: 0.9593 - recall: 0.9410 - val_loss: 0.1886 - val_acc: 0.9459 - val_recall: 0.9390\n",
      "Epoch 84/1000\n",
      "688/688 [==============================] - 0s 202us/step - loss: 0.0838 - acc: 0.9651 - recall: 0.9589 - val_loss: 0.1922 - val_acc: 0.9459 - val_recall: 0.9390\n",
      "Epoch 85/1000\n",
      "688/688 [==============================] - 0s 200us/step - loss: 0.1094 - acc: 0.9578 - recall: 0.9430 - val_loss: 0.1904 - val_acc: 0.9392 - val_recall: 0.9390\n",
      "Epoch 86/1000\n",
      "688/688 [==============================] - 0s 202us/step - loss: 0.1157 - acc: 0.9666 - recall: 0.9606 - val_loss: 0.1889 - val_acc: 0.9459 - val_recall: 0.9390\n",
      "Epoch 87/1000\n",
      "688/688 [==============================] - 0s 207us/step - loss: 0.0976 - acc: 0.9622 - recall: 0.9532 - val_loss: 0.1897 - val_acc: 0.9392 - val_recall: 0.9332\n",
      "Epoch 88/1000\n",
      "688/688 [==============================] - 0s 213us/step - loss: 0.0906 - acc: 0.9622 - recall: 0.9587 - val_loss: 0.1923 - val_acc: 0.9392 - val_recall: 0.9332\n",
      "Epoch 89/1000\n",
      "688/688 [==============================] - 0s 200us/step - loss: 0.0907 - acc: 0.9622 - recall: 0.9565 - val_loss: 0.1957 - val_acc: 0.9392 - val_recall: 0.9332\n",
      "Epoch 90/1000\n",
      "688/688 [==============================] - 0s 203us/step - loss: 0.0868 - acc: 0.9666 - recall: 0.9521 - val_loss: 0.1944 - val_acc: 0.9392 - val_recall: 0.9390\n",
      "Epoch 91/1000\n",
      "688/688 [==============================] - 0s 211us/step - loss: 0.1077 - acc: 0.9578 - recall: 0.9550 - val_loss: 0.1934 - val_acc: 0.9426 - val_recall: 0.9444\n",
      "Epoch 92/1000\n",
      "688/688 [==============================] - 0s 203us/step - loss: 0.0836 - acc: 0.9651 - recall: 0.9578 - val_loss: 0.1975 - val_acc: 0.9392 - val_recall: 0.9386\n",
      "Epoch 93/1000\n",
      "688/688 [==============================] - 0s 212us/step - loss: 0.0713 - acc: 0.9753 - recall: 0.9663 - val_loss: 0.2045 - val_acc: 0.9392 - val_recall: 0.9386\n"
     ]
    },
    {
     "name": "stdout",
     "output_type": "stream",
     "text": [
      "Epoch 94/1000\n",
      "688/688 [==============================] - 0s 211us/step - loss: 0.0883 - acc: 0.9651 - recall: 0.9606 - val_loss: 0.2045 - val_acc: 0.9392 - val_recall: 0.9386\n",
      "Epoch 95/1000\n",
      "688/688 [==============================] - 0s 205us/step - loss: 0.0718 - acc: 0.9738 - recall: 0.9706 - val_loss: 0.2062 - val_acc: 0.9358 - val_recall: 0.9332\n",
      "Epoch 96/1000\n",
      "688/688 [==============================] - 0s 205us/step - loss: 0.0943 - acc: 0.9535 - recall: 0.9348 - val_loss: 0.2067 - val_acc: 0.9392 - val_recall: 0.9386\n",
      "Epoch 97/1000\n",
      "688/688 [==============================] - 0s 207us/step - loss: 0.1105 - acc: 0.9506 - recall: 0.9429 - val_loss: 0.2018 - val_acc: 0.9459 - val_recall: 0.9512\n",
      "Epoch 98/1000\n",
      "688/688 [==============================] - 0s 203us/step - loss: 0.0821 - acc: 0.9622 - recall: 0.9575 - val_loss: 0.1997 - val_acc: 0.9426 - val_recall: 0.9444\n",
      "Epoch 99/1000\n",
      "688/688 [==============================] - 0s 202us/step - loss: 0.0835 - acc: 0.9622 - recall: 0.9560 - val_loss: 0.2021 - val_acc: 0.9426 - val_recall: 0.9444\n",
      "Epoch 100/1000\n",
      "688/688 [==============================] - 0s 204us/step - loss: 0.0907 - acc: 0.9622 - recall: 0.9632 - val_loss: 0.2052 - val_acc: 0.9426 - val_recall: 0.9444\n",
      "Epoch 101/1000\n",
      "688/688 [==============================] - 0s 210us/step - loss: 0.0981 - acc: 0.9535 - recall: 0.9456 - val_loss: 0.2019 - val_acc: 0.9459 - val_recall: 0.9444\n",
      "Epoch 102/1000\n",
      "688/688 [==============================] - 0s 200us/step - loss: 0.0910 - acc: 0.9608 - recall: 0.9535 - val_loss: 0.2031 - val_acc: 0.9493 - val_recall: 0.9502\n",
      "Epoch 103/1000\n",
      "688/688 [==============================] - 0s 201us/step - loss: 0.0868 - acc: 0.9666 - recall: 0.9630 - val_loss: 0.2053 - val_acc: 0.9459 - val_recall: 0.9444\n",
      "Epoch 104/1000\n",
      "688/688 [==============================] - 0s 204us/step - loss: 0.0776 - acc: 0.9709 - recall: 0.9742 - val_loss: 0.2055 - val_acc: 0.9493 - val_recall: 0.9444\n",
      "Epoch 105/1000\n",
      "688/688 [==============================] - 0s 203us/step - loss: 0.0877 - acc: 0.9651 - recall: 0.9572 - val_loss: 0.2083 - val_acc: 0.9493 - val_recall: 0.9444\n",
      "Epoch 106/1000\n",
      "688/688 [==============================] - 0s 202us/step - loss: 0.0856 - acc: 0.9622 - recall: 0.9615 - val_loss: 0.2103 - val_acc: 0.9527 - val_recall: 0.9502\n",
      "Epoch 107/1000\n",
      "688/688 [==============================] - 0s 194us/step - loss: 0.0830 - acc: 0.9680 - recall: 0.9544 - val_loss: 0.2155 - val_acc: 0.9459 - val_recall: 0.9444\n",
      "Epoch 108/1000\n",
      "688/688 [==============================] - 0s 204us/step - loss: 0.0757 - acc: 0.9622 - recall: 0.9528 - val_loss: 0.2179 - val_acc: 0.9392 - val_recall: 0.9444\n",
      "Epoch 109/1000\n",
      "688/688 [==============================] - 0s 204us/step - loss: 0.0635 - acc: 0.9724 - recall: 0.9731 - val_loss: 0.2204 - val_acc: 0.9426 - val_recall: 0.9444\n",
      "Epoch 110/1000\n",
      "688/688 [==============================] - 0s 211us/step - loss: 0.0688 - acc: 0.9680 - recall: 0.9684 - val_loss: 0.2275 - val_acc: 0.9426 - val_recall: 0.9502\n",
      "Epoch 111/1000\n",
      "688/688 [==============================] - 0s 204us/step - loss: 0.0885 - acc: 0.9695 - recall: 0.9723 - val_loss: 0.2282 - val_acc: 0.9459 - val_recall: 0.9444\n",
      "Epoch 112/1000\n",
      "688/688 [==============================] - 0s 201us/step - loss: 0.0894 - acc: 0.9593 - recall: 0.9477 - val_loss: 0.2235 - val_acc: 0.9392 - val_recall: 0.9502\n",
      "Epoch 113/1000\n",
      "688/688 [==============================] - 0s 209us/step - loss: 0.0960 - acc: 0.9491 - recall: 0.9385 - val_loss: 0.2217 - val_acc: 0.9426 - val_recall: 0.9502\n",
      "Epoch 114/1000\n",
      "688/688 [==============================] - 0s 203us/step - loss: 0.0899 - acc: 0.9593 - recall: 0.9527 - val_loss: 0.2213 - val_acc: 0.9459 - val_recall: 0.9502\n",
      "Epoch 115/1000\n",
      "688/688 [==============================] - 0s 209us/step - loss: 0.0739 - acc: 0.9695 - recall: 0.9664 - val_loss: 0.2253 - val_acc: 0.9459 - val_recall: 0.9502\n",
      "Epoch 116/1000\n",
      "688/688 [==============================] - 0s 210us/step - loss: 0.0868 - acc: 0.9622 - recall: 0.9633 - val_loss: 0.2269 - val_acc: 0.9459 - val_recall: 0.9502\n",
      "Epoch 117/1000\n",
      "688/688 [==============================] - 0s 203us/step - loss: 0.0794 - acc: 0.9666 - recall: 0.9711 - val_loss: 0.2236 - val_acc: 0.9493 - val_recall: 0.9444\n",
      "Epoch 118/1000\n",
      "688/688 [==============================] - 0s 200us/step - loss: 0.0699 - acc: 0.9709 - recall: 0.9615 - val_loss: 0.2245 - val_acc: 0.9493 - val_recall: 0.9444\n",
      "Epoch 119/1000\n",
      "688/688 [==============================] - 0s 206us/step - loss: 0.0697 - acc: 0.9651 - recall: 0.9589 - val_loss: 0.2323 - val_acc: 0.9459 - val_recall: 0.9444\n",
      "Epoch 120/1000\n",
      "688/688 [==============================] - 0s 202us/step - loss: 0.0830 - acc: 0.9651 - recall: 0.9620 - val_loss: 0.2301 - val_acc: 0.9426 - val_recall: 0.9444\n",
      "Epoch 121/1000\n",
      "688/688 [==============================] - 0s 199us/step - loss: 0.0761 - acc: 0.9680 - recall: 0.9698 - val_loss: 0.2403 - val_acc: 0.9459 - val_recall: 0.9444\n",
      "Epoch 122/1000\n",
      "688/688 [==============================] - 0s 201us/step - loss: 0.0731 - acc: 0.9680 - recall: 0.9633 - val_loss: 0.2441 - val_acc: 0.9493 - val_recall: 0.9502\n",
      "Epoch 123/1000\n",
      "688/688 [==============================] - 0s 208us/step - loss: 0.0615 - acc: 0.9724 - recall: 0.9667 - val_loss: 0.2474 - val_acc: 0.9493 - val_recall: 0.9502\n",
      "Epoch 124/1000\n",
      "688/688 [==============================] - 0s 211us/step - loss: 0.0668 - acc: 0.9738 - recall: 0.9778 - val_loss: 0.2471 - val_acc: 0.9493 - val_recall: 0.9502\n",
      "Epoch 125/1000\n",
      "688/688 [==============================] - 0s 201us/step - loss: 0.0779 - acc: 0.9535 - recall: 0.9434 - val_loss: 0.2490 - val_acc: 0.9459 - val_recall: 0.9444\n",
      "Epoch 126/1000\n",
      "688/688 [==============================] - 0s 207us/step - loss: 0.0808 - acc: 0.9724 - recall: 0.9688 - val_loss: 0.2372 - val_acc: 0.9527 - val_recall: 0.9569\n",
      "Epoch 127/1000\n",
      "688/688 [==============================] - 0s 207us/step - loss: 0.0702 - acc: 0.9651 - recall: 0.9688 - val_loss: 0.2373 - val_acc: 0.9493 - val_recall: 0.9512\n",
      "Epoch 128/1000\n",
      "688/688 [==============================] - 0s 209us/step - loss: 0.0633 - acc: 0.9709 - recall: 0.9674 - val_loss: 0.2418 - val_acc: 0.9493 - val_recall: 0.9512\n",
      "Epoch 129/1000\n",
      "688/688 [==============================] - 0s 208us/step - loss: 0.0814 - acc: 0.9608 - recall: 0.9599 - val_loss: 0.2411 - val_acc: 0.9459 - val_recall: 0.9444\n",
      "Epoch 130/1000\n",
      "688/688 [==============================] - 0s 218us/step - loss: 0.0653 - acc: 0.9695 - recall: 0.9555 - val_loss: 0.2428 - val_acc: 0.9459 - val_recall: 0.9386\n",
      "Epoch 131/1000\n",
      "688/688 [==============================] - 0s 210us/step - loss: 0.0570 - acc: 0.9767 - recall: 0.9692 - val_loss: 0.2513 - val_acc: 0.9459 - val_recall: 0.9444\n",
      "Epoch 132/1000\n",
      "688/688 [==============================] - 0s 208us/step - loss: 0.0706 - acc: 0.9709 - recall: 0.9693 - val_loss: 0.2509 - val_acc: 0.9426 - val_recall: 0.9444\n",
      "Epoch 133/1000\n",
      "688/688 [==============================] - 0s 204us/step - loss: 0.0682 - acc: 0.9680 - recall: 0.9670 - val_loss: 0.2562 - val_acc: 0.9459 - val_recall: 0.9444\n",
      "Epoch 134/1000\n",
      "688/688 [==============================] - 0s 205us/step - loss: 0.0836 - acc: 0.9608 - recall: 0.9558 - val_loss: 0.2549 - val_acc: 0.9459 - val_recall: 0.9502\n",
      "Epoch 135/1000\n",
      "688/688 [==============================] - 0s 200us/step - loss: 0.0647 - acc: 0.9724 - recall: 0.9684 - val_loss: 0.2584 - val_acc: 0.9358 - val_recall: 0.9502\n",
      "Epoch 136/1000\n",
      "688/688 [==============================] - 0s 207us/step - loss: 0.0577 - acc: 0.9753 - recall: 0.9741 - val_loss: 0.2625 - val_acc: 0.9392 - val_recall: 0.9502\n",
      "Epoch 137/1000\n",
      "688/688 [==============================] - 0s 213us/step - loss: 0.0635 - acc: 0.9753 - recall: 0.9824 - val_loss: 0.2629 - val_acc: 0.9459 - val_recall: 0.9502\n",
      "Epoch 138/1000\n",
      "688/688 [==============================] - 0s 198us/step - loss: 0.0926 - acc: 0.9666 - recall: 0.9606 - val_loss: 0.2575 - val_acc: 0.9459 - val_recall: 0.9434\n",
      "Epoch 139/1000\n",
      "688/688 [==============================] - 0s 203us/step - loss: 0.0605 - acc: 0.9753 - recall: 0.9807 - val_loss: 0.2663 - val_acc: 0.9426 - val_recall: 0.9444\n",
      "Epoch 140/1000\n"
     ]
    },
    {
     "name": "stdout",
     "output_type": "stream",
     "text": [
      "688/688 [==============================] - 0s 204us/step - loss: 0.0603 - acc: 0.9738 - recall: 0.9665 - val_loss: 0.2778 - val_acc: 0.9426 - val_recall: 0.9444\n",
      "Epoch 141/1000\n",
      "688/688 [==============================] - 0s 204us/step - loss: 0.0576 - acc: 0.9738 - recall: 0.9698 - val_loss: 0.2711 - val_acc: 0.9392 - val_recall: 0.9444\n",
      "Epoch 142/1000\n",
      "688/688 [==============================] - 0s 204us/step - loss: 0.0752 - acc: 0.9709 - recall: 0.9699 - val_loss: 0.2684 - val_acc: 0.9392 - val_recall: 0.9390\n",
      "Epoch 143/1000\n",
      "688/688 [==============================] - 0s 202us/step - loss: 0.0656 - acc: 0.9695 - recall: 0.9669 - val_loss: 0.2757 - val_acc: 0.9358 - val_recall: 0.9390\n",
      "Epoch 144/1000\n",
      "688/688 [==============================] - 0s 210us/step - loss: 0.0611 - acc: 0.9753 - recall: 0.9674 - val_loss: 0.2762 - val_acc: 0.9358 - val_recall: 0.9390\n",
      "Epoch 145/1000\n",
      "688/688 [==============================] - 0s 203us/step - loss: 0.0802 - acc: 0.9651 - recall: 0.9620 - val_loss: 0.2706 - val_acc: 0.9392 - val_recall: 0.9390\n",
      "Epoch 146/1000\n",
      "688/688 [==============================] - 0s 204us/step - loss: 0.0681 - acc: 0.9753 - recall: 0.9775 - val_loss: 0.2800 - val_acc: 0.9392 - val_recall: 0.9386\n",
      "Epoch 147/1000\n",
      "688/688 [==============================] - 0s 200us/step - loss: 0.0652 - acc: 0.9680 - recall: 0.9698 - val_loss: 0.2839 - val_acc: 0.9392 - val_recall: 0.9390\n",
      "Epoch 148/1000\n",
      "688/688 [==============================] - 0s 200us/step - loss: 0.0495 - acc: 0.9811 - recall: 0.9756 - val_loss: 0.2832 - val_acc: 0.9392 - val_recall: 0.9390\n",
      "Epoch 149/1000\n",
      "688/688 [==============================] - 0s 205us/step - loss: 0.0551 - acc: 0.9738 - recall: 0.9765 - val_loss: 0.2903 - val_acc: 0.9358 - val_recall: 0.9332\n",
      "Epoch 150/1000\n",
      "688/688 [==============================] - 0s 201us/step - loss: 0.0573 - acc: 0.9738 - recall: 0.9670 - val_loss: 0.2957 - val_acc: 0.9426 - val_recall: 0.9444\n",
      "Epoch 151/1000\n",
      "688/688 [==============================] - 0s 206us/step - loss: 0.0629 - acc: 0.9782 - recall: 0.9754 - val_loss: 0.2936 - val_acc: 0.9459 - val_recall: 0.9502\n",
      "Epoch 152/1000\n",
      "688/688 [==============================] - 0s 206us/step - loss: 0.0631 - acc: 0.9753 - recall: 0.9688 - val_loss: 0.2882 - val_acc: 0.9459 - val_recall: 0.9502\n"
     ]
    },
    {
     "data": {
      "text/plain": [
       "<keras.callbacks.History at 0x7f9606172c50>"
      ]
     },
     "execution_count": 22,
     "metadata": {},
     "output_type": "execute_result"
    }
   ],
   "source": [
    "import os\n",
    "model=getModel()\n",
    "model.fit(X_train_under_array, y_train_under_array,\n",
    "          batch_size=24,\n",
    "          epochs=1000,\n",
    "          verbose=1,\n",
    "          validation_data=(X_test_under_array, y_test_under_array),\n",
    "          callbacks=callbacks)"
   ]
  },
  {
   "cell_type": "code",
   "execution_count": 23,
   "metadata": {},
   "outputs": [
    {
     "name": "stdout",
     "output_type": "stream",
     "text": [
      "284807/284807 [==============================] - 14s 51us/step\n",
      "Original dataset loss: 0.103024626855\n",
      "Original dataset accuracy: 0.963308481817\n"
     ]
    }
   ],
   "source": [
    "score = model.evaluate(X.as_matrix(), y.as_matrix(), batch_size=24)\n",
    "print('Original dataset loss:', score[0])\n",
    "print('Original dataset accuracy:', score[1])"
   ]
  },
  {
   "cell_type": "code",
   "execution_count": 24,
   "metadata": {},
   "outputs": [
    {
     "name": "stdout",
     "output_type": "stream",
     "text": [
      "284807/284807 [==============================] - 9s 30us/step\n"
     ]
    }
   ],
   "source": [
    "y_pred_dl = model.predict(X.as_matrix(), batch_size=24, verbose=1)"
   ]
  },
  {
   "cell_type": "code",
   "execution_count": 25,
   "metadata": {},
   "outputs": [
    {
     "name": "stdout",
     "output_type": "stream",
     "text": [
      "Recall : 0.975609756098\n",
      "             precision    recall  f1-score   support\n",
      "\n",
      "          0       1.00      0.96      0.98    284315\n",
      "          1       0.04      0.98      0.08       492\n",
      "\n",
      "avg / total       1.00      0.96      0.98    284807\n",
      "\n"
     ]
    },
    {
     "data": {
      "image/png": "[encoded data removed]",
      "text/plain": [
       "<matplotlib.figure.Figure at 0x7f9604649080>"
      ]
     },
     "metadata": {},
     "output_type": "display_data"
    }
   ],
   "source": [
    "confuction_matrix_dl = confusion_matrix(y.as_matrix(), np.round(y_pred_dl))\n",
    "# print(confuction_matrix_dl)\n",
    "print('Recall :', confuction_matrix_dl[1,1]/(confuction_matrix_dl[1,0]+confuction_matrix_dl[1,1]))\n",
    "print(metrics.classification_report(y.as_matrix(), np.round(y_pred_dl)))\n",
    "class_names = [0,1]\n",
    "plt.figure()\n",
    "plot_confusion_matrix(confuction_matrix_dl\n",
    "                      , classes=class_names\n",
    "                      , title='Confusion matrix')\n",
    "plt.show()"
   ]
  },
  {
   "cell_type": "markdown",
   "metadata": {},
   "source": [
    "## Unsupervised Learning\n",
    "\n",
    "#### Preprocessing"
   ]
  },
  {
   "cell_type": "code",
   "execution_count": 26,
   "metadata": {
    "collapsed": true
   },
   "outputs": [],
   "source": [
    "X_train, X_test, y_train, y_test = train_test_split(\n",
    "    X, y, test_size=0.2, random_state=0\n",
    ")\n",
    "\n",
    "X_train_good = X_train[y_train == 0]"
   ]
  },
  {
   "cell_type": "markdown",
   "metadata": {},
   "source": [
    "### One-Class SVM"
   ]
  },
  {
   "cell_type": "code",
   "execution_count": 27,
   "metadata": {
    "collapsed": true
   },
   "outputs": [],
   "source": [
    "# Instantiate normalisation \n",
    "# nrm = MinMaxScaler()"
   ]
  },
  {
   "cell_type": "code",
   "execution_count": 28,
   "metadata": {},
   "outputs": [],
   "source": [
    "# one_svm = OneClassSVM(random_state=2008, nu=0.2) # Nu set by trial and error\n",
    "# svm_pl = Pipeline([('Normalise', nrm),\n",
    "#                    ('SVM', one_svm)])\n",
    "# svm_pl.fit(X_train_good)"
   ]
  },
  {
   "cell_type": "code",
   "execution_count": 29,
   "metadata": {},
   "outputs": [],
   "source": [
    "# preds = svm_pl.predict(X_test)  \n",
    "# preds = ((preds * -1) + 1) / 2\n",
    "\n",
    "# print(metrics.classification_report(y_test, preds))\n",
    "# confuction_matrix_dl = confusion_matrix(y_test, preds)\n",
    "# print(confuction_matrix_dl)"
   ]
  },
  {
   "cell_type": "markdown",
   "metadata": {},
   "source": [
    "### Autoencoder\n",
    "\n",
    "#### Building the model"
   ]
  },
  {
   "cell_type": "code",
   "execution_count": 30,
   "metadata": {},
   "outputs": [],
   "source": [
    "input_dim = X_train.shape[1]\n",
    "encoding_dim = 14\n",
    "nb_epoch = 100\n",
    "batch_size = 32"
   ]
  },
  {
   "cell_type": "code",
   "execution_count": 37,
   "metadata": {
    "collapsed": true
   },
   "outputs": [],
   "source": [
    "def getAutoEncoderModel(input_dim, encoding_dim):\n",
    "    input_layer = Input(shape=(input_dim, ))\n",
    "\n",
    "    encoder = Dense(encoding_dim, activation=\"tanh\", \n",
    "                    activity_regularizer=regularizers.l1(10e-5))(input_layer)\n",
    "    encoder = Dense(int(encoding_dim / 2), activation=\"relu\")(encoder)\n",
    "\n",
    "    decoder = Dense(int(encoding_dim / 2), activation='tanh')(encoder)\n",
    "    decoder = Dense(input_dim, activation='relu')(decoder)\n",
    "\n",
    "    autoencoder = Model(inputs=input_layer, outputs=decoder)\n",
    "    \n",
    "    autoencoder.compile(optimizer='adam', \n",
    "                    loss='mean_squared_error', \n",
    "                    metrics=['accuracy'])\n",
    "    \n",
    "    return autoencoder"
   ]
  },
  {
   "cell_type": "code",
   "execution_count": 38,
   "metadata": {},
   "outputs": [
    {
     "name": "stdout",
     "output_type": "stream",
     "text": [
      "Train on 227845 samples, validate on 56962 samples\n",
      "Epoch 1/100\n",
      "227845/227845 [==============================] - 23s 100us/step - loss: 0.8774 - acc: 0.5558 - val_loss: 0.8467 - val_acc: 0.6053\n",
      "Epoch 2/100\n",
      "227845/227845 [==============================] - 23s 101us/step - loss: 0.8146 - acc: 0.6037 - val_loss: 0.8262 - val_acc: 0.6132\n",
      "Epoch 3/100\n",
      "227845/227845 [==============================] - 24s 104us/step - loss: 0.8027 - acc: 0.6096 - val_loss: 0.8188 - val_acc: 0.6161\n",
      "Epoch 4/100\n",
      "227845/227845 [==============================] - 23s 99us/step - loss: 0.7959 - acc: 0.6094 - val_loss: 0.8113 - val_acc: 0.6139\n",
      "Epoch 5/100\n",
      "227845/227845 [==============================] - 22s 97us/step - loss: 0.7893 - acc: 0.6136 - val_loss: 0.8060 - val_acc: 0.6193\n",
      "Epoch 6/100\n",
      "227845/227845 [==============================] - 22s 98us/step - loss: 0.7860 - acc: 0.6174 - val_loss: 0.8046 - val_acc: 0.6232\n",
      "Epoch 7/100\n",
      "227845/227845 [==============================] - 22s 98us/step - loss: 0.7827 - acc: 0.6209 - val_loss: 0.7997 - val_acc: 0.6265\n",
      "Epoch 8/100\n",
      "227845/227845 [==============================] - 23s 101us/step - loss: 0.7797 - acc: 0.6287 - val_loss: 0.7992 - val_acc: 0.6370\n",
      "Epoch 9/100\n",
      "227845/227845 [==============================] - 24s 105us/step - loss: 0.7781 - acc: 0.6338 - val_loss: 0.7971 - val_acc: 0.6446\n",
      "Epoch 10/100\n",
      "227845/227845 [==============================] - 23s 99us/step - loss: 0.7769 - acc: 0.6379 - val_loss: 0.7961 - val_acc: 0.6381\n",
      "Epoch 11/100\n",
      "227845/227845 [==============================] - 22s 98us/step - loss: 0.7754 - acc: 0.6398 - val_loss: 0.7930 - val_acc: 0.6421\n",
      "Epoch 12/100\n",
      "227845/227845 [==============================] - 23s 99us/step - loss: 0.7743 - acc: 0.6405 - val_loss: 0.7945 - val_acc: 0.6344\n",
      "Epoch 13/100\n",
      "227845/227845 [==============================] - 25s 112us/step - loss: 0.7733 - acc: 0.6410 - val_loss: 0.7922 - val_acc: 0.6437\n",
      "Epoch 14/100\n",
      "227845/227845 [==============================] - 23s 100us/step - loss: 0.7731 - acc: 0.6414 - val_loss: 0.7908 - val_acc: 0.6458\n",
      "Epoch 15/100\n",
      "227845/227845 [==============================] - 23s 100us/step - loss: 0.7723 - acc: 0.6416 - val_loss: 0.7900 - val_acc: 0.6451\n",
      "Epoch 16/100\n",
      "227845/227845 [==============================] - 23s 99us/step - loss: 0.7718 - acc: 0.6423 - val_loss: 0.7901 - val_acc: 0.6462\n",
      "Epoch 17/100\n",
      "227845/227845 [==============================] - 23s 99us/step - loss: 0.7712 - acc: 0.6427 - val_loss: 0.7901 - val_acc: 0.6443\n",
      "Epoch 18/100\n",
      "227845/227845 [==============================] - 23s 101us/step - loss: 0.7712 - acc: 0.6423 - val_loss: 0.7900 - val_acc: 0.6492\n",
      "Epoch 19/100\n",
      "227845/227845 [==============================] - 23s 100us/step - loss: 0.7705 - acc: 0.6431 - val_loss: 0.7887 - val_acc: 0.6476\n",
      "Epoch 20/100\n",
      "227845/227845 [==============================] - 24s 106us/step - loss: 0.7705 - acc: 0.6448 - val_loss: 0.7919 - val_acc: 0.6493\n",
      "Epoch 21/100\n",
      "227845/227845 [==============================] - 23s 99us/step - loss: 0.7700 - acc: 0.6453 - val_loss: 0.7910 - val_acc: 0.6459\n",
      "Epoch 22/100\n",
      "227845/227845 [==============================] - 22s 97us/step - loss: 0.7695 - acc: 0.6452 - val_loss: 0.7893 - val_acc: 0.6510\n",
      "Epoch 23/100\n",
      "227845/227845 [==============================] - 22s 97us/step - loss: 0.7697 - acc: 0.6452 - val_loss: 0.7881 - val_acc: 0.6472\n",
      "Epoch 24/100\n",
      "227845/227845 [==============================] - 23s 102us/step - loss: 0.7694 - acc: 0.6464 - val_loss: 0.7883 - val_acc: 0.6506\n",
      "Epoch 25/100\n",
      "227845/227845 [==============================] - 23s 103us/step - loss: 0.7690 - acc: 0.6463 - val_loss: 0.7882 - val_acc: 0.6511\n",
      "Epoch 26/100\n",
      "227845/227845 [==============================] - 22s 98us/step - loss: 0.7689 - acc: 0.6467 - val_loss: 0.7872 - val_acc: 0.6503\n",
      "Epoch 27/100\n",
      "227845/227845 [==============================] - 24s 106us/step - loss: 0.7691 - acc: 0.6471 - val_loss: 0.7875 - val_acc: 0.6534\n",
      "Epoch 28/100\n",
      "227845/227845 [==============================] - 23s 103us/step - loss: 0.7686 - acc: 0.6471 - val_loss: 0.7876 - val_acc: 0.6463\n",
      "Epoch 29/100\n",
      "227845/227845 [==============================] - 24s 104us/step - loss: 0.7691 - acc: 0.6474 - val_loss: 0.7879 - val_acc: 0.6550\n",
      "Epoch 30/100\n",
      "227845/227845 [==============================] - 24s 107us/step - loss: 0.7684 - acc: 0.6484 - val_loss: 0.7914 - val_acc: 0.6505\n",
      "Epoch 31/100\n",
      "227845/227845 [==============================] - 23s 101us/step - loss: 0.7687 - acc: 0.6478 - val_loss: 0.7871 - val_acc: 0.6525\n",
      "Epoch 32/100\n",
      "227845/227845 [==============================] - 22s 96us/step - loss: 0.7683 - acc: 0.6483 - val_loss: 0.7877 - val_acc: 0.6537\n",
      "Epoch 33/100\n",
      "227845/227845 [==============================] - 22s 96us/step - loss: 0.7683 - acc: 0.6490 - val_loss: 0.7864 - val_acc: 0.6499\n",
      "Epoch 34/100\n",
      "227845/227845 [==============================] - 22s 96us/step - loss: 0.7679 - acc: 0.6483 - val_loss: 0.7869 - val_acc: 0.6529\n",
      "Epoch 35/100\n",
      "227845/227845 [==============================] - 22s 96us/step - loss: 0.7679 - acc: 0.6486 - val_loss: 0.7859 - val_acc: 0.6496\n",
      "Epoch 36/100\n",
      "227845/227845 [==============================] - 25s 108us/step - loss: 0.7678 - acc: 0.6494 - val_loss: 0.7873 - val_acc: 0.6535\n",
      "Epoch 37/100\n",
      "227845/227845 [==============================] - 25s 112us/step - loss: 0.7679 - acc: 0.6496 - val_loss: 0.7882 - val_acc: 0.6474\n",
      "Epoch 38/100\n",
      "227845/227845 [==============================] - 24s 105us/step - loss: 0.7677 - acc: 0.6496 - val_loss: 0.7850 - val_acc: 0.6563\n",
      "Epoch 39/100\n",
      "227845/227845 [==============================] - 25s 109us/step - loss: 0.7676 - acc: 0.6497 - val_loss: 0.7883 - val_acc: 0.6510\n",
      "Epoch 40/100\n",
      "227845/227845 [==============================] - 26s 115us/step - loss: 0.7673 - acc: 0.6492 - val_loss: 0.7914 - val_acc: 0.6476\n",
      "Epoch 41/100\n",
      "227845/227845 [==============================] - 26s 115us/step - loss: 0.7677 - acc: 0.6492 - val_loss: 0.7848 - val_acc: 0.6532\n",
      "Epoch 42/100\n",
      "227845/227845 [==============================] - 26s 115us/step - loss: 0.7670 - acc: 0.6495 - val_loss: 0.7875 - val_acc: 0.6480\n",
      "Epoch 43/100\n",
      "227845/227845 [==============================] - 26s 116us/step - loss: 0.7671 - acc: 0.6492 - val_loss: 0.7862 - val_acc: 0.6535\n",
      "Epoch 44/100\n",
      "227845/227845 [==============================] - 25s 111us/step - loss: 0.7670 - acc: 0.6497 - val_loss: 0.7844 - val_acc: 0.6591\n",
      "Epoch 45/100\n",
      "227845/227845 [==============================] - 25s 111us/step - loss: 0.7674 - acc: 0.6482 - val_loss: 0.7847 - val_acc: 0.6540\n",
      "Epoch 46/100\n",
      "227845/227845 [==============================] - 25s 111us/step - loss: 0.7670 - acc: 0.6495 - val_loss: 0.7871 - val_acc: 0.6514\n",
      "Epoch 47/100\n",
      "227845/227845 [==============================] - 25s 109us/step - loss: 0.7670 - acc: 0.6494 - val_loss: 0.7852 - val_acc: 0.6507\n",
      "Epoch 48/100\n",
      "227845/227845 [==============================] - 24s 106us/step - loss: 0.7670 - acc: 0.6495 - val_loss: 0.7853 - val_acc: 0.6531\n",
      "Epoch 49/100\n",
      "227845/227845 [==============================] - 25s 111us/step - loss: 0.7670 - acc: 0.6488 - val_loss: 0.7930 - val_acc: 0.6451\n",
      "Epoch 50/100\n",
      "227845/227845 [==============================] - 26s 115us/step - loss: 0.7669 - acc: 0.6487 - val_loss: 0.7848 - val_acc: 0.6553\n",
      "Epoch 51/100\n",
      "227845/227845 [==============================] - 26s 113us/step - loss: 0.7666 - acc: 0.6487 - val_loss: 0.7866 - val_acc: 0.6608\n",
      "Epoch 52/100\n",
      "227845/227845 [==============================] - 26s 116us/step - loss: 0.7666 - acc: 0.6492 - val_loss: 0.7844 - val_acc: 0.6535\n",
      "Epoch 53/100\n",
      "227845/227845 [==============================] - 24s 105us/step - loss: 0.7663 - acc: 0.6495 - val_loss: 0.7865 - val_acc: 0.6428\n",
      "Epoch 54/100\n",
      "227845/227845 [==============================] - 24s 105us/step - loss: 0.7664 - acc: 0.6496 - val_loss: 0.7841 - val_acc: 0.6548\n",
      "Epoch 55/100\n",
      "227845/227845 [==============================] - 26s 116us/step - loss: 0.7665 - acc: 0.6491 - val_loss: 0.7853 - val_acc: 0.6493\n",
      "Epoch 56/100\n",
      "227845/227845 [==============================] - 25s 109us/step - loss: 0.7667 - acc: 0.6491 - val_loss: 0.7837 - val_acc: 0.6539\n",
      "Epoch 57/100\n",
      "227845/227845 [==============================] - 24s 106us/step - loss: 0.7661 - acc: 0.6493 - val_loss: 0.7854 - val_acc: 0.6513\n",
      "Epoch 58/100\n"
     ]
    },
    {
     "name": "stdout",
     "output_type": "stream",
     "text": [
      "227845/227845 [==============================] - 23s 100us/step - loss: 0.7664 - acc: 0.6489 - val_loss: 0.7863 - val_acc: 0.6546\n",
      "Epoch 59/100\n",
      "227845/227845 [==============================] - 24s 104us/step - loss: 0.7667 - acc: 0.6492 - val_loss: 0.7850 - val_acc: 0.6462\n",
      "Epoch 60/100\n",
      "227845/227845 [==============================] - 23s 101us/step - loss: 0.7661 - acc: 0.6495 - val_loss: 0.7911 - val_acc: 0.6449\n",
      "Epoch 61/100\n",
      "227845/227845 [==============================] - 24s 104us/step - loss: 0.7662 - acc: 0.6488 - val_loss: 0.7837 - val_acc: 0.6593\n",
      "Epoch 62/100\n",
      "227845/227845 [==============================] - 23s 101us/step - loss: 0.7664 - acc: 0.6492 - val_loss: 0.7854 - val_acc: 0.6520\n",
      "Epoch 63/100\n",
      "227845/227845 [==============================] - 24s 106us/step - loss: 0.7662 - acc: 0.6493 - val_loss: 0.7844 - val_acc: 0.6541\n",
      "Epoch 64/100\n",
      "227845/227845 [==============================] - 23s 101us/step - loss: 0.7659 - acc: 0.6492 - val_loss: 0.7863 - val_acc: 0.6446\n",
      "Epoch 65/100\n",
      "227845/227845 [==============================] - 23s 101us/step - loss: 0.7661 - acc: 0.6490 - val_loss: 0.7852 - val_acc: 0.6439\n",
      "Epoch 66/100\n",
      "227845/227845 [==============================] - 23s 100us/step - loss: 0.7659 - acc: 0.6496 - val_loss: 0.7855 - val_acc: 0.6538\n",
      "Epoch 67/100\n",
      "227845/227845 [==============================] - 24s 106us/step - loss: 0.7663 - acc: 0.6496 - val_loss: 0.7845 - val_acc: 0.6539\n",
      "Epoch 68/100\n",
      "227845/227845 [==============================] - 26s 112us/step - loss: 0.7658 - acc: 0.6504 - val_loss: 0.7901 - val_acc: 0.6503\n",
      "Epoch 69/100\n",
      "227845/227845 [==============================] - 25s 110us/step - loss: 0.7660 - acc: 0.6500 - val_loss: 0.7882 - val_acc: 0.6544\n",
      "Epoch 70/100\n",
      "227845/227845 [==============================] - 23s 101us/step - loss: 0.7658 - acc: 0.6501 - val_loss: 0.7833 - val_acc: 0.6525\n",
      "Epoch 71/100\n",
      "227845/227845 [==============================] - 23s 99us/step - loss: 0.7659 - acc: 0.6494 - val_loss: 0.7831 - val_acc: 0.6592\n",
      "Epoch 72/100\n",
      "227845/227845 [==============================] - 22s 98us/step - loss: 0.7660 - acc: 0.6506 - val_loss: 0.7844 - val_acc: 0.6568\n",
      "Epoch 73/100\n",
      "227845/227845 [==============================] - 23s 100us/step - loss: 0.7661 - acc: 0.6502 - val_loss: 0.7839 - val_acc: 0.6504\n",
      "Epoch 74/100\n",
      "227845/227845 [==============================] - 24s 106us/step - loss: 0.7657 - acc: 0.6502 - val_loss: 0.7837 - val_acc: 0.6508\n",
      "Epoch 75/100\n",
      "227845/227845 [==============================] - 24s 105us/step - loss: 0.7661 - acc: 0.6499 - val_loss: 0.7834 - val_acc: 0.6549\n",
      "Epoch 76/100\n",
      "227845/227845 [==============================] - 23s 103us/step - loss: 0.7659 - acc: 0.6495 - val_loss: 0.7849 - val_acc: 0.6535\n",
      "Epoch 77/100\n",
      "227845/227845 [==============================] - 24s 104us/step - loss: 0.7660 - acc: 0.6501 - val_loss: 0.7833 - val_acc: 0.6531\n",
      "Epoch 78/100\n",
      "227845/227845 [==============================] - 24s 104us/step - loss: 0.7661 - acc: 0.6497 - val_loss: 0.7856 - val_acc: 0.6464\n",
      "Epoch 79/100\n",
      "227845/227845 [==============================] - 24s 105us/step - loss: 0.7659 - acc: 0.6496 - val_loss: 0.7848 - val_acc: 0.6528\n",
      "Epoch 80/100\n",
      "227845/227845 [==============================] - 24s 105us/step - loss: 0.7657 - acc: 0.6495 - val_loss: 0.7826 - val_acc: 0.6530\n",
      "Epoch 81/100\n",
      "227845/227845 [==============================] - 23s 101us/step - loss: 0.7659 - acc: 0.6505 - val_loss: 0.7847 - val_acc: 0.6535\n",
      "Epoch 82/100\n",
      "227845/227845 [==============================] - 23s 99us/step - loss: 0.7659 - acc: 0.6502 - val_loss: 0.7834 - val_acc: 0.6538\n",
      "Epoch 83/100\n",
      "227845/227845 [==============================] - 23s 100us/step - loss: 0.7657 - acc: 0.6505 - val_loss: 0.7874 - val_acc: 0.6486\n",
      "Epoch 84/100\n",
      "227845/227845 [==============================] - 23s 100us/step - loss: 0.7657 - acc: 0.6507 - val_loss: 0.7855 - val_acc: 0.6474\n",
      "Epoch 85/100\n",
      "227845/227845 [==============================] - 23s 100us/step - loss: 0.7658 - acc: 0.6503 - val_loss: 0.7834 - val_acc: 0.6486\n",
      "Epoch 86/100\n",
      "227845/227845 [==============================] - 23s 100us/step - loss: 0.7656 - acc: 0.6503 - val_loss: 0.7830 - val_acc: 0.6559\n",
      "Epoch 87/100\n",
      "227845/227845 [==============================] - 24s 103us/step - loss: 0.7656 - acc: 0.6502 - val_loss: 0.7848 - val_acc: 0.6579\n",
      "Epoch 88/100\n",
      "227845/227845 [==============================] - 23s 99us/step - loss: 0.7654 - acc: 0.6502 - val_loss: 0.7832 - val_acc: 0.6547\n",
      "Epoch 89/100\n",
      "227845/227845 [==============================] - 23s 102us/step - loss: 0.7657 - acc: 0.6497 - val_loss: 0.7829 - val_acc: 0.6557\n",
      "Epoch 90/100\n",
      "227845/227845 [==============================] - 23s 102us/step - loss: 0.7653 - acc: 0.6497 - val_loss: 0.7831 - val_acc: 0.6526\n",
      "Epoch 91/100\n",
      "227845/227845 [==============================] - 23s 102us/step - loss: 0.7654 - acc: 0.6504 - val_loss: 0.7848 - val_acc: 0.6490\n",
      "Epoch 92/100\n",
      "227845/227845 [==============================] - 23s 100us/step - loss: 0.7653 - acc: 0.6506 - val_loss: 0.7844 - val_acc: 0.6542\n",
      "Epoch 93/100\n",
      "227845/227845 [==============================] - 24s 105us/step - loss: 0.7653 - acc: 0.6501 - val_loss: 0.7858 - val_acc: 0.6546\n",
      "Epoch 94/100\n",
      "227845/227845 [==============================] - 23s 101us/step - loss: 0.7653 - acc: 0.6509 - val_loss: 0.7833 - val_acc: 0.6548\n",
      "Epoch 95/100\n",
      "227845/227845 [==============================] - 23s 100us/step - loss: 0.7657 - acc: 0.6502 - val_loss: 0.7824 - val_acc: 0.6551\n",
      "Epoch 96/100\n",
      "227845/227845 [==============================] - 23s 102us/step - loss: 0.7656 - acc: 0.6500 - val_loss: 0.7869 - val_acc: 0.6486\n",
      "Epoch 97/100\n",
      "227845/227845 [==============================] - 23s 100us/step - loss: 0.7656 - acc: 0.6493 - val_loss: 0.7839 - val_acc: 0.6495\n",
      "Epoch 98/100\n",
      "227845/227845 [==============================] - 23s 100us/step - loss: 0.7653 - acc: 0.6493 - val_loss: 0.7831 - val_acc: 0.6510\n",
      "Epoch 99/100\n",
      "227845/227845 [==============================] - 24s 104us/step - loss: 0.7654 - acc: 0.6504 - val_loss: 0.7835 - val_acc: 0.6588\n",
      "Epoch 100/100\n",
      "227845/227845 [==============================] - 24s 106us/step - loss: 0.7655 - acc: 0.6501 - val_loss: 0.7826 - val_acc: 0.6613\n"
     ]
    }
   ],
   "source": [
    "file_path = \".model_weights_autoencoder.hdf5\"\n",
    "callbacks = get_callbacks(filepath=file_path, patience=100)\n",
    "\n",
    "autoencoder = getAutoEncoderModel(input_dim, encoding_dim)\n",
    "history = autoencoder.fit(X_train, X_train,\n",
    "                    epochs=nb_epoch,\n",
    "                    batch_size=batch_size,\n",
    "                    shuffle=True,\n",
    "                    validation_data=(X_test, X_test),\n",
    "                    verbose=1,\n",
    "                    callbacks=callbacks).history"
   ]
  },
  {
   "cell_type": "code",
   "execution_count": 40,
   "metadata": {},
   "outputs": [
    {
     "data": {
      "image/png": "[encoded data removed]",
      "text/plain": [
       "<matplotlib.figure.Figure at 0x7f9668964470>"
      ]
     },
     "metadata": {},
     "output_type": "display_data"
    }
   ],
   "source": [
    "plt.plot(history['loss'])\n",
    "plt.plot(history['val_loss'])\n",
    "plt.title('model loss')\n",
    "plt.ylabel('loss')\n",
    "plt.xlabel('epoch')\n",
    "plt.legend(['train', 'test'], loc='upper right');"
   ]
  },
  {
   "cell_type": "code",
   "execution_count": 43,
   "metadata": {},
   "outputs": [
    {
     "data": {
      "text/html": [
       "<div>\n",
       "<style>\n",
       "    .dataframe thead tr:only-child th {\n",
       "        text-align: right;\n",
       "    }\n",
       "\n",
       "    .dataframe thead th {\n",
       "        text-align: left;\n",
       "    }\n",
       "\n",
       "    .dataframe tbody tr th {\n",
       "        vertical-align: top;\n",
       "    }\n",
       "</style>\n",
       "<table border=\"1\" class=\"dataframe\">\n",
       "  <thead>\n",
       "    <tr style=\"text-align: right;\">\n",
       "      <th></th>\n",
       "      <th>reconstruction_error</th>\n",
       "      <th>true_class</th>\n",
       "    </tr>\n",
       "  </thead>\n",
       "  <tbody>\n",
       "    <tr>\n",
       "      <th>count</th>\n",
       "      <td>56962.000000</td>\n",
       "      <td>56962.000000</td>\n",
       "    </tr>\n",
       "    <tr>\n",
       "      <th>mean</th>\n",
       "      <td>0.775188</td>\n",
       "      <td>0.001773</td>\n",
       "    </tr>\n",
       "    <tr>\n",
       "      <th>std</th>\n",
       "      <td>7.355870</td>\n",
       "      <td>0.042071</td>\n",
       "    </tr>\n",
       "    <tr>\n",
       "      <th>min</th>\n",
       "      <td>0.051842</td>\n",
       "      <td>0.000000</td>\n",
       "    </tr>\n",
       "    <tr>\n",
       "      <th>25%</th>\n",
       "      <td>0.243964</td>\n",
       "      <td>0.000000</td>\n",
       "    </tr>\n",
       "    <tr>\n",
       "      <th>50%</th>\n",
       "      <td>0.401900</td>\n",
       "      <td>0.000000</td>\n",
       "    </tr>\n",
       "    <tr>\n",
       "      <th>75%</th>\n",
       "      <td>0.670145</td>\n",
       "      <td>0.000000</td>\n",
       "    </tr>\n",
       "    <tr>\n",
       "      <th>max</th>\n",
       "      <td>1552.368245</td>\n",
       "      <td>1.000000</td>\n",
       "    </tr>\n",
       "  </tbody>\n",
       "</table>\n",
       "</div>"
      ],
      "text/plain": [
       "       reconstruction_error    true_class\n",
       "count          56962.000000  56962.000000\n",
       "mean               0.775188      0.001773\n",
       "std                7.355870      0.042071\n",
       "min                0.051842      0.000000\n",
       "25%                0.243964      0.000000\n",
       "50%                0.401900      0.000000\n",
       "75%                0.670145      0.000000\n",
       "max             1552.368245      1.000000"
      ]
     },
     "execution_count": 43,
     "metadata": {},
     "output_type": "execute_result"
    }
   ],
   "source": [
    "autoe_preds = autoencoder.predict(X_test)\n",
    "mse = np.mean(np.power(X_test - autoe_preds, 2), axis=1)\n",
    "error_df = pd.DataFrame({'reconstruction_error': mse,\n",
    "                        'true_class': y_test})\n",
    "error_df.describe()"
   ]
  },
  {
   "cell_type": "markdown",
   "metadata": {},
   "source": [
    "#### Reconstruction error without fraud"
   ]
  },
  {
   "cell_type": "code",
   "execution_count": 44,
   "metadata": {},
   "outputs": [
    {
     "data": {
      "image/png": "[encoded data removed]",
      "text/plain": [
       "<matplotlib.figure.Figure at 0x7f95f43e3e48>"
      ]
     },
     "metadata": {},
     "output_type": "display_data"
    }
   ],
   "source": [
    "fig = plt.figure()\n",
    "ax = fig.add_subplot(111)\n",
    "normal_error_df = error_df[(error_df['true_class']== 0) & (error_df['reconstruction_error'] < 10)]\n",
    "_ = ax.hist(normal_error_df.reconstruction_error.values, bins=10)"
   ]
  },
  {
   "cell_type": "markdown",
   "metadata": {},
   "source": [
    "#### Reconstruction error with fraud"
   ]
  },
  {
   "cell_type": "code",
   "execution_count": 45,
   "metadata": {},
   "outputs": [
    {
     "data": {
      "image/png": "[encoded data removed]",
      "text/plain": [
       "<matplotlib.figure.Figure at 0x7f95f42d1b38>"
      ]
     },
     "metadata": {},
     "output_type": "display_data"
    }
   ],
   "source": [
    "fig = plt.figure()\n",
    "ax = fig.add_subplot(111)\n",
    "fraud_error_df = error_df[error_df['true_class'] == 1]\n",
    "_ = ax.hist(fraud_error_df.reconstruction_error.values, bins=10)"
   ]
  },
  {
   "cell_type": "code",
   "execution_count": 48,
   "metadata": {},
   "outputs": [
    {
     "data": {
      "image/png": "[encoded data removed]",
      "text/plain": [
       "<matplotlib.figure.Figure at 0x7f95f434cfd0>"
      ]
     },
     "metadata": {},
     "output_type": "display_data"
    }
   ],
   "source": [
    "fpr, tpr, thresholds = metrics.roc_curve(error_df.true_class, error_df.reconstruction_error)\n",
    "roc_auc = metrics.auc(fpr, tpr)\n",
    "\n",
    "plt.title('Receiver Operating Characteristic')\n",
    "plt.plot(fpr, tpr, label='AUC = %0.4f'% roc_auc)\n",
    "plt.legend(loc='lower right')\n",
    "plt.plot([0,1],[0,1],'r--')\n",
    "plt.xlim([-0.001, 1])\n",
    "plt.ylim([0, 1.001])\n",
    "plt.ylabel('True Positive Rate')\n",
    "plt.xlabel('False Positive Rate')\n",
    "plt.show();"
   ]
  },
  {
   "cell_type": "code",
   "execution_count": 49,
   "metadata": {},
   "outputs": [
    {
     "data": {
      "image/png": "[encoded data removed]",
      "text/plain": [
       "<matplotlib.figure.Figure at 0x7f95f42b50b8>"
      ]
     },
     "metadata": {},
     "output_type": "display_data"
    }
   ],
   "source": [
    "precision, recall, th = metrics.precision_recall_curve(error_df.true_class, error_df.reconstruction_error)\n",
    "plt.plot(recall, precision, 'b', label='Precision-Recall curve')\n",
    "plt.title('Recall vs Precision')\n",
    "plt.xlabel('Recall')\n",
    "plt.ylabel('Precision')\n",
    "plt.show()"
   ]
  },
  {
   "cell_type": "code",
   "execution_count": 50,
   "metadata": {},
   "outputs": [
    {
     "data": {
      "image/png": "[encoded data removed]",
      "text/plain": [
       "<matplotlib.figure.Figure at 0x7f95f43a8c50>"
      ]
     },
     "metadata": {},
     "output_type": "display_data"
    }
   ],
   "source": [
    "plt.plot(th, precision[1:], 'b', label='Threshold-Precision curve')\n",
    "plt.title('Precision for different threshold values')\n",
    "plt.xlabel('Threshold')\n",
    "plt.ylabel('Precision')\n",
    "plt.show()"
   ]
  },
  {
   "cell_type": "code",
   "execution_count": 51,
   "metadata": {},
   "outputs": [
    {
     "data": {
      "image/png": "[encoded data removed]",
      "text/plain": [
       "<matplotlib.figure.Figure at 0x7f95f430ff98>"
      ]
     },
     "metadata": {},
     "output_type": "display_data"
    }
   ],
   "source": [
    "plt.plot(th, recall[1:], 'b', label='Threshold-Recall curve')\n",
    "plt.title('Recall for different threshold values')\n",
    "plt.xlabel('Reconstruction error')\n",
    "plt.ylabel('Recall')\n",
    "plt.show()"
   ]
  },
  {
   "cell_type": "code",
   "execution_count": 52,
   "metadata": {},
   "outputs": [
    {
     "data": {
      "image/png": "[encoded data removed]",
      "text/plain": [
       "<matplotlib.figure.Figure at 0x7f95e47e1320>"
      ]
     },
     "metadata": {},
     "output_type": "display_data"
    }
   ],
   "source": [
    "threshold = 2.9\n",
    "\n",
    "groups = error_df.groupby('true_class')\n",
    "fig, ax = plt.subplots()\n",
    "\n",
    "for name, group in groups:\n",
    "    ax.plot(group.index, group.reconstruction_error, marker='o', ms=3.5, linestyle='',\n",
    "            label= \"Fraud\" if name == 1 else \"Normal\")\n",
    "ax.hlines(threshold, ax.get_xlim()[0], ax.get_xlim()[1], colors=\"r\", zorder=100, label='Threshold')\n",
    "ax.legend()\n",
    "plt.title(\"Reconstruction error for different classes\")\n",
    "plt.ylabel(\"Reconstruction error\")\n",
    "plt.xlabel(\"Data point index\")\n",
    "plt.show();"
   ]
  },
  {
   "cell_type": "code",
   "execution_count": 59,
   "metadata": {},
   "outputs": [
    {
     "name": "stdout",
     "output_type": "stream",
     "text": [
      "             precision    recall  f1-score   support\n",
      "\n",
      "          0       1.00      0.98      0.99     56861\n",
      "          1       0.06      0.83      0.12       101\n",
      "\n",
      "avg / total       1.00      0.98      0.99     56962\n",
      "\n"
     ]
    },
    {
     "data": {
      "image/png": "[encoded data removed]",
      "text/plain": [
       "<matplotlib.figure.Figure at 0x7f95e4107630>"
      ]
     },
     "metadata": {},
     "output_type": "display_data"
    }
   ],
   "source": [
    "y_pred = [1 if e > threshold else 0 for e in error_df.reconstruction_error.values]\n",
    "conf_matrix = confusion_matrix(error_df.true_class, y_pred)\n",
    "print(metrics.classification_report(error_df.true_class, y_pred))\n",
    "\n",
    "plt.figure(figsize=(12, 12))\n",
    "sns.heatmap(conf_matrix, xticklabels=LABELS, yticklabels=LABELS, annot=True, fmt=\"d\");\n",
    "plt.title(\"Confusion matrix\")\n",
    "plt.ylabel('True class')\n",
    "plt.xlabel('Predicted class')\n",
    "plt.show()"
   ]
  },
  {
   "cell_type": "code",
   "execution_count": null,
   "metadata": {
    "collapsed": true
   },
   "outputs": [],
   "source": []
  }
 ],
 "metadata": {
  "kernelspec": {
   "display_name": "Python 3",
   "language": "python",
   "name": "python3"
  },
  "language_info": {
   "codemirror_mode": {
    "name": "ipython",
    "version": 3
   },
   "file_extension": ".py",
   "mimetype": "text/x-python",
   "name": "python",
   "nbconvert_exporter": "python",
   "pygments_lexer": "ipython3",
   "version": "3.5.4"
  }
 },
 "nbformat": 4,
 "nbformat_minor": 2
}
